{
 "cells": [
  {
   "cell_type": "markdown",
   "metadata": {
    "collapsed": true,
    "pycharm": {
     "name": "#%% md\n"
    }
   },
   "source": [
    "## Aram Data and Analysis"
   ]
  },
  {
   "cell_type": "code",
   "execution_count": 52,
   "outputs": [],
   "source": [
    "# imports\n",
    "from league_data import *\n",
    "from league_functions import *\n",
    "from league_constants import *\n",
    "import cassiopeia as cass\n",
    "import plotly.express as px\n",
    "import seaborn as sns"
   ],
   "metadata": {
    "collapsed": false,
    "pycharm": {
     "name": "#%%\n"
    }
   }
  },
  {
   "cell_type": "markdown",
   "source": [
    "#### TODO\n",
    "-convert dill dumping to csv\n",
    "<br> -finish fuctions\n",
    "<br> -new function ideas\n"
   ],
   "metadata": {
    "collapsed": false,
    "pycharm": {
     "name": "#%% md\n"
    }
   }
  },
  {
   "cell_type": "markdown",
   "source": [
    "#### Load Data"
   ],
   "metadata": {
    "collapsed": false,
    "pycharm": {
     "name": "#%% md\n"
    }
   }
  },
  {
   "cell_type": "code",
   "execution_count": 65,
   "outputs": [
    {
     "name": "stdout",
     "output_type": "stream",
     "text": [
      "DATA LOADED 23\n",
      "NO DATA ADDED\n",
      "\n",
      "CPU times: user 7.2 ms, sys: 2.43 ms, total: 9.63 ms\n",
      "Wall time: 7.9 ms\n"
     ]
    }
   ],
   "source": [
    "%%time\n",
    "df = load_fetch_data(zeb)"
   ],
   "metadata": {
    "collapsed": false,
    "pycharm": {
     "name": "#%%\n"
    }
   }
  },
  {
   "cell_type": "code",
   "execution_count": 54,
   "outputs": [],
   "source": [
    "champs = pd.Series(cass.get_champions(region=\"NA\"))\n",
    "champs.index = champs.apply(lambda x: x.name)\n",
    "champs = champs.apply(lambda x: x.tags[0])\n",
    "\n",
    "adc = set(champs[champs.apply(lambda x: \"Marksman\" in x)].index)\n",
    "assassin = set(champs[champs.apply(lambda x: \"Assassin\" in x)].index)\n",
    "fighter = set(champs[champs.apply(lambda x: \"Fighter\" in x)].index)\n",
    "support = set(champs[champs.apply(lambda x: \"Support\" in x)].index)\n",
    "tank = set(champs[champs.apply(lambda x: \"Tank\" in x)].index)\n",
    "mage = set(champs[champs.apply(lambda x: \"Mage\" in x)].index)\n"
   ],
   "metadata": {
    "collapsed": false,
    "pycharm": {
     "name": "#%%\n"
    }
   }
  },
  {
   "cell_type": "markdown",
   "source": [
    "#### Clean data"
   ],
   "metadata": {
    "collapsed": false
   }
  },
  {
   "cell_type": "code",
   "execution_count": 55,
   "outputs": [
    {
     "data": {
      "text/plain": "   duration  patch          id                         creation  surrender  \\\n0    1315.0  11.12  3943927493 2021-07-13 02:52:46.414068+00:00       True   \n\n                                                blue  \\\n0  [(Derroz, Viktor), (Yze, Jarvan IV), (Dodge Do...   \n\n                                                 red  \\\n0  [(DrtyPirateHooker, Zed), (ItzFiþ, Blitzcrank)...   \n\n                                            summoner  \\\n0  summoner_spell_d: Flash\\nsummoner_spell_f: Gho...   \n\n                                                side  \\\n0  [(Derroz, Viktor), (Yze, Jarvan IV), (Dodge Do...   \n\n                                           teammates  \\\n0  {Yze, rdinho9, Big Benis Boy, Dodge Down, Derroz}   \n\n                                      teamcomp   win  \n0  {Amumu, Jarvan IV, Caitlyn, Maokai, Viktor}  True  ",
      "text/html": "<div>\n<style scoped>\n    .dataframe tbody tr th:only-of-type {\n        vertical-align: middle;\n    }\n\n    .dataframe tbody tr th {\n        vertical-align: top;\n    }\n\n    .dataframe thead th {\n        text-align: right;\n    }\n</style>\n<table border=\"1\" class=\"dataframe\">\n  <thead>\n    <tr style=\"text-align: right;\">\n      <th></th>\n      <th>duration</th>\n      <th>patch</th>\n      <th>id</th>\n      <th>creation</th>\n      <th>surrender</th>\n      <th>blue</th>\n      <th>red</th>\n      <th>summoner</th>\n      <th>side</th>\n      <th>teammates</th>\n      <th>teamcomp</th>\n      <th>win</th>\n    </tr>\n  </thead>\n  <tbody>\n    <tr>\n      <th>0</th>\n      <td>1315.0</td>\n      <td>11.12</td>\n      <td>3943927493</td>\n      <td>2021-07-13 02:52:46.414068+00:00</td>\n      <td>True</td>\n      <td>[(Derroz, Viktor), (Yze, Jarvan IV), (Dodge Do...</td>\n      <td>[(DrtyPirateHooker, Zed), (ItzFiþ, Blitzcrank)...</td>\n      <td>summoner_spell_d: Flash\\nsummoner_spell_f: Gho...</td>\n      <td>[(Derroz, Viktor), (Yze, Jarvan IV), (Dodge Do...</td>\n      <td>{Yze, rdinho9, Big Benis Boy, Dodge Down, Derroz}</td>\n      <td>{Amumu, Jarvan IV, Caitlyn, Maokai, Viktor}</td>\n      <td>True</td>\n    </tr>\n  </tbody>\n</table>\n</div>"
     },
     "execution_count": 55,
     "metadata": {},
     "output_type": "execute_result"
    }
   ],
   "source": [
    "df.duration = df.duration.astype('timedelta64[s]')\n",
    "df.id = pd.to_numeric(df.id)\n",
    "df.patch = pd.to_numeric(df.patch.apply(lambda x: x.name))\n",
    "df.creation = pd.to_datetime(df.creation.apply(lambda x:str(x.utcnow())))\n",
    "df.surrender = df.surrender.astype('bool')\n",
    "df[\"side\"] = df.where(df.side == 1).red.fillna(df.where(df.side == 0).blue)\n",
    "df[\"teammates\"] = df.side.apply(lambda x: {i.name for i in x})\n",
    "df[\"teamcomp\"] = df.side.apply(lambda x: {i.champ for i in x})\n",
    "df[\"win\"] = df.summoner.apply(lambda x: x.stats.win)\n",
    "\n",
    "df.head(1)"
   ],
   "metadata": {
    "collapsed": false,
    "pycharm": {
     "name": "#%%\n"
    }
   }
  },
  {
   "cell_type": "code",
   "execution_count": 56,
   "outputs": [
    {
     "name": "stdout",
     "output_type": "stream",
     "text": [
      "<class 'pandas.core.frame.DataFrame'>\n",
      "Int64Index: 23 entries, 0 to 22\n",
      "Data columns (total 12 columns):\n",
      " #   Column     Non-Null Count  Dtype              \n",
      "---  ------     --------------  -----              \n",
      " 0   duration   23 non-null     float64            \n",
      " 1   patch      23 non-null     float64            \n",
      " 2   id         23 non-null     int64              \n",
      " 3   creation   23 non-null     datetime64[ns, UTC]\n",
      " 4   surrender  23 non-null     bool               \n",
      " 5   blue       23 non-null     object             \n",
      " 6   red        23 non-null     object             \n",
      " 7   summoner   23 non-null     object             \n",
      " 8   side       23 non-null     object             \n",
      " 9   teammates  23 non-null     object             \n",
      " 10  teamcomp   23 non-null     object             \n",
      " 11  win        23 non-null     bool               \n",
      "dtypes: bool(2), datetime64[ns, UTC](1), float64(2), int64(1), object(6)\n",
      "memory usage: 2.0+ KB\n"
     ]
    }
   ],
   "source": [
    "df.info()"
   ],
   "metadata": {
    "collapsed": false,
    "pycharm": {
     "name": "#%%\n"
    }
   }
  },
  {
   "cell_type": "markdown",
   "source": [
    "#### Filter"
   ],
   "metadata": {
    "collapsed": false,
    "pycharm": {
     "name": "#%% md\n"
    }
   }
  },
  {
   "cell_type": "code",
   "execution_count": 57,
   "outputs": [
    {
     "data": {
      "text/plain": "11"
     },
     "execution_count": 57,
     "metadata": {},
     "output_type": "execute_result"
    }
   ],
   "source": [
    "df = df[df.patch.apply(round) == 11]\n",
    "len(df)"
   ],
   "metadata": {
    "collapsed": false,
    "pycharm": {
     "name": "#%%\n"
    }
   }
  },
  {
   "cell_type": "code",
   "execution_count": 58,
   "outputs": [],
   "source": [
    "solo = df[df.teammates.apply(lambda x: len(x & friends) == 0)]\n",
    "premade = df[df.teammates.apply(lambda x: len(x & friends) != 0)]"
   ],
   "metadata": {
    "collapsed": false,
    "pycharm": {
     "name": "#%%\n"
    }
   }
  },
  {
   "cell_type": "code",
   "execution_count": 59,
   "outputs": [
    {
     "data": {
      "text/plain": "Win     54.5% 6\nLoss    45.5% 5\nName: win, dtype: object"
     },
     "execution_count": 59,
     "metadata": {},
     "output_type": "execute_result"
    }
   ],
   "source": [
    "wr(df)"
   ],
   "metadata": {
    "collapsed": false,
    "pycharm": {
     "name": "#%%\n"
    }
   }
  },
  {
   "cell_type": "code",
   "execution_count": 60,
   "outputs": [
    {
     "ename": "KeyError",
     "evalue": "'Win'",
     "output_type": "error",
     "traceback": [
      "\u001B[0;31m---------------------------------------------------------------------------\u001B[0m",
      "\u001B[0;31mKeyError\u001B[0m                                  Traceback (most recent call last)",
      "\u001B[0;32m~/Library/Python/3.8/lib/python/site-packages/pandas/core/indexes/base.py\u001B[0m in \u001B[0;36mget_loc\u001B[0;34m(self, key, method, tolerance)\u001B[0m\n\u001B[1;32m   2894\u001B[0m             \u001B[0;32mtry\u001B[0m\u001B[0;34m:\u001B[0m\u001B[0;34m\u001B[0m\u001B[0;34m\u001B[0m\u001B[0m\n\u001B[0;32m-> 2895\u001B[0;31m                 \u001B[0;32mreturn\u001B[0m \u001B[0mself\u001B[0m\u001B[0;34m.\u001B[0m\u001B[0m_engine\u001B[0m\u001B[0;34m.\u001B[0m\u001B[0mget_loc\u001B[0m\u001B[0;34m(\u001B[0m\u001B[0mcasted_key\u001B[0m\u001B[0;34m)\u001B[0m\u001B[0;34m\u001B[0m\u001B[0;34m\u001B[0m\u001B[0m\n\u001B[0m\u001B[1;32m   2896\u001B[0m             \u001B[0;32mexcept\u001B[0m \u001B[0mKeyError\u001B[0m \u001B[0;32mas\u001B[0m \u001B[0merr\u001B[0m\u001B[0;34m:\u001B[0m\u001B[0;34m\u001B[0m\u001B[0;34m\u001B[0m\u001B[0m\n",
      "\u001B[0;32mpandas/_libs/index.pyx\u001B[0m in \u001B[0;36mpandas._libs.index.IndexEngine.get_loc\u001B[0;34m()\u001B[0m\n",
      "\u001B[0;32mpandas/_libs/index.pyx\u001B[0m in \u001B[0;36mpandas._libs.index.IndexEngine.get_loc\u001B[0;34m()\u001B[0m\n",
      "\u001B[0;32mpandas/_libs/hashtable_class_helper.pxi\u001B[0m in \u001B[0;36mpandas._libs.hashtable.PyObjectHashTable.get_item\u001B[0;34m()\u001B[0m\n",
      "\u001B[0;32mpandas/_libs/hashtable_class_helper.pxi\u001B[0m in \u001B[0;36mpandas._libs.hashtable.PyObjectHashTable.get_item\u001B[0;34m()\u001B[0m\n",
      "\u001B[0;31mKeyError\u001B[0m: 'Win'",
      "\nThe above exception was the direct cause of the following exception:\n",
      "\u001B[0;31mKeyError\u001B[0m                                  Traceback (most recent call last)",
      "\u001B[0;32m<ipython-input-60-b43d9c71fc07>\u001B[0m in \u001B[0;36m<module>\u001B[0;34m\u001B[0m\n\u001B[0;32m----> 1\u001B[0;31m \u001B[0mwr\u001B[0m\u001B[0;34m(\u001B[0m\u001B[0msolo\u001B[0m\u001B[0;34m)\u001B[0m\u001B[0;34m\u001B[0m\u001B[0;34m\u001B[0m\u001B[0m\n\u001B[0m\u001B[1;32m      2\u001B[0m \u001B[0;34m\u001B[0m\u001B[0m\n",
      "\u001B[0;32m~/Documents/Programming/league/league_functions.py\u001B[0m in \u001B[0;36mwr\u001B[0;34m(dataframe)\u001B[0m\n\u001B[1;32m      7\u001B[0m     wr = dataframe.win.value_counts(normalize=True).sort_index(ascending=False).rename(\n\u001B[1;32m      8\u001B[0m         {True: \"Win\", False: \"Loss\"}).mul(100).round(1).astype(str) + '%'\n\u001B[0;32m----> 9\u001B[0;31m     \u001B[0mwr\u001B[0m\u001B[0;34m[\u001B[0m\u001B[0;34m\"Win\"\u001B[0m\u001B[0;34m]\u001B[0m \u001B[0;34m=\u001B[0m \u001B[0mwr\u001B[0m\u001B[0;34m[\u001B[0m\u001B[0;34m\"Win\"\u001B[0m\u001B[0;34m]\u001B[0m \u001B[0;34m+\u001B[0m \u001B[0;34m\" \"\u001B[0m \u001B[0;34m+\u001B[0m \u001B[0mstr\u001B[0m\u001B[0;34m(\u001B[0m\u001B[0mdataframe\u001B[0m\u001B[0;34m.\u001B[0m\u001B[0mwin\u001B[0m\u001B[0;34m.\u001B[0m\u001B[0mvalue_counts\u001B[0m\u001B[0;34m(\u001B[0m\u001B[0;34m)\u001B[0m\u001B[0;34m.\u001B[0m\u001B[0msort_index\u001B[0m\u001B[0;34m(\u001B[0m\u001B[0mascending\u001B[0m\u001B[0;34m=\u001B[0m\u001B[0;32mFalse\u001B[0m\u001B[0;34m)\u001B[0m\u001B[0;34m[\u001B[0m\u001B[0;32mTrue\u001B[0m\u001B[0;34m]\u001B[0m\u001B[0;34m)\u001B[0m\u001B[0;34m\u001B[0m\u001B[0;34m\u001B[0m\u001B[0m\n\u001B[0m\u001B[1;32m     10\u001B[0m     \u001B[0mwr\u001B[0m\u001B[0;34m[\u001B[0m\u001B[0;34m\"Loss\"\u001B[0m\u001B[0;34m]\u001B[0m \u001B[0;34m=\u001B[0m \u001B[0mwr\u001B[0m\u001B[0;34m[\u001B[0m\u001B[0;34m\"Loss\"\u001B[0m\u001B[0;34m]\u001B[0m \u001B[0;34m+\u001B[0m \u001B[0;34m\" \"\u001B[0m \u001B[0;34m+\u001B[0m \u001B[0mstr\u001B[0m\u001B[0;34m(\u001B[0m\u001B[0mdataframe\u001B[0m\u001B[0;34m.\u001B[0m\u001B[0mwin\u001B[0m\u001B[0;34m.\u001B[0m\u001B[0mvalue_counts\u001B[0m\u001B[0;34m(\u001B[0m\u001B[0;34m)\u001B[0m\u001B[0;34m.\u001B[0m\u001B[0msort_index\u001B[0m\u001B[0;34m(\u001B[0m\u001B[0mascending\u001B[0m\u001B[0;34m=\u001B[0m\u001B[0;32mFalse\u001B[0m\u001B[0;34m)\u001B[0m\u001B[0;34m[\u001B[0m\u001B[0;32mFalse\u001B[0m\u001B[0;34m]\u001B[0m\u001B[0;34m)\u001B[0m\u001B[0;34m\u001B[0m\u001B[0;34m\u001B[0m\u001B[0m\n\u001B[1;32m     11\u001B[0m     \u001B[0;32mreturn\u001B[0m \u001B[0mwr\u001B[0m\u001B[0;34m\u001B[0m\u001B[0;34m\u001B[0m\u001B[0m\n",
      "\u001B[0;32m~/Library/Python/3.8/lib/python/site-packages/pandas/core/series.py\u001B[0m in \u001B[0;36m__getitem__\u001B[0;34m(self, key)\u001B[0m\n\u001B[1;32m    880\u001B[0m \u001B[0;34m\u001B[0m\u001B[0m\n\u001B[1;32m    881\u001B[0m         \u001B[0;32melif\u001B[0m \u001B[0mkey_is_scalar\u001B[0m\u001B[0;34m:\u001B[0m\u001B[0;34m\u001B[0m\u001B[0;34m\u001B[0m\u001B[0m\n\u001B[0;32m--> 882\u001B[0;31m             \u001B[0;32mreturn\u001B[0m \u001B[0mself\u001B[0m\u001B[0;34m.\u001B[0m\u001B[0m_get_value\u001B[0m\u001B[0;34m(\u001B[0m\u001B[0mkey\u001B[0m\u001B[0;34m)\u001B[0m\u001B[0;34m\u001B[0m\u001B[0;34m\u001B[0m\u001B[0m\n\u001B[0m\u001B[1;32m    883\u001B[0m \u001B[0;34m\u001B[0m\u001B[0m\n\u001B[1;32m    884\u001B[0m         \u001B[0;32mif\u001B[0m \u001B[0mis_hashable\u001B[0m\u001B[0;34m(\u001B[0m\u001B[0mkey\u001B[0m\u001B[0;34m)\u001B[0m\u001B[0;34m:\u001B[0m\u001B[0;34m\u001B[0m\u001B[0;34m\u001B[0m\u001B[0m\n",
      "\u001B[0;32m~/Library/Python/3.8/lib/python/site-packages/pandas/core/series.py\u001B[0m in \u001B[0;36m_get_value\u001B[0;34m(self, label, takeable)\u001B[0m\n\u001B[1;32m    987\u001B[0m \u001B[0;34m\u001B[0m\u001B[0m\n\u001B[1;32m    988\u001B[0m         \u001B[0;31m# Similar to Index.get_value, but we do not fall back to positional\u001B[0m\u001B[0;34m\u001B[0m\u001B[0;34m\u001B[0m\u001B[0;34m\u001B[0m\u001B[0m\n\u001B[0;32m--> 989\u001B[0;31m         \u001B[0mloc\u001B[0m \u001B[0;34m=\u001B[0m \u001B[0mself\u001B[0m\u001B[0;34m.\u001B[0m\u001B[0mindex\u001B[0m\u001B[0;34m.\u001B[0m\u001B[0mget_loc\u001B[0m\u001B[0;34m(\u001B[0m\u001B[0mlabel\u001B[0m\u001B[0;34m)\u001B[0m\u001B[0;34m\u001B[0m\u001B[0;34m\u001B[0m\u001B[0m\n\u001B[0m\u001B[1;32m    990\u001B[0m         \u001B[0;32mreturn\u001B[0m \u001B[0mself\u001B[0m\u001B[0;34m.\u001B[0m\u001B[0mindex\u001B[0m\u001B[0;34m.\u001B[0m\u001B[0m_get_values_for_loc\u001B[0m\u001B[0;34m(\u001B[0m\u001B[0mself\u001B[0m\u001B[0;34m,\u001B[0m \u001B[0mloc\u001B[0m\u001B[0;34m,\u001B[0m \u001B[0mlabel\u001B[0m\u001B[0;34m)\u001B[0m\u001B[0;34m\u001B[0m\u001B[0;34m\u001B[0m\u001B[0m\n\u001B[1;32m    991\u001B[0m \u001B[0;34m\u001B[0m\u001B[0m\n",
      "\u001B[0;32m~/Library/Python/3.8/lib/python/site-packages/pandas/core/indexes/base.py\u001B[0m in \u001B[0;36mget_loc\u001B[0;34m(self, key, method, tolerance)\u001B[0m\n\u001B[1;32m   2895\u001B[0m                 \u001B[0;32mreturn\u001B[0m \u001B[0mself\u001B[0m\u001B[0;34m.\u001B[0m\u001B[0m_engine\u001B[0m\u001B[0;34m.\u001B[0m\u001B[0mget_loc\u001B[0m\u001B[0;34m(\u001B[0m\u001B[0mcasted_key\u001B[0m\u001B[0;34m)\u001B[0m\u001B[0;34m\u001B[0m\u001B[0;34m\u001B[0m\u001B[0m\n\u001B[1;32m   2896\u001B[0m             \u001B[0;32mexcept\u001B[0m \u001B[0mKeyError\u001B[0m \u001B[0;32mas\u001B[0m \u001B[0merr\u001B[0m\u001B[0;34m:\u001B[0m\u001B[0;34m\u001B[0m\u001B[0;34m\u001B[0m\u001B[0m\n\u001B[0;32m-> 2897\u001B[0;31m                 \u001B[0;32mraise\u001B[0m \u001B[0mKeyError\u001B[0m\u001B[0;34m(\u001B[0m\u001B[0mkey\u001B[0m\u001B[0;34m)\u001B[0m \u001B[0;32mfrom\u001B[0m \u001B[0merr\u001B[0m\u001B[0;34m\u001B[0m\u001B[0;34m\u001B[0m\u001B[0m\n\u001B[0m\u001B[1;32m   2898\u001B[0m \u001B[0;34m\u001B[0m\u001B[0m\n\u001B[1;32m   2899\u001B[0m         \u001B[0;32mif\u001B[0m \u001B[0mtolerance\u001B[0m \u001B[0;32mis\u001B[0m \u001B[0;32mnot\u001B[0m \u001B[0;32mNone\u001B[0m\u001B[0;34m:\u001B[0m\u001B[0;34m\u001B[0m\u001B[0;34m\u001B[0m\u001B[0m\n",
      "\u001B[0;31mKeyError\u001B[0m: 'Win'"
     ]
    }
   ],
   "source": [
    "wr(solo)"
   ],
   "metadata": {
    "collapsed": false,
    "pycharm": {
     "name": "#%%\n"
    }
   }
  },
  {
   "cell_type": "code",
   "execution_count": null,
   "outputs": [],
   "source": [
    "wr(premade)\n",
    "# df = solo"
   ],
   "metadata": {
    "collapsed": false,
    "pycharm": {
     "name": "#%%\n"
    }
   }
  },
  {
   "cell_type": "code",
   "execution_count": null,
   "outputs": [],
   "source": [
    "wl = pd.DataFrame()\n",
    "\n",
    "wl[\"wins\"] = df[df.win == True].summoner.apply(lambda x: x.champion).value_counts()\n",
    "wl[\"losses\"] = df[df.win == False].summoner.apply(lambda x: x.champion).value_counts()\n",
    "wl[\"losses\"].fillna(value=0, inplace=True)\n",
    "wl[\"total\"] = wl.losses + wl.wins\n",
    "wl[\"wr\"] = round(wl.wins / wl.total, 2) * 100\n",
    "\n",
    "wl[wl.total > 3].sort_values(by=[\"wr\", \"total\"], ascending=False)"
   ],
   "metadata": {
    "collapsed": false,
    "pycharm": {
     "name": "#%%\n"
    }
   }
  },
  {
   "cell_type": "code",
   "execution_count": null,
   "outputs": [],
   "source": [
    "adc_games = df[df.teamcomp.apply(lambda x: len(x & adc) != 0)]\n",
    "no_adc_games = df[df.teamcomp.apply(lambda x: len(x & adc) == 0)]"
   ],
   "metadata": {
    "collapsed": false,
    "pycharm": {
     "name": "#%%\n"
    }
   }
  },
  {
   "cell_type": "code",
   "execution_count": null,
   "outputs": [],
   "source": [
    "print(len(adc_games))\n",
    "wr(adc_games)"
   ],
   "metadata": {
    "collapsed": false,
    "pycharm": {
     "name": "#%%\n"
    }
   }
  },
  {
   "cell_type": "code",
   "execution_count": null,
   "outputs": [],
   "source": [
    "print(len(no_adc_games))\n",
    "wr(no_adc_games)"
   ],
   "metadata": {
    "collapsed": false,
    "pycharm": {
     "name": "#%%\n"
    }
   }
  },
  {
   "cell_type": "code",
   "execution_count": null,
   "outputs": [],
   "source": [
    "sns.histplot(df[[\"duration\",\"win\"]], x=\"duration\", hue=\"win\", element=\"step\",kde=True)\n"
   ],
   "metadata": {
    "collapsed": false,
    "pycharm": {
     "name": "#%%\n"
    }
   }
  },
  {
   "cell_type": "markdown",
   "source": [
    "#### Win Time distribution"
   ],
   "metadata": {
    "collapsed": false,
    "pycharm": {
     "name": "#%% md\n"
    }
   }
  },
  {
   "cell_type": "code",
   "execution_count": null,
   "outputs": [],
   "source": [
    "df[df.win == True].duration.describe().drop(\"count\").apply(lambda x: str(int(x // 60))+\"m \"+str(int(x%60))+\"s\")"
   ],
   "metadata": {
    "collapsed": false,
    "pycharm": {
     "name": "#%%\n"
    }
   }
  },
  {
   "cell_type": "markdown",
   "source": [
    "#### Loss Time distribution"
   ],
   "metadata": {
    "collapsed": false,
    "pycharm": {
     "name": "#%% md\n"
    }
   }
  },
  {
   "cell_type": "code",
   "execution_count": null,
   "outputs": [],
   "source": [
    "df[df.win == False].duration.describe().drop(\"count\").apply(lambda x: str(int(x // 60))+\"m \"+str(int(x%60))+\"s\")"
   ],
   "metadata": {
    "collapsed": false,
    "pycharm": {
     "name": "#%%\n"
    }
   }
  },
  {
   "cell_type": "code",
   "execution_count": null,
   "outputs": [],
   "source": [
    "from collections import Counter\n",
    "\n",
    "Counter(df.teammates.apply(list).sum()).most_common()[:50]"
   ],
   "metadata": {
    "collapsed": false,
    "pycharm": {
     "name": "#%%\n"
    }
   }
  },
  {
   "cell_type": "code",
   "execution_count": null,
   "outputs": [],
   "source": [
    "wr(df[df.teamcomp.apply(lambda x: \"Thresh\" in x)])"
   ],
   "metadata": {
    "collapsed": false,
    "pycharm": {
     "name": "#%%\n"
    }
   }
  },
  {
   "cell_type": "code",
   "execution_count": null,
   "outputs": [],
   "source": [
    "# win_rate(data)\n",
    "# champ_winrate(data)\n",
    "# champ_kda(robb, Aram_Data)\n",
    "# kda(Aram_Data)\n",
    "# kp(Aram_Data)\n",
    "# common_teammates(Aram_Data)\n",
    "# multikills(Aram_Data)\n",
    "# items(Aram_Data)\n",
    "# adc_winrate(data)\n",
    "# time_played(Aram_Data)\n",
    "# win_rate_with(thomas, Aram_Data)\n",
    "# time_distribution(robb, data)\n",
    "\n",
    "wr(df[df.side.apply(lambda x: x[0].champ in adcs)])"
   ],
   "metadata": {
    "collapsed": false,
    "pycharm": {
     "name": "#%%\n"
    }
   }
  },
  {
   "cell_type": "code",
   "execution_count": null,
   "outputs": [],
   "source": [
    "wr(df[df.side.apply(lambda x: x[0].champ in assassin)])"
   ],
   "metadata": {
    "collapsed": false,
    "pycharm": {
     "name": "#%%\n"
    }
   }
  },
  {
   "cell_type": "code",
   "execution_count": null,
   "outputs": [],
   "source": [
    "wr(df[df.side.apply(lambda x: x[0].champ in fighter)])"
   ],
   "metadata": {
    "collapsed": false,
    "pycharm": {
     "name": "#%%\n"
    }
   }
  },
  {
   "cell_type": "code",
   "execution_count": null,
   "outputs": [],
   "source": [
    "wr(df[df.side.apply(lambda x: x[0].champ in support)])"
   ],
   "metadata": {
    "collapsed": false,
    "pycharm": {
     "name": "#%%\n"
    }
   }
  },
  {
   "cell_type": "code",
   "execution_count": null,
   "outputs": [],
   "source": [
    "wr(df[df.side.apply(lambda x: x[0].champ in tank)])"
   ],
   "metadata": {
    "collapsed": false,
    "pycharm": {
     "name": "#%%\n"
    }
   }
  },
  {
   "cell_type": "code",
   "execution_count": null,
   "outputs": [],
   "source": [
    "wr(df[df.side.apply(lambda x: x[0].champ in mage)])\n",
    "# a  = dill.load(open(\"Aram_Data_New.pickle\", \"rb\"))\n",
    "# print(a[0].summoner.stats.first_inhibitor_kill)"
   ],
   "metadata": {
    "collapsed": false,
    "pycharm": {
     "name": "#%%\n"
    }
   }
  },
  {
   "cell_type": "code",
   "execution_count": null,
   "outputs": [],
   "source": [],
   "metadata": {
    "collapsed": false,
    "pycharm": {
     "name": "#%%\n"
    }
   }
  }
 ],
 "metadata": {
  "kernelspec": {
   "display_name": "Python 3",
   "language": "python",
   "name": "python3"
  },
  "language_info": {
   "codemirror_mode": {
    "name": "ipython",
    "version": 2
   },
   "file_extension": ".py",
   "mimetype": "text/x-python",
   "name": "python",
   "nbconvert_exporter": "python",
   "pygments_lexer": "ipython2",
   "version": "2.7.6"
  }
 },
 "nbformat": 4,
 "nbformat_minor": 0
}