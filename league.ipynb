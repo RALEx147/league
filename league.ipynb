{
 "cells": [
  {
   "cell_type": "markdown",
   "metadata": {
    "collapsed": true,
    "pycharm": {
     "name": "#%% md\n"
    }
   },
   "source": [
    "## Aram Data and Analysis"
   ]
  },
  {
   "cell_type": "code",
   "execution_count": 310,
   "outputs": [],
   "source": [
    "# imports\n",
    "from datetime import timedelta\n",
    "from IPython.core.display import display\n",
    "import league_constants\n",
    "\n",
    "import league_data\n",
    "import league_functions\n",
    "import seaborn as sns\n",
    "import importlib\n",
    "import numpy as np\n",
    "\n",
    "import pandas as pd\n",
    "import cassiopeia as cass\n",
    "importlib.reload(league_functions)\n",
    "importlib.reload(league_constants)\n",
    "importlib.reload(league_data)\n",
    "from league_functions import *\n",
    "from league_constants import *\n",
    "\n",
    "pd.options.mode.chained_assignment = None\n",
    "pd.set_option('display.max_columns', None)"
   ],
   "metadata": {
    "collapsed": false,
    "pycharm": {
     "name": "#%%\n"
    }
   }
  },
  {
   "cell_type": "markdown",
   "source": [
    "#### TODO\n",
    "-finish fuctions\n",
    "<br> -new function ideas\n"
   ],
   "metadata": {
    "collapsed": false,
    "pycharm": {
     "name": "#%% md\n"
    }
   }
  },
  {
   "cell_type": "markdown",
   "source": [
    "#### Load Data"
   ],
   "metadata": {
    "collapsed": false,
    "pycharm": {
     "name": "#%% md\n"
    }
   }
  },
  {
   "cell_type": "code",
   "execution_count": 311,
   "outputs": [],
   "source": [
    "query = robb\n"
   ],
   "metadata": {
    "collapsed": false,
    "pycharm": {
     "name": "#%%\n"
    }
   }
  },
  {
   "cell_type": "code",
   "execution_count": 312,
   "outputs": [
    {
     "name": "stdout",
     "output_type": "stream",
     "text": [
      "DATA LOADED 1598\n",
      "0 NEW MATCHES SINCE 2022-09-24 22:41:25.616867\n",
      "NO DATA ADDED\n",
      "\n"
     ]
    }
   ],
   "source": [
    "df, s = league_data.load_fetch_data(query)"
   ],
   "metadata": {
    "collapsed": false,
    "pycharm": {
     "name": "#%%\n"
    }
   }
  },
  {
   "cell_type": "markdown",
   "source": [
    "#### Clean data"
   ],
   "metadata": {
    "collapsed": false
   }
  },
  {
   "cell_type": "code",
   "execution_count": 313,
   "outputs": [
    {
     "data": {
      "text/plain": "            gameDuration               gameStartTimestamp gameVersion  \\\n4446213292           607 2022-09-24 22:24:43.916000-07:00    [12, 18]   \n\n            assists  bountyLevel  champExperience  champLevel  championId  \\\n4446213292       12            0             8087          11          12   \n\n           championName  consumablesPurchased  damageDealtToTurrets  \\\n4446213292      Alistar                     0                   681   \n\n            damageSelfMitigated  deaths  doubleKills  firstBloodAssist  \\\n4446213292                11421       4            0             False   \n\n            firstBloodKill  firstTowerAssist  firstTowerKill  \\\n4446213292           False              True           False   \n\n            gameEndedInEarlySurrender  gameEndedInSurrender  goldEarned  \\\n4446213292                      False                 False        6878   \n\n            goldSpent  inhibitorKills  inhibitorTakedowns  inhibitorsLost  \\\n4446213292       6100               0                   1               0   \n\n            item6  itemsPurchased  killingSprees  kills  \\\n4446213292   2052              12              0      1   \n\n            largestCriticalStrike  largestKillingSpree  largestMultiKill  \\\n4446213292                      0                    0                 1   \n\n            longestTimeSpentLiving  magicDamageDealt  \\\n4446213292                     222              3342   \n\n            magicDamageDealtToChampions  magicDamageTaken  nexusKills  \\\n4446213292                         2084              2711           0   \n\n            nexusLost  nexusTakedowns  pentaKills  physicalDamageDealt  \\\n4446213292          0               1           0                 1310   \n\n            physicalDamageDealtToChampions  physicalDamageTaken  quadraKills  \\\n4446213292                             318                 6252            0   \n\n            spell1Casts  spell2Casts  spell3Casts  spell4Casts  \\\n4446213292           15           14            9            3   \n\n            summoner1Casts  summoner1Id  summoner2Casts  summoner2Id  \\\n4446213292              13           32               3            4   \n\n              summonerName  teamEarlySurrendered  teamId  timeCCingOthers  \\\n4446213292  Dirty Doughnut                 False     200               23   \n\n            timePlayed  totalDamageDealt  totalDamageDealtToChampions  \\\n4446213292         607              5047                         2797   \n\n            totalDamageShieldedOnTeammates  totalDamageTaken  totalHeal  \\\n4446213292                             678             12696       4860   \n\n            totalHealsOnTeammates  totalMinionsKilled  totalTimeCCDealt  \\\n4446213292                   3104                   0                39   \n\n            totalTimeSpentDead  totalUnitsHealed  tripleKills  \\\n4446213292                  56                 5            0   \n\n            trueDamageDealt  trueDamageDealtToChampions  trueDamageTaken  \\\n4446213292              395                         395             3732   \n\n            turretKills  turretTakedowns  turretsLost  unrealKills   win  \\\n4446213292            0                4            1            0  True   \n\n                                                        perks  \\\n4446213292  {'statPerks': {'defense': 5002, 'flex': 5002, ...   \n\n                                                         team  \\\n4446213292  [-qllnaUawAXMc3A8mtZmm8RPulp01DM01NMlfKCifoH9O...   \n\n                           champs  \\\n4446213292  [238, 21, 98, 99, 12]   \n\n                                                   other_team  \\\n4446213292  [9uWAV-INwHBE7VEPJw6Twym7KDPqDvhLZSjGCgIn-UzTp...   \n\n                       other_champs  12AssistStreakCount  abilityUses  \\\n4446213292  [29, 134, 127, 141, 59]                  0.0         41.0   \n\n            acesBefore15Minutes  bountyGold  damagePerMinute  \\\n4446213292                  0.0       300.0       276.190083   \n\n            damageTakenOnTeamPercentage  deathsByEnemyChamps  \\\n4446213292                     0.263861                  4.0   \n\n            dodgeSkillShotsSmallWindow  doubleAces  \\\n4446213292                         5.0         0.0   \n\n            earlyLaningPhaseGoldExpAdvantage  effectiveHealAndShielding  \\\n4446213292                               0.0                3782.572998   \n\n            enemyChampionImmobilizations  flawlessAces  fullTeamTakedown  \\\n4446213292                          41.0           0.0               4.0   \n\n            goldPerMinute  hadAfkTeammate  hadOpenNexus  \\\n4446213292     679.027206             NaN           0.0   \n\n            highestChampionDamage  immobilizeAndKillWithAlly   kda  \\\n4446213292                    NaN                        6.0  3.25   \n\n            killAfterHiddenWithAlly  killParticipation  \\\n4446213292                      1.0           0.722222   \n\n            killedChampTookFullTeamDamageSurvived  killsNearEnemyTurret  \\\n4446213292                                    0.0                   0.0   \n\n            killsOnRecentlyHealedByAramPack  killsUnderOwnTurret  \\\n4446213292                              0.0                  0.0   \n\n            killsWithHelpFromEpicMonster  knockEnemyIntoTeamAndKill  \\\n4446213292                           0.0                        5.0   \n\n            landSkillShotsEarlyGame  laneMinionsFirst10Minutes  \\\n4446213292                      0.0                        0.0   \n\n            laningPhaseGoldExpAdvantage  legendaryCount  lostAnInhibitor  \\\n4446213292                          NaN             0.0              0.0   \n\n            maxCsAdvantageOnLaneOpponent  maxKillDeficit  \\\n4446213292                           0.0             6.0   \n\n            maxLevelLeadLaneOpponent  multiKillOneSpell  multikills  \\\n4446213292                       1.0                0.0         0.0   \n\n            multikillsAfterAggressiveFlash  \\\n4446213292                             0.0   \n\n            outerTurretExecutesBefore10Minutes  outnumberedKills  \\\n4446213292                                 0.0               0.0   \n\n            outnumberedNexusKill  perfectGame  pickKillWithAlly  \\\n4446213292                   0.0          0.0               7.0   \n\n            poroExplosions  quickCleanse  quickFirstTurret  quickSoloKills  \\\n4446213292             0.0           0.0               0.0             0.0   \n\n            riftHeraldTakedowns  saveAllyFromDeath  \\\n4446213292                  0.0                0.0   \n\n            shortestTimeToAceFromFirstTakedown  skillshotsDodged  \\\n4446213292                                 NaN              40.0   \n\n            skillshotsHit  snowballsHit  soloKills  soloTurretsLategame  \\\n4446213292            0.0           5.0        1.0                  NaN   \n\n            survivedSingleDigitHpCount  survivedThreeImmobilizesInFight  \\\n4446213292                         0.0                              1.0   \n\n            takedownOnFirstTurret  takedowns  \\\n4446213292                    0.0       13.0   \n\n            takedownsAfterGainingLevelAdvantage  takedownsFirst25Minutes  \\\n4446213292                                  0.0                      NaN   \n\n            takedownsInEnemyFountain  teamDamagePercentage  teleportTakedowns  \\\n4446213292                       0.0              0.064371                NaN   \n\n            tookLargeDamageSurvived  twentyMinionsIn3SecondsCount  \\\n4446213292                      0.0                           0.0   \n\n            visionScoreAdvantageLaneOpponent  visionScorePerMinute  \\\n4446213292                              -1.0                   0.0   \n\n            mythicItemUsed  firstTurretKilledTime  highestCrowdControlScore  \\\n4446213292             NaN             273.485619                       NaN   \n\n            eligibleForProgression  takedownsFirstXMinutes  basicPings  \\\n4446213292                     1.0                    13.0         4.0   \n\n            fastestLegendary                           items  \n4446213292               NaN  [2051, 3158, 3190, 3067, 1011]  ",
      "text/html": "<div>\n<style scoped>\n    .dataframe tbody tr th:only-of-type {\n        vertical-align: middle;\n    }\n\n    .dataframe tbody tr th {\n        vertical-align: top;\n    }\n\n    .dataframe thead th {\n        text-align: right;\n    }\n</style>\n<table border=\"1\" class=\"dataframe\">\n  <thead>\n    <tr style=\"text-align: right;\">\n      <th></th>\n      <th>gameDuration</th>\n      <th>gameStartTimestamp</th>\n      <th>gameVersion</th>\n      <th>assists</th>\n      <th>bountyLevel</th>\n      <th>champExperience</th>\n      <th>champLevel</th>\n      <th>championId</th>\n      <th>championName</th>\n      <th>consumablesPurchased</th>\n      <th>damageDealtToTurrets</th>\n      <th>damageSelfMitigated</th>\n      <th>deaths</th>\n      <th>doubleKills</th>\n      <th>firstBloodAssist</th>\n      <th>firstBloodKill</th>\n      <th>firstTowerAssist</th>\n      <th>firstTowerKill</th>\n      <th>gameEndedInEarlySurrender</th>\n      <th>gameEndedInSurrender</th>\n      <th>goldEarned</th>\n      <th>goldSpent</th>\n      <th>inhibitorKills</th>\n      <th>inhibitorTakedowns</th>\n      <th>inhibitorsLost</th>\n      <th>item6</th>\n      <th>itemsPurchased</th>\n      <th>killingSprees</th>\n      <th>kills</th>\n      <th>largestCriticalStrike</th>\n      <th>largestKillingSpree</th>\n      <th>largestMultiKill</th>\n      <th>longestTimeSpentLiving</th>\n      <th>magicDamageDealt</th>\n      <th>magicDamageDealtToChampions</th>\n      <th>magicDamageTaken</th>\n      <th>nexusKills</th>\n      <th>nexusLost</th>\n      <th>nexusTakedowns</th>\n      <th>pentaKills</th>\n      <th>physicalDamageDealt</th>\n      <th>physicalDamageDealtToChampions</th>\n      <th>physicalDamageTaken</th>\n      <th>quadraKills</th>\n      <th>spell1Casts</th>\n      <th>spell2Casts</th>\n      <th>spell3Casts</th>\n      <th>spell4Casts</th>\n      <th>summoner1Casts</th>\n      <th>summoner1Id</th>\n      <th>summoner2Casts</th>\n      <th>summoner2Id</th>\n      <th>summonerName</th>\n      <th>teamEarlySurrendered</th>\n      <th>teamId</th>\n      <th>timeCCingOthers</th>\n      <th>timePlayed</th>\n      <th>totalDamageDealt</th>\n      <th>totalDamageDealtToChampions</th>\n      <th>totalDamageShieldedOnTeammates</th>\n      <th>totalDamageTaken</th>\n      <th>totalHeal</th>\n      <th>totalHealsOnTeammates</th>\n      <th>totalMinionsKilled</th>\n      <th>totalTimeCCDealt</th>\n      <th>totalTimeSpentDead</th>\n      <th>totalUnitsHealed</th>\n      <th>tripleKills</th>\n      <th>trueDamageDealt</th>\n      <th>trueDamageDealtToChampions</th>\n      <th>trueDamageTaken</th>\n      <th>turretKills</th>\n      <th>turretTakedowns</th>\n      <th>turretsLost</th>\n      <th>unrealKills</th>\n      <th>win</th>\n      <th>perks</th>\n      <th>team</th>\n      <th>champs</th>\n      <th>other_team</th>\n      <th>other_champs</th>\n      <th>12AssistStreakCount</th>\n      <th>abilityUses</th>\n      <th>acesBefore15Minutes</th>\n      <th>bountyGold</th>\n      <th>damagePerMinute</th>\n      <th>damageTakenOnTeamPercentage</th>\n      <th>deathsByEnemyChamps</th>\n      <th>dodgeSkillShotsSmallWindow</th>\n      <th>doubleAces</th>\n      <th>earlyLaningPhaseGoldExpAdvantage</th>\n      <th>effectiveHealAndShielding</th>\n      <th>enemyChampionImmobilizations</th>\n      <th>flawlessAces</th>\n      <th>fullTeamTakedown</th>\n      <th>goldPerMinute</th>\n      <th>hadAfkTeammate</th>\n      <th>hadOpenNexus</th>\n      <th>highestChampionDamage</th>\n      <th>immobilizeAndKillWithAlly</th>\n      <th>kda</th>\n      <th>killAfterHiddenWithAlly</th>\n      <th>killParticipation</th>\n      <th>killedChampTookFullTeamDamageSurvived</th>\n      <th>killsNearEnemyTurret</th>\n      <th>killsOnRecentlyHealedByAramPack</th>\n      <th>killsUnderOwnTurret</th>\n      <th>killsWithHelpFromEpicMonster</th>\n      <th>knockEnemyIntoTeamAndKill</th>\n      <th>landSkillShotsEarlyGame</th>\n      <th>laneMinionsFirst10Minutes</th>\n      <th>laningPhaseGoldExpAdvantage</th>\n      <th>legendaryCount</th>\n      <th>lostAnInhibitor</th>\n      <th>maxCsAdvantageOnLaneOpponent</th>\n      <th>maxKillDeficit</th>\n      <th>maxLevelLeadLaneOpponent</th>\n      <th>multiKillOneSpell</th>\n      <th>multikills</th>\n      <th>multikillsAfterAggressiveFlash</th>\n      <th>outerTurretExecutesBefore10Minutes</th>\n      <th>outnumberedKills</th>\n      <th>outnumberedNexusKill</th>\n      <th>perfectGame</th>\n      <th>pickKillWithAlly</th>\n      <th>poroExplosions</th>\n      <th>quickCleanse</th>\n      <th>quickFirstTurret</th>\n      <th>quickSoloKills</th>\n      <th>riftHeraldTakedowns</th>\n      <th>saveAllyFromDeath</th>\n      <th>shortestTimeToAceFromFirstTakedown</th>\n      <th>skillshotsDodged</th>\n      <th>skillshotsHit</th>\n      <th>snowballsHit</th>\n      <th>soloKills</th>\n      <th>soloTurretsLategame</th>\n      <th>survivedSingleDigitHpCount</th>\n      <th>survivedThreeImmobilizesInFight</th>\n      <th>takedownOnFirstTurret</th>\n      <th>takedowns</th>\n      <th>takedownsAfterGainingLevelAdvantage</th>\n      <th>takedownsFirst25Minutes</th>\n      <th>takedownsInEnemyFountain</th>\n      <th>teamDamagePercentage</th>\n      <th>teleportTakedowns</th>\n      <th>tookLargeDamageSurvived</th>\n      <th>twentyMinionsIn3SecondsCount</th>\n      <th>visionScoreAdvantageLaneOpponent</th>\n      <th>visionScorePerMinute</th>\n      <th>mythicItemUsed</th>\n      <th>firstTurretKilledTime</th>\n      <th>highestCrowdControlScore</th>\n      <th>eligibleForProgression</th>\n      <th>takedownsFirstXMinutes</th>\n      <th>basicPings</th>\n      <th>fastestLegendary</th>\n      <th>items</th>\n    </tr>\n  </thead>\n  <tbody>\n    <tr>\n      <th>4446213292</th>\n      <td>607</td>\n      <td>2022-09-24 22:24:43.916000-07:00</td>\n      <td>[12, 18]</td>\n      <td>12</td>\n      <td>0</td>\n      <td>8087</td>\n      <td>11</td>\n      <td>12</td>\n      <td>Alistar</td>\n      <td>0</td>\n      <td>681</td>\n      <td>11421</td>\n      <td>4</td>\n      <td>0</td>\n      <td>False</td>\n      <td>False</td>\n      <td>True</td>\n      <td>False</td>\n      <td>False</td>\n      <td>False</td>\n      <td>6878</td>\n      <td>6100</td>\n      <td>0</td>\n      <td>1</td>\n      <td>0</td>\n      <td>2052</td>\n      <td>12</td>\n      <td>0</td>\n      <td>1</td>\n      <td>0</td>\n      <td>0</td>\n      <td>1</td>\n      <td>222</td>\n      <td>3342</td>\n      <td>2084</td>\n      <td>2711</td>\n      <td>0</td>\n      <td>0</td>\n      <td>1</td>\n      <td>0</td>\n      <td>1310</td>\n      <td>318</td>\n      <td>6252</td>\n      <td>0</td>\n      <td>15</td>\n      <td>14</td>\n      <td>9</td>\n      <td>3</td>\n      <td>13</td>\n      <td>32</td>\n      <td>3</td>\n      <td>4</td>\n      <td>Dirty Doughnut</td>\n      <td>False</td>\n      <td>200</td>\n      <td>23</td>\n      <td>607</td>\n      <td>5047</td>\n      <td>2797</td>\n      <td>678</td>\n      <td>12696</td>\n      <td>4860</td>\n      <td>3104</td>\n      <td>0</td>\n      <td>39</td>\n      <td>56</td>\n      <td>5</td>\n      <td>0</td>\n      <td>395</td>\n      <td>395</td>\n      <td>3732</td>\n      <td>0</td>\n      <td>4</td>\n      <td>1</td>\n      <td>0</td>\n      <td>True</td>\n      <td>{'statPerks': {'defense': 5002, 'flex': 5002, ...</td>\n      <td>[-qllnaUawAXMc3A8mtZmm8RPulp01DM01NMlfKCifoH9O...</td>\n      <td>[238, 21, 98, 99, 12]</td>\n      <td>[9uWAV-INwHBE7VEPJw6Twym7KDPqDvhLZSjGCgIn-UzTp...</td>\n      <td>[29, 134, 127, 141, 59]</td>\n      <td>0.0</td>\n      <td>41.0</td>\n      <td>0.0</td>\n      <td>300.0</td>\n      <td>276.190083</td>\n      <td>0.263861</td>\n      <td>4.0</td>\n      <td>5.0</td>\n      <td>0.0</td>\n      <td>0.0</td>\n      <td>3782.572998</td>\n      <td>41.0</td>\n      <td>0.0</td>\n      <td>4.0</td>\n      <td>679.027206</td>\n      <td>NaN</td>\n      <td>0.0</td>\n      <td>NaN</td>\n      <td>6.0</td>\n      <td>3.25</td>\n      <td>1.0</td>\n      <td>0.722222</td>\n      <td>0.0</td>\n      <td>0.0</td>\n      <td>0.0</td>\n      <td>0.0</td>\n      <td>0.0</td>\n      <td>5.0</td>\n      <td>0.0</td>\n      <td>0.0</td>\n      <td>NaN</td>\n      <td>0.0</td>\n      <td>0.0</td>\n      <td>0.0</td>\n      <td>6.0</td>\n      <td>1.0</td>\n      <td>0.0</td>\n      <td>0.0</td>\n      <td>0.0</td>\n      <td>0.0</td>\n      <td>0.0</td>\n      <td>0.0</td>\n      <td>0.0</td>\n      <td>7.0</td>\n      <td>0.0</td>\n      <td>0.0</td>\n      <td>0.0</td>\n      <td>0.0</td>\n      <td>0.0</td>\n      <td>0.0</td>\n      <td>NaN</td>\n      <td>40.0</td>\n      <td>0.0</td>\n      <td>5.0</td>\n      <td>1.0</td>\n      <td>NaN</td>\n      <td>0.0</td>\n      <td>1.0</td>\n      <td>0.0</td>\n      <td>13.0</td>\n      <td>0.0</td>\n      <td>NaN</td>\n      <td>0.0</td>\n      <td>0.064371</td>\n      <td>NaN</td>\n      <td>0.0</td>\n      <td>0.0</td>\n      <td>-1.0</td>\n      <td>0.0</td>\n      <td>NaN</td>\n      <td>273.485619</td>\n      <td>NaN</td>\n      <td>1.0</td>\n      <td>13.0</td>\n      <td>4.0</td>\n      <td>NaN</td>\n      <td>[2051, 3158, 3190, 3067, 1011]</td>\n    </tr>\n  </tbody>\n</table>\n</div>"
     },
     "execution_count": 313,
     "metadata": {},
     "output_type": "execute_result"
    }
   ],
   "source": [
    "df.sort_values(by=\"gameStartTimestamp\", ascending=False, inplace=True)\n",
    "df[\"items\"] = df[[\"item0\",\"item1\",\"item2\",\"item3\",\"item4\",\"item5\"]].values.tolist()\n",
    "df[\"items\"] = df[\"items\"].apply(lambda x:[i for i in x if i != 0])\n",
    "df[\"gameVersion\"] = df[\"gameVersion\"].apply(lambda x: str.split(x, '.')[0:2])\n",
    "df = df.drop([\"item0\",\"item1\",\"item2\",\"item3\",\"item4\",\"item5\"], axis=1)\n",
    "df = df.set_index(\"gameId\", drop=True)\n",
    "df.index.names = [None]\n",
    "\n",
    "df.head(1)"
   ],
   "metadata": {
    "collapsed": false,
    "pycharm": {
     "name": "#%%\n"
    }
   }
  },
  {
   "cell_type": "code",
   "execution_count": 314,
   "outputs": [],
   "source": [
    "champs, adc, assassin, fighter, support, tank, mage = get_champ_roles()\n",
    "item_id_to_name, champ_id_to_name, champ_name_to_id = get_id_mappings()\n"
   ],
   "metadata": {
    "collapsed": false,
    "pycharm": {
     "name": "#%%\n"
    }
   }
  },
  {
   "cell_type": "markdown",
   "source": [
    "#### Filter"
   ],
   "metadata": {
    "collapsed": false,
    "pycharm": {
     "name": "#%% md\n"
    }
   }
  },
  {
   "cell_type": "code",
   "execution_count": 315,
   "outputs": [
    {
     "data": {
      "text/plain": "977"
     },
     "execution_count": 315,
     "metadata": {},
     "output_type": "execute_result"
    }
   ],
   "source": [
    "all = df\n",
    "df = df[df.gameVersion.apply(lambda x: x[0] == \"12\")]\n",
    "len(df)"
   ],
   "metadata": {
    "collapsed": false,
    "pycharm": {
     "name": "#%%\n"
    }
   }
  },
  {
   "cell_type": "code",
   "execution_count": 316,
   "outputs": [
    {
     "name": "stdout",
     "output_type": "stream",
     "text": [
      "98.46% Games played alone now\n",
      "96.87% Games played alone total\n",
      "15 low MMR games played\n",
      "50 low MMR games played total\n"
     ]
    }
   ],
   "source": [
    "solo = df[df.team.apply(lambda x: len({i for sublist in list(map(s.get, x)) for i in sublist} & friends - {query})) == 0]\n",
    "premade = df[df.team.apply(lambda x: len({i for sublist in list(map(s.get, x)) for i in sublist} & friends - {query})) != 0]\n",
    "all_solo = all[all.team.apply(lambda x: len({i for sublist in list(map(s.get, x)) for i in sublist} & friends - {query})) == 0]\n",
    "all_premade = all[all.team.apply(lambda x: len({i for sublist in list(map(s.get, x)) for i in sublist} & friends - {query})) != 0]\n",
    "\n",
    "print(percent(solo, df) + \"% Games played alone now\")\n",
    "print(percent(all_solo, all) + \"% Games played alone total\")\n",
    "print(len(premade), \"low MMR games played\")\n",
    "print(len(all_premade), \"low MMR games played total\")"
   ],
   "metadata": {
    "collapsed": false,
    "pycharm": {
     "name": "#%%\n"
    }
   }
  },
  {
   "cell_type": "code",
   "execution_count": 317,
   "outputs": [
    {
     "data": {
      "text/plain": "'49.2% 481'"
     },
     "execution_count": 317,
     "metadata": {},
     "output_type": "execute_result"
    }
   ],
   "source": [
    "wr(df)"
   ],
   "metadata": {
    "collapsed": false,
    "pycharm": {
     "name": "#%%\n"
    }
   }
  },
  {
   "cell_type": "code",
   "execution_count": 318,
   "outputs": [
    {
     "data": {
      "text/plain": "'49.5% 476'"
     },
     "execution_count": 318,
     "metadata": {},
     "output_type": "execute_result"
    }
   ],
   "source": [
    "wr(solo)"
   ],
   "metadata": {
    "collapsed": false,
    "pycharm": {
     "name": "#%%\n"
    }
   }
  },
  {
   "cell_type": "code",
   "execution_count": 319,
   "outputs": [
    {
     "data": {
      "text/plain": "'33.3% 5'"
     },
     "execution_count": 319,
     "metadata": {},
     "output_type": "execute_result"
    }
   ],
   "source": [
    "wr(premade)"
   ],
   "metadata": {
    "collapsed": false,
    "pycharm": {
     "name": "#%%\n"
    }
   }
  },
  {
   "cell_type": "code",
   "execution_count": 320,
   "outputs": [
    {
     "data": {
      "text/plain": "'40.0% 20'"
     },
     "execution_count": 320,
     "metadata": {},
     "output_type": "execute_result"
    }
   ],
   "source": [
    "wr(all_premade)"
   ],
   "metadata": {
    "collapsed": false,
    "pycharm": {
     "name": "#%%\n"
    }
   }
  },
  {
   "cell_type": "code",
   "execution_count": 321,
   "outputs": [
    {
     "data": {
      "text/plain": "              wins  total    wr\nLillia          12     16  75.0\nHecarim          6      8  75.0\nSenna            9     12  75.0\nOrnn             5      7  71.0\nSinged          26     39  67.0\nIllaoi          14     21  67.0\nThresh          17     26  65.0\nAlistar         13     20  65.0\nRumble          13     20  65.0\nTaliyah          9     14  64.0\nKha'Zix         12     19  63.0\nBraum            5      8  62.0\nAphelios         5      8  62.0\nJinx             5      8  62.0\nBlitzcrank      10     16  62.0\nMaokai           8     13  62.0\nCaitlyn         10     16  62.0\nSyndra           4      7  57.0\nIvern            4      7  57.0\nNeeko            4      7  57.0\nTrundle          5      9  56.0\nElise            5      9  56.0\nDraven           5      9  56.0\nTahm Kench      20     38  53.0\nMiss Fortune     9     17  53.0\nSamira          14     27  52.0\nKai'Sa          16     31  52.0\nBard             5     10  50.0\nDarius           6     13  46.0\nZyra             6     13  46.0\nAshe             9     20  45.0\nCamille          9     20  45.0\nSion             5     11  45.0\nMorgana          5     11  45.0\nLux              7     16  44.0\nKindred          4      9  44.0\nQuinn            6     14  43.0\nTwitch           3      7  43.0\nCorki            3      7  43.0\nSett             5     12  42.0\nBrand            8     19  42.0\nXayah            6     16  38.0\nCho'Gath         5     13  38.0\nSona             3      8  38.0\nSwain            3      8  38.0\nXerath           6     17  35.0\nTwisted Fate     7     21  33.0\nTryndamere       2      7  29.0\nJayce            3     11  27.0\nKarthus          2      8  25.0\nRenekton         2      8  25.0\nZac              2      9  22.0\nMordekaiser      1      7  14.0",
      "text/html": "<div>\n<style scoped>\n    .dataframe tbody tr th:only-of-type {\n        vertical-align: middle;\n    }\n\n    .dataframe tbody tr th {\n        vertical-align: top;\n    }\n\n    .dataframe thead th {\n        text-align: right;\n    }\n</style>\n<table border=\"1\" class=\"dataframe\">\n  <thead>\n    <tr style=\"text-align: right;\">\n      <th></th>\n      <th>wins</th>\n      <th>total</th>\n      <th>wr</th>\n    </tr>\n  </thead>\n  <tbody>\n    <tr>\n      <th>Lillia</th>\n      <td>12</td>\n      <td>16</td>\n      <td>75.0</td>\n    </tr>\n    <tr>\n      <th>Hecarim</th>\n      <td>6</td>\n      <td>8</td>\n      <td>75.0</td>\n    </tr>\n    <tr>\n      <th>Senna</th>\n      <td>9</td>\n      <td>12</td>\n      <td>75.0</td>\n    </tr>\n    <tr>\n      <th>Ornn</th>\n      <td>5</td>\n      <td>7</td>\n      <td>71.0</td>\n    </tr>\n    <tr>\n      <th>Singed</th>\n      <td>26</td>\n      <td>39</td>\n      <td>67.0</td>\n    </tr>\n    <tr>\n      <th>Illaoi</th>\n      <td>14</td>\n      <td>21</td>\n      <td>67.0</td>\n    </tr>\n    <tr>\n      <th>Thresh</th>\n      <td>17</td>\n      <td>26</td>\n      <td>65.0</td>\n    </tr>\n    <tr>\n      <th>Alistar</th>\n      <td>13</td>\n      <td>20</td>\n      <td>65.0</td>\n    </tr>\n    <tr>\n      <th>Rumble</th>\n      <td>13</td>\n      <td>20</td>\n      <td>65.0</td>\n    </tr>\n    <tr>\n      <th>Taliyah</th>\n      <td>9</td>\n      <td>14</td>\n      <td>64.0</td>\n    </tr>\n    <tr>\n      <th>Kha'Zix</th>\n      <td>12</td>\n      <td>19</td>\n      <td>63.0</td>\n    </tr>\n    <tr>\n      <th>Braum</th>\n      <td>5</td>\n      <td>8</td>\n      <td>62.0</td>\n    </tr>\n    <tr>\n      <th>Aphelios</th>\n      <td>5</td>\n      <td>8</td>\n      <td>62.0</td>\n    </tr>\n    <tr>\n      <th>Jinx</th>\n      <td>5</td>\n      <td>8</td>\n      <td>62.0</td>\n    </tr>\n    <tr>\n      <th>Blitzcrank</th>\n      <td>10</td>\n      <td>16</td>\n      <td>62.0</td>\n    </tr>\n    <tr>\n      <th>Maokai</th>\n      <td>8</td>\n      <td>13</td>\n      <td>62.0</td>\n    </tr>\n    <tr>\n      <th>Caitlyn</th>\n      <td>10</td>\n      <td>16</td>\n      <td>62.0</td>\n    </tr>\n    <tr>\n      <th>Syndra</th>\n      <td>4</td>\n      <td>7</td>\n      <td>57.0</td>\n    </tr>\n    <tr>\n      <th>Ivern</th>\n      <td>4</td>\n      <td>7</td>\n      <td>57.0</td>\n    </tr>\n    <tr>\n      <th>Neeko</th>\n      <td>4</td>\n      <td>7</td>\n      <td>57.0</td>\n    </tr>\n    <tr>\n      <th>Trundle</th>\n      <td>5</td>\n      <td>9</td>\n      <td>56.0</td>\n    </tr>\n    <tr>\n      <th>Elise</th>\n      <td>5</td>\n      <td>9</td>\n      <td>56.0</td>\n    </tr>\n    <tr>\n      <th>Draven</th>\n      <td>5</td>\n      <td>9</td>\n      <td>56.0</td>\n    </tr>\n    <tr>\n      <th>Tahm Kench</th>\n      <td>20</td>\n      <td>38</td>\n      <td>53.0</td>\n    </tr>\n    <tr>\n      <th>Miss Fortune</th>\n      <td>9</td>\n      <td>17</td>\n      <td>53.0</td>\n    </tr>\n    <tr>\n      <th>Samira</th>\n      <td>14</td>\n      <td>27</td>\n      <td>52.0</td>\n    </tr>\n    <tr>\n      <th>Kai'Sa</th>\n      <td>16</td>\n      <td>31</td>\n      <td>52.0</td>\n    </tr>\n    <tr>\n      <th>Bard</th>\n      <td>5</td>\n      <td>10</td>\n      <td>50.0</td>\n    </tr>\n    <tr>\n      <th>Darius</th>\n      <td>6</td>\n      <td>13</td>\n      <td>46.0</td>\n    </tr>\n    <tr>\n      <th>Zyra</th>\n      <td>6</td>\n      <td>13</td>\n      <td>46.0</td>\n    </tr>\n    <tr>\n      <th>Ashe</th>\n      <td>9</td>\n      <td>20</td>\n      <td>45.0</td>\n    </tr>\n    <tr>\n      <th>Camille</th>\n      <td>9</td>\n      <td>20</td>\n      <td>45.0</td>\n    </tr>\n    <tr>\n      <th>Sion</th>\n      <td>5</td>\n      <td>11</td>\n      <td>45.0</td>\n    </tr>\n    <tr>\n      <th>Morgana</th>\n      <td>5</td>\n      <td>11</td>\n      <td>45.0</td>\n    </tr>\n    <tr>\n      <th>Lux</th>\n      <td>7</td>\n      <td>16</td>\n      <td>44.0</td>\n    </tr>\n    <tr>\n      <th>Kindred</th>\n      <td>4</td>\n      <td>9</td>\n      <td>44.0</td>\n    </tr>\n    <tr>\n      <th>Quinn</th>\n      <td>6</td>\n      <td>14</td>\n      <td>43.0</td>\n    </tr>\n    <tr>\n      <th>Twitch</th>\n      <td>3</td>\n      <td>7</td>\n      <td>43.0</td>\n    </tr>\n    <tr>\n      <th>Corki</th>\n      <td>3</td>\n      <td>7</td>\n      <td>43.0</td>\n    </tr>\n    <tr>\n      <th>Sett</th>\n      <td>5</td>\n      <td>12</td>\n      <td>42.0</td>\n    </tr>\n    <tr>\n      <th>Brand</th>\n      <td>8</td>\n      <td>19</td>\n      <td>42.0</td>\n    </tr>\n    <tr>\n      <th>Xayah</th>\n      <td>6</td>\n      <td>16</td>\n      <td>38.0</td>\n    </tr>\n    <tr>\n      <th>Cho'Gath</th>\n      <td>5</td>\n      <td>13</td>\n      <td>38.0</td>\n    </tr>\n    <tr>\n      <th>Sona</th>\n      <td>3</td>\n      <td>8</td>\n      <td>38.0</td>\n    </tr>\n    <tr>\n      <th>Swain</th>\n      <td>3</td>\n      <td>8</td>\n      <td>38.0</td>\n    </tr>\n    <tr>\n      <th>Xerath</th>\n      <td>6</td>\n      <td>17</td>\n      <td>35.0</td>\n    </tr>\n    <tr>\n      <th>Twisted Fate</th>\n      <td>7</td>\n      <td>21</td>\n      <td>33.0</td>\n    </tr>\n    <tr>\n      <th>Tryndamere</th>\n      <td>2</td>\n      <td>7</td>\n      <td>29.0</td>\n    </tr>\n    <tr>\n      <th>Jayce</th>\n      <td>3</td>\n      <td>11</td>\n      <td>27.0</td>\n    </tr>\n    <tr>\n      <th>Karthus</th>\n      <td>2</td>\n      <td>8</td>\n      <td>25.0</td>\n    </tr>\n    <tr>\n      <th>Renekton</th>\n      <td>2</td>\n      <td>8</td>\n      <td>25.0</td>\n    </tr>\n    <tr>\n      <th>Zac</th>\n      <td>2</td>\n      <td>9</td>\n      <td>22.0</td>\n    </tr>\n    <tr>\n      <th>Mordekaiser</th>\n      <td>1</td>\n      <td>7</td>\n      <td>14.0</td>\n    </tr>\n  </tbody>\n</table>\n</div>"
     },
     "execution_count": 321,
     "metadata": {},
     "output_type": "execute_result"
    }
   ],
   "source": [
    "w = wl(df, filter=7).rename(index=champ_id_to_name)\n",
    "\n",
    "w.sort_values(\"wr\", ascending=False)"
   ],
   "metadata": {
    "collapsed": false,
    "pycharm": {
     "name": "#%%\n"
    }
   }
  },
  {
   "cell_type": "code",
   "execution_count": 322,
   "outputs": [
    {
     "data": {
      "text/plain": "              wins  total    wr\nBraum           12     17  71.0\nSenna           14     20  70.0\nRumble          14     21  67.0\nIllaoi          14     21  67.0\nTwitch          12     18  67.0\nSinged          28     43  65.0\nAphelios        11     17  65.0\nAlistar         23     36  64.0\nTaliyah         11     18  61.0\nMalphite        11     18  61.0\nBlitzcrank      22     36  61.0\nKha'Zix         15     25  60.0\nCaitlyn         12     20  60.0\nJinx            13     22  59.0\nMorgana         10     17  59.0\nTahm Kench      33     57  58.0\nMaokai          11     19  58.0\nThresh          27     47  57.0\nCorki           17     30  57.0\nLillia          14     25  56.0\nAshe            21     38  55.0\nSion            11     20  55.0\nMiss Fortune    13     24  54.0\nCamille         23     44  52.0\nSamira          15     29  52.0\nKai'Sa          21     41  51.0\nJayce           11     22  50.0\nKarthus         10     20  50.0\nLux             11     24  46.0\nSett            10     22  45.0\nCho'Gath        10     22  45.0\nXerath           9     21  43.0\nZyra            11     26  42.0\nXayah           11     26  42.0\nQuinn            7     17  41.0\nDarius           8     20  40.0\nBrand            9     24  38.0\nTwisted Fate     8     23  35.0\nSwain            6     19  32.0",
      "text/html": "<div>\n<style scoped>\n    .dataframe tbody tr th:only-of-type {\n        vertical-align: middle;\n    }\n\n    .dataframe tbody tr th {\n        vertical-align: top;\n    }\n\n    .dataframe thead th {\n        text-align: right;\n    }\n</style>\n<table border=\"1\" class=\"dataframe\">\n  <thead>\n    <tr style=\"text-align: right;\">\n      <th></th>\n      <th>wins</th>\n      <th>total</th>\n      <th>wr</th>\n    </tr>\n  </thead>\n  <tbody>\n    <tr>\n      <th>Braum</th>\n      <td>12</td>\n      <td>17</td>\n      <td>71.0</td>\n    </tr>\n    <tr>\n      <th>Senna</th>\n      <td>14</td>\n      <td>20</td>\n      <td>70.0</td>\n    </tr>\n    <tr>\n      <th>Rumble</th>\n      <td>14</td>\n      <td>21</td>\n      <td>67.0</td>\n    </tr>\n    <tr>\n      <th>Illaoi</th>\n      <td>14</td>\n      <td>21</td>\n      <td>67.0</td>\n    </tr>\n    <tr>\n      <th>Twitch</th>\n      <td>12</td>\n      <td>18</td>\n      <td>67.0</td>\n    </tr>\n    <tr>\n      <th>Singed</th>\n      <td>28</td>\n      <td>43</td>\n      <td>65.0</td>\n    </tr>\n    <tr>\n      <th>Aphelios</th>\n      <td>11</td>\n      <td>17</td>\n      <td>65.0</td>\n    </tr>\n    <tr>\n      <th>Alistar</th>\n      <td>23</td>\n      <td>36</td>\n      <td>64.0</td>\n    </tr>\n    <tr>\n      <th>Taliyah</th>\n      <td>11</td>\n      <td>18</td>\n      <td>61.0</td>\n    </tr>\n    <tr>\n      <th>Malphite</th>\n      <td>11</td>\n      <td>18</td>\n      <td>61.0</td>\n    </tr>\n    <tr>\n      <th>Blitzcrank</th>\n      <td>22</td>\n      <td>36</td>\n      <td>61.0</td>\n    </tr>\n    <tr>\n      <th>Kha'Zix</th>\n      <td>15</td>\n      <td>25</td>\n      <td>60.0</td>\n    </tr>\n    <tr>\n      <th>Caitlyn</th>\n      <td>12</td>\n      <td>20</td>\n      <td>60.0</td>\n    </tr>\n    <tr>\n      <th>Jinx</th>\n      <td>13</td>\n      <td>22</td>\n      <td>59.0</td>\n    </tr>\n    <tr>\n      <th>Morgana</th>\n      <td>10</td>\n      <td>17</td>\n      <td>59.0</td>\n    </tr>\n    <tr>\n      <th>Tahm Kench</th>\n      <td>33</td>\n      <td>57</td>\n      <td>58.0</td>\n    </tr>\n    <tr>\n      <th>Maokai</th>\n      <td>11</td>\n      <td>19</td>\n      <td>58.0</td>\n    </tr>\n    <tr>\n      <th>Thresh</th>\n      <td>27</td>\n      <td>47</td>\n      <td>57.0</td>\n    </tr>\n    <tr>\n      <th>Corki</th>\n      <td>17</td>\n      <td>30</td>\n      <td>57.0</td>\n    </tr>\n    <tr>\n      <th>Lillia</th>\n      <td>14</td>\n      <td>25</td>\n      <td>56.0</td>\n    </tr>\n    <tr>\n      <th>Ashe</th>\n      <td>21</td>\n      <td>38</td>\n      <td>55.0</td>\n    </tr>\n    <tr>\n      <th>Sion</th>\n      <td>11</td>\n      <td>20</td>\n      <td>55.0</td>\n    </tr>\n    <tr>\n      <th>Miss Fortune</th>\n      <td>13</td>\n      <td>24</td>\n      <td>54.0</td>\n    </tr>\n    <tr>\n      <th>Camille</th>\n      <td>23</td>\n      <td>44</td>\n      <td>52.0</td>\n    </tr>\n    <tr>\n      <th>Samira</th>\n      <td>15</td>\n      <td>29</td>\n      <td>52.0</td>\n    </tr>\n    <tr>\n      <th>Kai'Sa</th>\n      <td>21</td>\n      <td>41</td>\n      <td>51.0</td>\n    </tr>\n    <tr>\n      <th>Jayce</th>\n      <td>11</td>\n      <td>22</td>\n      <td>50.0</td>\n    </tr>\n    <tr>\n      <th>Karthus</th>\n      <td>10</td>\n      <td>20</td>\n      <td>50.0</td>\n    </tr>\n    <tr>\n      <th>Lux</th>\n      <td>11</td>\n      <td>24</td>\n      <td>46.0</td>\n    </tr>\n    <tr>\n      <th>Sett</th>\n      <td>10</td>\n      <td>22</td>\n      <td>45.0</td>\n    </tr>\n    <tr>\n      <th>Cho'Gath</th>\n      <td>10</td>\n      <td>22</td>\n      <td>45.0</td>\n    </tr>\n    <tr>\n      <th>Xerath</th>\n      <td>9</td>\n      <td>21</td>\n      <td>43.0</td>\n    </tr>\n    <tr>\n      <th>Zyra</th>\n      <td>11</td>\n      <td>26</td>\n      <td>42.0</td>\n    </tr>\n    <tr>\n      <th>Xayah</th>\n      <td>11</td>\n      <td>26</td>\n      <td>42.0</td>\n    </tr>\n    <tr>\n      <th>Quinn</th>\n      <td>7</td>\n      <td>17</td>\n      <td>41.0</td>\n    </tr>\n    <tr>\n      <th>Darius</th>\n      <td>8</td>\n      <td>20</td>\n      <td>40.0</td>\n    </tr>\n    <tr>\n      <th>Brand</th>\n      <td>9</td>\n      <td>24</td>\n      <td>38.0</td>\n    </tr>\n    <tr>\n      <th>Twisted Fate</th>\n      <td>8</td>\n      <td>23</td>\n      <td>35.0</td>\n    </tr>\n    <tr>\n      <th>Swain</th>\n      <td>6</td>\n      <td>19</td>\n      <td>32.0</td>\n    </tr>\n  </tbody>\n</table>\n</div>"
     },
     "execution_count": 322,
     "metadata": {},
     "output_type": "execute_result"
    }
   ],
   "source": [
    "w = wl(all, filter=17).rename(index=champ_id_to_name)\n",
    "\n",
    "w.sort_values(\"wr\", ascending=False)"
   ],
   "metadata": {
    "collapsed": false,
    "pycharm": {
     "name": "#%%\n"
    }
   }
  },
  {
   "cell_type": "code",
   "execution_count": 323,
   "outputs": [],
   "source": [
    "adc_games = df[df.champs.apply(lambda x: len(set(map(champ_id_to_name.get, x)) & adc) != 0)]\n",
    "no_adc_games = df[df.champs.apply(lambda x: len(set(map(champ_id_to_name.get, x)) & adc) == 0)]"
   ],
   "metadata": {
    "collapsed": false,
    "pycharm": {
     "name": "#%%\n"
    }
   }
  },
  {
   "cell_type": "code",
   "execution_count": 324,
   "outputs": [
    {
     "data": {
      "text/plain": "'49.9% 417'"
     },
     "execution_count": 324,
     "metadata": {},
     "output_type": "execute_result"
    }
   ],
   "source": [
    "wr(adc_games)"
   ],
   "metadata": {
    "collapsed": false,
    "pycharm": {
     "name": "#%%\n"
    }
   }
  },
  {
   "cell_type": "code",
   "execution_count": 325,
   "outputs": [
    {
     "data": {
      "text/plain": "'45.1% 64'"
     },
     "execution_count": 325,
     "metadata": {},
     "output_type": "execute_result"
    }
   ],
   "source": [
    "wr(no_adc_games)"
   ],
   "metadata": {
    "collapsed": false,
    "pycharm": {
     "name": "#%%\n"
    }
   }
  },
  {
   "cell_type": "markdown",
   "source": [
    "#### Win Time distribution"
   ],
   "metadata": {
    "collapsed": false
   }
  },
  {
   "cell_type": "code",
   "execution_count": 326,
   "outputs": [
    {
     "data": {
      "text/plain": "<AxesSubplot:xlabel='gameDuration', ylabel='Count'>"
     },
     "execution_count": 326,
     "metadata": {},
     "output_type": "execute_result"
    },
    {
     "data": {
      "text/plain": "<Figure size 432x288 with 1 Axes>",
      "image/png": "[encoded data removed]"
     },
     "metadata": {
      "needs_background": "light"
     },
     "output_type": "display_data"
    }
   ],
   "source": [
    "sns.histplot(df[[\"gameDuration\",\"win\"]], x=\"gameDuration\", hue=\"win\", element=\"step\",kde=True)"
   ],
   "metadata": {
    "collapsed": false,
    "pycharm": {
     "name": "#%%\n"
    }
   }
  },
  {
   "cell_type": "code",
   "execution_count": 327,
   "outputs": [
    {
     "data": {
      "text/plain": "mean    17m 14s\nstd      3m 45s\nmin       4m 3s\nmax     30m 33s\nName: gameDuration, dtype: object"
     },
     "execution_count": 327,
     "metadata": {},
     "output_type": "execute_result"
    }
   ],
   "source": [
    "df[df.win == True].gameDuration.describe().drop([\"count\",\"25%\",\"50%\",\"75%\"]).apply(lambda x: str(int(x // 60))+\"m \"+str(int(x%60))+\"s\")"
   ],
   "metadata": {
    "collapsed": false,
    "pycharm": {
     "name": "#%%\n"
    }
   }
  },
  {
   "cell_type": "markdown",
   "source": [
    "#### Loss Time distribution"
   ],
   "metadata": {
    "collapsed": false,
    "pycharm": {
     "name": "#%% md\n"
    }
   }
  },
  {
   "cell_type": "code",
   "execution_count": 328,
   "outputs": [
    {
     "data": {
      "text/plain": "mean    17m 41s\nstd       4m 9s\nmin      5m 20s\nmax      32m 4s\nName: gameDuration, dtype: object"
     },
     "execution_count": 328,
     "metadata": {},
     "output_type": "execute_result"
    }
   ],
   "source": [
    "df[df.win == False].gameDuration.describe().drop([\"count\",\"25%\",\"50%\",\"75%\"]).apply(lambda x: str(int(x // 60))+\"m \"+str(int(x%60))+\"s\")"
   ],
   "metadata": {
    "collapsed": false,
    "pycharm": {
     "name": "#%%\n"
    }
   }
  },
  {
   "cell_type": "code",
   "execution_count": 329,
   "outputs": [
    {
     "name": "stdout",
     "output_type": "stream",
     "text": [
      "{'Reformed Monkeey'} = 55\n",
      "{'Solo ßolo'} = 37\n",
      "{'qmp', 'ai kitty', 'yuukiko', 'Lilyˇ'} = 36\n",
      "{'Jeffˇ', 'hula', 'eggwich', 'taiyouko'} = 35\n",
      "{'Tennen'} = 30\n",
      "{'xRedNinjax'} = 29\n",
      "{'YaphetsGGG'} = 28\n",
      "{'Kushra', 'Kushra TV'} = 26\n",
      "{'HelionRokin', 'Enilex'} = 26\n",
      "{'Fearful'} = 25\n",
      "{'pªndª', 'MoreSaltThanRice', 'Pandacreator'} = 24\n",
      "{'IIIIIIOIIIIII'} = 24\n",
      "{'Pomhubcom'} = 24\n",
      "{'iskullllz'} = 24\n",
      "{'Unseen Shadów', 'ZedShurikens'} = 24\n",
      "{'Nitsuaa'} = 24\n",
      "{'Oppai Senpai'} = 23\n",
      "{'JustJeff'} = 23\n",
      "{'5cupOfFreedOM', 'CrimeRoni', 'Opeus'} = 23\n",
      "{'Sleep Patterns'} = 22\n",
      "{'káchigga'} = 22\n",
      "{'ToxickYasuo'} = 22\n",
      "{'JustFalseX'} = 21\n",
      "{'choar'} = 21\n",
      "{'dps threat', 'chitoge chan', 'EXHAUST ME MORE'} = 20\n",
      "{'lapsang souchong', 'callthefoulref', 'HumbleG0D'} = 20\n",
      "{'DrLatency'} = 20\n",
      "{'Jüan'} = 20\n",
      "{'Yazoo'} = 20\n",
      "{'Yozakura Family'} = 19\n",
      "{'IittIe pogchamp'} = 19\n",
      "{'möptöp'} = 18\n",
      "{'Mai Gawd'} = 18\n",
      "{'HoGenda', 'Mohõ'} = 18\n",
      "{'Your Anpanman', 'Way Of Tomoe', 'subject of ymir'} = 18\n",
      "{'NaabinDirty'} = 18\n",
      "{'IllIllIllIlllI', 'CR Risen', 'HD InChrist', 'I1l1l1l1l1l1'} = 18\n",
      "{'12andomAzn'} = 18\n",
      "{'hmm yes ', '3o3', 'idoits'} = 18\n",
      "{'Paris Hilton'} = 17\n",
      "{'ChewieTheWookiee'} = 17\n",
      "{'TEHNAMEOFANOOB'} = 17\n",
      "{'HuberyjYy'} = 17\n",
      "{'YellowBlind'} = 16\n",
      "{'amthst'} = 16\n",
      "{'FPX JinGong'} = 16\n",
      "{'KKENN'} = 16\n",
      "{'Serenoa', 'BhoMe'} = 16\n",
      "{'SkullKnight0', 'SkullKníght'} = 16\n",
      "{'Lay Vong'} = 16\n",
      "{'tetedure2000'} = 16\n",
      "{'SpazM'} = 15\n",
      "{'Usni'} = 15\n",
      "{'GoPowerRangers'} = 15\n",
      "{'Aureou'} = 15\n",
      "{'Fenix MG'} = 15\n",
      "{'OyshiManko'} = 15\n",
      "{'jungle camp', 'Swordabear'} = 15\n",
      "{'Klept'} = 15\n",
      "{'Ðissonance'} = 15\n",
      "{'Patapown', 'Patapown64'} = 15\n",
      "{'Fiesta'} = 15\n",
      "{'Nicô'} = 15\n",
      "{'młsery', 'rngu', 'spark1'} = 15\n",
      "{'Plàyer', 'þot', 'Tier 0'} = 15\n",
      "{'Airslie', 'Mylae', 'Marble Fawn', 'Lil MuffN'} = 15\n",
      "{'ScuttleScoots', 'Posture Coach'} = 14\n",
      "{'ni shì gu ér 1', 'aniv sup enjoyer'} = 14\n",
      "{'Aneur'} = 14\n",
      "{'AequitasAeternae'} = 14\n",
      "{'Churuk'} = 14\n",
      "{'Perma0'} = 14\n",
      "{'Nucc'} = 14\n",
      "{'FunkyDunky'} = 14\n",
      "{'AsianNg'} = 14\n",
      "{'NQ2Resq'} = 14\n",
      "{'SigKircheis', 'Get Derived'} = 13\n",
      "{'youre so poggers', 'elo boost me'} = 13\n",
      "{'9ˇRan OvQ'} = 13\n",
      "{'your stepdad'} = 13\n",
      "{'Snake1314'} = 13\n",
      "{'crystalline', 'crystaIIine', 'brojustshutup', 'Moon Melody'} = 13\n",
      "{'Barsad'} = 13\n",
      "{'asukatype2'} = 13\n",
      "{'SodaBoyMan'} = 13\n",
      "{'Nook'} = 13\n",
      "{'Smileinfected'} = 12\n",
      "{'gwenfans'} = 12\n",
      "{'Hi I am Keith'} = 12\n",
      "{'Kami is success'} = 12\n",
      "{'ELISE Ya Tried'} = 12\n",
      "{'beöwulf '} = 12\n",
      "{'Fatal Feeling'} = 12\n",
      "{'TheSapphireLight'} = 12\n",
      "{'lassitudeman'} = 12\n",
      "{'YumYumEggnog', 'YumYumMonster'} = 12\n",
      "{'I am full'} = 12\n",
      "{'Yuumi Specialist'} = 12\n",
      "{'BayArea DanielWu'} = 12\n",
      "{'iRoar', 'hippocrites'} = 11\n",
      "{'Wrq'} = 11\n",
      "{'Babayagaaaz'} = 11\n",
      "{'tacticalmonk'} = 11\n",
      "{'Łamb'} = 11\n",
      "{'Mvp25666666'} = 11\n",
      "{'greenleaf man'} = 11\n",
      "{'TouchlessZeno'} = 11\n",
      "{'FrostyFeet7'} = 11\n",
      "{'youyima', 'Uturoid'} = 11\n",
      "{'TwitchTVNyro2', 'Justified Ego', 'Behold the 1v9'} = 11\n",
      "{'the shock'} = 11\n",
      "{'38º6'} = 11\n",
      "{'Vincent'} = 11\n",
      "{'mini minitee'} = 11\n",
      "{'Prithee'} = 11\n",
      "{'McShady'} = 11\n",
      "{'Andromedaa'} = 11\n",
      "{'Transcend'} = 11\n",
      "{'Dark Alice'} = 11\n",
      "{'supercoolisaac'} = 11\n",
      "{'YongeBoy', 'ARAMBOY'} = 11\n",
      "{'bees', 'ìrene'} = 11\n",
      "{'cutie cat'} = 10\n",
      "{'Angela 77'} = 10\n",
      "{'lceywarrior'} = 10\n",
      "{'cloudlightfellow'} = 10\n",
      "{'Jake InZane'} = 10\n",
      "{'Schüler'} = 10\n",
      "{'TRH Fiend'} = 10\n",
      "{'High Elo ARAM'} = 10\n",
      "{'OhMyGodltsDavid', 'Kevin Ut Le'} = 10\n",
      "{'Power Creep'} = 10\n",
      "{'AngryCritic'} = 10\n",
      "{'RupturedRectum'} = 10\n",
      "{'Babykingkong'} = 10\n",
      "{'kevkevwuhoo'} = 10\n",
      "{'supermonkey3784', 'fishermann', 'glubin'} = 10\n",
      "{'nerf aram poke', 'Fiddlesticks IRL'} = 10\n",
      "{'Dan Danking', 'Kazuma Kazuma', 'iFistu', 'iHateADCarry'} = 10\n",
      "{'Mamiya Takuji', 'I Hazard I', 'hazzz'} = 10\n",
      "{'Sevenity'} = 10\n",
      "{'HUA REN XIAO YU'} = 10\n",
      "{'Pas de Chance'} = 10\n",
      "{'skìes'} = 10\n",
      "{'Perfect Crime'} = 10\n",
      "{'Ceve'} = 10\n",
      "{'Eggroll111'} = 10\n",
      "{'Yoning'} = 10\n",
      "{'kenken302'} = 10\n",
      "{'Rivver', 'woodvale', 'Moonbringer'} = 10\n",
      "{'arïana grande'} = 10\n",
      "{'Gom Jabbar'} = 10\n",
      "{'ƒorte'} = 10\n",
      "{'Noxbea'} = 10\n",
      "{' H é'} = 10\n",
      "{'Arz'} = 10\n",
      "{'redra2'} = 10\n",
      "{'Yoooooooooooo'} = 9\n",
      "{'AudibleSigh'} = 9\n",
      "{'Father of Sin'} = 9\n",
      "{'Depravation boy'} = 9\n",
      "{'KatEvolved'} = 9\n",
      "{'Coco9'} = 9\n",
      "{'vPEunice'} = 9\n",
      "{'Dantrium', 'Hi I am DL', 'vTen'} = 9\n",
      "{'taylorclone'} = 9\n",
      "{'DoblinTheGoblin', 'Ghostgem9'} = 9\n",
      "{' matrìx', 'brojustkeepcalm'} = 9\n",
      "{'DevoidOfDisaster'} = 9\n",
      "{'Brioche à Tête'} = 9\n",
      "{'time wiII tell'} = 9\n",
      "{'Miquellaś Blade'} = 9\n",
      "{'Shrine Priestess'} = 9\n",
      "{'Diaa2', 'Mohamed Sela'} = 9\n",
      "{'Särin'} = 9\n",
      "{'Dbanger21'} = 9\n",
      "{'Tenguev'} = 9\n",
      "{'Stokers Chew'} = 9\n",
      "{'ArLight'} = 9\n",
      "{'Òreo', 'SmalpWarlord', 'unravelingsoul'} = 9\n",
      "{'EnergySurge'} = 9\n",
      "{'DoolVl'} = 9\n",
      "{'Ñemesis'} = 9\n",
      "{'Chrssy'} = 9\n",
      "{'NowiNino'} = 9\n",
      "{'SelfAwareRoomba'} = 9\n",
      "{'MojoRomo', 'Butler MojoRomo'} = 9\n",
      "{'an old player'} = 9\n",
      "{'crunhy18'} = 9\n",
      "{'Titank'} = 9\n",
      "{'IssaJae', 'IssaSunny'} = 9\n",
      "{'Loyal Cygnaran'} = 9\n",
      "{'Zavex'} = 9\n",
      "{'DesignatedAnchor', 'ARAM GRINDFATHER', 'PrismatìcMortdog', 'Squid Player 69'} = 9\n",
      "{'Torpedo Torpedo'} = 9\n",
      "{'Apoloes'} = 9\n",
      "{'D0petoad'} = 9\n",
      "{'Acceptagain'} = 9\n",
      "{'ThoseLanesOrFeed'} = 9\n",
      "{'quintuplets'} = 8\n",
      "{'luap idranoel'} = 8\n",
      "{'BarrackiBombYa'} = 8\n",
      "{'woninthechamber'} = 8\n",
      "{'She Kills Men'} = 8\n",
      "{'nxvvyai'} = 8\n",
      "{'A Legendary Lee'} = 8\n",
      "{'Yabal'} = 8\n",
      "{'preditorzz', 'Pyke Market'} = 8\n",
      "{'RMSfriend'} = 8\n",
      "{'RøbloxCheck'} = 8\n",
      "{'Podrick Payne', 'im poo'} = 8\n",
      "{'jadedflux'} = 8\n",
      "{'EpicMnM9'} = 8\n",
      "{'Mooshn'} = 8\n",
      "{'Memento Cori', 'Bowoba'} = 8\n",
      "{'ASTRO666'} = 8\n",
      "{'Katsu KX', '01Katsu'} = 8\n",
      "{'ƒortunate'} = 8\n",
      "{'Dimensional'} = 8\n",
      "{'Bark Uh'} = 8\n",
      "{'Blankless'} = 8\n",
      "{'enlightenddark'} = 8\n",
      "{'TheBootyDoctorMD', 'MinisterOfBooty'} = 8\n",
      "{'patootie', 'ask me if i care', 'cre8tivity', 'mansplain'} = 8\n",
      "{'wotakoi', 'weeeeeeewoooooo', 'khr', 'love is war', 'goofy ahh team'} = 8\n",
      "{'lcatt1'} = 8\n",
      "{'dirty kog sucker', 'amor eterno'} = 8\n",
      "{'Prexzer'} = 8\n",
      "{'kyoshio'} = 8\n",
      "{'QianaSuckPlayer'} = 8\n",
      "{'tristanKAI'} = 8\n",
      "{'bestofTFF'} = 8\n",
      "{'BaconHamed'} = 8\n",
      "{'Sussy Bedstain'} = 8\n",
      "{'Ludaeos'} = 8\n",
      "{'rxxihfdom'} = 8\n",
      "{'TheOnlyADC'} = 8\n",
      "{'Fox Enthusiast', 'kasttt'} = 8\n",
      "{'Beastslaya16'} = 8\n",
      "{'MitsudomoeFTW'} = 8\n",
      "{'vooj', 'jvu'} = 8\n",
      "{'Meow8'} = 8\n",
      "{'Mackaroni'} = 7\n",
      "{'ohoho'} = 7\n",
      "{'Mirroroe'} = 7\n",
      "{'kiminoyuzuki'} = 7\n",
      "{'Shinjuku Saber ', 'Statistic101', 'YAHALL00'} = 7\n",
      "{'Beetle Bug'} = 7\n",
      "{'evil eboy'} = 7\n",
      "{'ChronoSaffron'} = 7\n",
      "{'ice is slippery'} = 7\n",
      "{'December   7'} = 7\n",
      "{'pizzapie12'} = 7\n",
      "{'Ubic'} = 7\n",
      "{'onedyl'} = 7\n",
      "{'Le iench', 'N9TF ISM JPG C9'} = 7\n",
      "{'ilovemyiPad'} = 7\n",
      "{'Fend1man'} = 7\n",
      "{'Lolmart'} = 7\n",
      "{'iHaveNoLifeQQ'} = 7\n",
      "{'BMGreenleaf'} = 7\n",
      "{'Stalyn'} = 7\n",
      "{'Kelcey'} = 7\n",
      "{'chrisandrew'} = 7\n",
      "{'Gaulrik'} = 7\n",
      "{'TazzDingoo'} = 7\n",
      "{'Evian Ice'} = 7\n",
      "{'SponsoredByHoney', 'SponsoredByARAM'} = 7\n",
      "{'GurtTooler'} = 7\n",
      "{'sup is not tool'} = 7\n",
      "{'Kleenn'} = 7\n",
      "{'RIP NutterButter'} = 7\n",
      "{'Criminalist'} = 7\n",
      "{'Pewcastle'} = 7\n",
      "{'Nahvis'} = 7\n",
      "{'Rushhu'} = 7\n",
      "{'Typo90'} = 7\n",
      "{'FrankieMoney'} = 7\n",
      "{'Volvat'} = 7\n",
      "{'TFpuma'} = 7\n",
      "{'ThyUnison'} = 7\n",
      "{'Burbank'} = 7\n",
      "{'Celerity'} = 7\n",
      "{'DrWumboDumbo'} = 7\n",
      "{'Cora'} = 7\n",
      "{'Milady Tonka', 'tonkavan v3', 'affclub dot ETH', 'tonkavan v2'} = 7\n",
      "{'LoveBaconStrips'} = 7\n",
      "{'EGO ON U', 'Composerlnverted'} = 7\n",
      "{'Sundried Cow'} = 7\n",
      "{'Buffing'} = 7\n",
      "{'TTTimothy'} = 7\n",
      "{'ChBin'} = 7\n",
      "{'Kevin Junior'} = 7\n",
      "{'gretcha', 'Pahfect Pookie', 'jayminfan', 'Madame Sweets', 'saranghae bye', 'jayd in'} = 7\n",
      "{'Oogiez', 'Oogie'} = 7\n",
      "{'EastKing'} = 7\n",
      "{'kNguyen'} = 7\n",
      "{'Chéri Chéri', 'Mutë Àll', 'Bitçhess'} = 6\n",
      "{'ßladę Gød'} = 6\n",
      "{'chowfan1'} = 6\n",
      "{'Alestz'} = 6\n",
      "{'asfsdgdfhggfh'} = 6\n",
      "{'Heywoodjahblowme'} = 6\n",
      "{'Lucky Cat'} = 6\n",
      "{'Teensy Wizard'} = 6\n",
      "{'itzKyleL'} = 6\n",
      "{'Scrub in a shrub'} = 6\n",
      "{'Viscéral'} = 6\n",
      "{'Szayelz'} = 6\n",
      "{'ShadowHakurai'} = 6\n",
      "{'alvinchangrocks'} = 6\n",
      "{'Mimage'} = 6\n",
      "{'Jouzef'} = 6\n",
      "{'Rakshasta'} = 6\n",
      "{'poopmaker'} = 6\n",
      "{'NAN OvO', 'killerZLY'} = 6\n",
      "{'Shamwwow'} = 6\n",
      "{'Nümpty'} = 6\n",
      "{'Deez Crits'} = 6\n",
      "{'Puckthepwner'} = 6\n",
      "{'ExplodingFist66'} = 6\n",
      "{'RubyXiaoLong'} = 6\n",
      "{'Crusable'} = 6\n",
      "{'Ainzy'} = 6\n",
      "{'ArchaicTroll'} = 6\n",
      "{'333'} = 6\n",
      "{'Eyeze'} = 6\n",
      "{'BunnyBuns311'} = 6\n",
      "{'Mèrlin'} = 6\n",
      "{'Frey'} = 6\n",
      "{'Pupupu2', 'yyzd', 'I am D4'} = 6\n",
      "{'SSwifter'} = 6\n",
      "{'Wii Fit Villager'} = 6\n",
      "{'Simzy', 'Cho Seungyoun'} = 6\n",
      "{'xuanshui'} = 6\n",
      "{'Cworkforest'} = 6\n",
      "{'Alkraan'} = 6\n",
      "{'jo3d'} = 6\n",
      "{'MlNTB3RRYCRUNCH'} = 6\n",
      "{'SparkStorm'} = 6\n",
      "{'Gnarcissistic '} = 6\n",
      "{'yggdia 2'} = 6\n",
      "{'Cereal Life'} = 6\n",
      "{'Pixar Lamp'} = 6\n",
      "{'SyIex'} = 6\n",
      "{'pendulumpopo'} = 6\n",
      "{'Wierdow'} = 6\n",
      "{'enuma'} = 6\n",
      "{'TedNoCancúnCruz'} = 6\n",
      "{'Gen Z Bakayaro'} = 6\n",
      "{'R1oot'} = 6\n",
      "{'He Tilts Me'} = 6\n",
      "{'walking on air'} = 6\n",
      "{'batminn'} = 6\n",
      "{'HappyCatPlayer'} = 6\n",
      "{'0808'} = 6\n",
      "{'Jonas hao'} = 6\n",
      "{'YYassuoo6'} = 6\n",
      "{'Morgue'} = 6\n",
      "{'adrenaline', 'ghost of you'} = 6\n",
      "{'Th3Noob'} = 6\n",
      "{'MrFluffy631'} = 6\n",
      "{' dêw'} = 6\n",
      "{'LA LiuHaoRan', 'Xin Sui Ze Ze', 'Xie Jiao Q'} = 5\n",
      "{'ShyAlice'} = 5\n",
      "{'Veroa'} = 5\n",
      "{'Lawlzdan'} = 5\n",
      "{'UltraEvol2', 'They See Ghosts'} = 5\n",
      "{'Shiny Bear'} = 5\n",
      "{'Ralofans', '2PickBoom'} = 5\n",
      "{'twostep twostep'} = 5\n",
      "{'Antonio6785'} = 5\n",
      "{'NofishNome', 'SaeEleisaTeraVi'} = 5\n",
      "{'Arifa'} = 5\n",
      "{'xSnipe'} = 5\n",
      "{'Lancrize '} = 5\n",
      "{'Winterizer'} = 5\n",
      "{'testingEnter'} = 5\n",
      "{'InfiElipson'} = 5\n",
      "{'LouisVuittonDòn'} = 5\n",
      "{'BIueM7', '      Ÿ  Ž  Mˉ'} = 5\n",
      "{'Galimaker'} = 5\n",
      "{'KyuKyu'} = 5\n",
      "{'Melango'} = 5\n",
      "{'Saebom'} = 5\n",
      "{'Softe '} = 5\n",
      "{'MechaToast'} = 5\n",
      "{'Yer'} = 5\n",
      "{'dragonvin'} = 5\n",
      "{'Jenaro'} = 5\n",
      "{'Happy Shuriken'} = 5\n",
      "{'Straw8berry'} = 5\n",
      "{'jlin77'} = 5\n",
      "{'CDC OPEN UP'} = 5\n",
      "{'Nątty'} = 5\n",
      "{'Hamburgirl'} = 5\n",
      "{'Cytik'} = 5\n",
      "{'Ewahls'} = 5\n",
      "{'Crispix'} = 5\n"
     ]
    }
   ],
   "source": [
    "from collections import Counter\n",
    "\n",
    "c = Counter(df.team.apply(list).sum() + df.other_team.apply(list).sum()).most_common()[1:400]\n",
    "for i in c:\n",
    "    print(s[i[0]], \"=\" ,i[1])\n"
   ],
   "metadata": {
    "collapsed": false,
    "pycharm": {
     "name": "#%%\n"
    }
   }
  },
  {
   "cell_type": "code",
   "execution_count": 330,
   "outputs": [
    {
     "name": "stdout",
     "output_type": "stream",
     "text": [
      "Riven, wr: 73.9% in 17 games\n"
     ]
    }
   ],
   "source": [
    "max_wr = 0\n",
    "gamer = \"\"\n",
    "total = 0\n",
    "for i in champs.index:\n",
    "    curr, games = wr(df[df.champs.apply(lambda x: i in set(map(champ_id_to_name.get, x)))]).split()\n",
    "    if int(games) > 10 and float(curr[:-1]) > max_wr:\n",
    "        max_wr = float(curr[:-1])\n",
    "        total = games\n",
    "        gamer = i\n",
    "print(f'{gamer}, wr: {max_wr}% in {total} games')"
   ],
   "metadata": {
    "collapsed": false,
    "pycharm": {
     "name": "#%%\n"
    }
   }
  },
  {
   "cell_type": "code",
   "execution_count": 331,
   "outputs": [
    {
     "data": {
      "text/plain": "role\nAssassin    48.78%\nFighter     50.51%\nMage        40.21%\nMarksman    50.59%\nSupport      50.4%\nTank        55.36%\nName: win, dtype: object"
     },
     "metadata": {},
     "output_type": "display_data"
    },
    {
     "data": {
      "application/vnd.plotly.v1+json": {
       "config": {
        "plotlyServerURL": "https://plot.ly"
       },
       "data": [
        {
         "domain": {
          "x": [
           0.0,
           1.0
          ],
          "y": [
           0.0,
           1.0
          ]
         },
         "hovertemplate": "role=%{label}<br>win=%{value}<extra></extra>",
         "labels": [
          "Assassin",
          "Fighter",
          "Mage",
          "Marksman",
          "Support",
          "Tank"
         ],
         "legendgroup": "",
         "name": "",
         "showlegend": true,
         "type": "pie",
         "values": [
          41,
          196,
          194,
          253,
          125,
          168
         ]
        }
       ],
       "layout": {
        "legend": {
         "tracegroupgap": 0
        },
        "margin": {
         "t": 60
        },
        "template": {
         "data": {
          "bar": [
           {
            "error_x": {
             "color": "#2a3f5f"
            },
            "error_y": {
             "color": "#2a3f5f"
            },
            "marker": {
             "line": {
              "color": "#E5ECF6",
              "width": 0.5
             },
             "pattern": {
              "fillmode": "overlay",
              "size": 10,
              "solidity": 0.2
             }
            },
            "type": "bar"
           }
          ],
          "barpolar": [
           {
            "marker": {
             "line": {
              "color": "#E5ECF6",
              "width": 0.5
             },
             "pattern": {
              "fillmode": "overlay",
              "size": 10,
              "solidity": 0.2
             }
            },
            "type": "barpolar"
           }
          ],
          "carpet": [
           {
            "aaxis": {
             "endlinecolor": "#2a3f5f",
             "gridcolor": "white",
             "linecolor": "white",
             "minorgridcolor": "white",
             "startlinecolor": "#2a3f5f"
            },
            "baxis": {
             "endlinecolor": "#2a3f5f",
             "gridcolor": "white",
             "linecolor": "white",
             "minorgridcolor": "white",
             "startlinecolor": "#2a3f5f"
            },
            "type": "carpet"
           }
          ],
          "choropleth": [
           {
            "colorbar": {
             "outlinewidth": 0,
             "ticks": ""
            },
            "type": "choropleth"
           }
          ],
          "contour": [
           {
            "colorbar": {
             "outlinewidth": 0,
             "ticks": ""
            },
            "colorscale": [
             [
              0.0,
              "#0d0887"
             ],
             [
              0.1111111111111111,
              "#46039f"
             ],
             [
              0.2222222222222222,
              "#7201a8"
             ],
             [
              0.3333333333333333,
              "#9c179e"
             ],
             [
              0.4444444444444444,
              "#bd3786"
             ],
             [
              0.5555555555555556,
              "#d8576b"
             ],
             [
              0.6666666666666666,
              "#ed7953"
             ],
             [
              0.7777777777777778,
              "#fb9f3a"
             ],
             [
              0.8888888888888888,
              "#fdca26"
             ],
             [
              1.0,
              "#f0f921"
             ]
            ],
            "type": "contour"
           }
          ],
          "contourcarpet": [
           {
            "colorbar": {
             "outlinewidth": 0,
             "ticks": ""
            },
            "type": "contourcarpet"
           }
          ],
          "heatmap": [
           {
            "colorbar": {
             "outlinewidth": 0,
             "ticks": ""
            },
            "colorscale": [
             [
              0.0,
              "#0d0887"
             ],
             [
              0.1111111111111111,
              "#46039f"
             ],
             [
              0.2222222222222222,
              "#7201a8"
             ],
             [
              0.3333333333333333,
              "#9c179e"
             ],
             [
              0.4444444444444444,
              "#bd3786"
             ],
             [
              0.5555555555555556,
              "#d8576b"
             ],
             [
              0.6666666666666666,
              "#ed7953"
             ],
             [
              0.7777777777777778,
              "#fb9f3a"
             ],
             [
              0.8888888888888888,
              "#fdca26"
             ],
             [
              1.0,
              "#f0f921"
             ]
            ],
            "type": "heatmap"
           }
          ],
          "heatmapgl": [
           {
            "colorbar": {
             "outlinewidth": 0,
             "ticks": ""
            },
            "colorscale": [
             [
              0.0,
              "#0d0887"
             ],
             [
              0.1111111111111111,
              "#46039f"
             ],
             [
              0.2222222222222222,
              "#7201a8"
             ],
             [
              0.3333333333333333,
              "#9c179e"
             ],
             [
              0.4444444444444444,
              "#bd3786"
             ],
             [
              0.5555555555555556,
              "#d8576b"
             ],
             [
              0.6666666666666666,
              "#ed7953"
             ],
             [
              0.7777777777777778,
              "#fb9f3a"
             ],
             [
              0.8888888888888888,
              "#fdca26"
             ],
             [
              1.0,
              "#f0f921"
             ]
            ],
            "type": "heatmapgl"
           }
          ],
          "histogram": [
           {
            "marker": {
             "pattern": {
              "fillmode": "overlay",
              "size": 10,
              "solidity": 0.2
             }
            },
            "type": "histogram"
           }
          ],
          "histogram2d": [
           {
            "colorbar": {
             "outlinewidth": 0,
             "ticks": ""
            },
            "colorscale": [
             [
              0.0,
              "#0d0887"
             ],
             [
              0.1111111111111111,
              "#46039f"
             ],
             [
              0.2222222222222222,
              "#7201a8"
             ],
             [
              0.3333333333333333,
              "#9c179e"
             ],
             [
              0.4444444444444444,
              "#bd3786"
             ],
             [
              0.5555555555555556,
              "#d8576b"
             ],
             [
              0.6666666666666666,
              "#ed7953"
             ],
             [
              0.7777777777777778,
              "#fb9f3a"
             ],
             [
              0.8888888888888888,
              "#fdca26"
             ],
             [
              1.0,
              "#f0f921"
             ]
            ],
            "type": "histogram2d"
           }
          ],
          "histogram2dcontour": [
           {
            "colorbar": {
             "outlinewidth": 0,
             "ticks": ""
            },
            "colorscale": [
             [
              0.0,
              "#0d0887"
             ],
             [
              0.1111111111111111,
              "#46039f"
             ],
             [
              0.2222222222222222,
              "#7201a8"
             ],
             [
              0.3333333333333333,
              "#9c179e"
             ],
             [
              0.4444444444444444,
              "#bd3786"
             ],
             [
              0.5555555555555556,
              "#d8576b"
             ],
             [
              0.6666666666666666,
              "#ed7953"
             ],
             [
              0.7777777777777778,
              "#fb9f3a"
             ],
             [
              0.8888888888888888,
              "#fdca26"
             ],
             [
              1.0,
              "#f0f921"
             ]
            ],
            "type": "histogram2dcontour"
           }
          ],
          "mesh3d": [
           {
            "colorbar": {
             "outlinewidth": 0,
             "ticks": ""
            },
            "type": "mesh3d"
           }
          ],
          "parcoords": [
           {
            "line": {
             "colorbar": {
              "outlinewidth": 0,
              "ticks": ""
             }
            },
            "type": "parcoords"
           }
          ],
          "pie": [
           {
            "automargin": true,
            "type": "pie"
           }
          ],
          "scatter": [
           {
            "marker": {
             "colorbar": {
              "outlinewidth": 0,
              "ticks": ""
             }
            },
            "type": "scatter"
           }
          ],
          "scatter3d": [
           {
            "line": {
             "colorbar": {
              "outlinewidth": 0,
              "ticks": ""
             }
            },
            "marker": {
             "colorbar": {
              "outlinewidth": 0,
              "ticks": ""
             }
            },
            "type": "scatter3d"
           }
          ],
          "scattercarpet": [
           {
            "marker": {
             "colorbar": {
              "outlinewidth": 0,
              "ticks": ""
             }
            },
            "type": "scattercarpet"
           }
          ],
          "scattergeo": [
           {
            "marker": {
             "colorbar": {
              "outlinewidth": 0,
              "ticks": ""
             }
            },
            "type": "scattergeo"
           }
          ],
          "scattergl": [
           {
            "marker": {
             "colorbar": {
              "outlinewidth": 0,
              "ticks": ""
             }
            },
            "type": "scattergl"
           }
          ],
          "scattermapbox": [
           {
            "marker": {
             "colorbar": {
              "outlinewidth": 0,
              "ticks": ""
             }
            },
            "type": "scattermapbox"
           }
          ],
          "scatterpolar": [
           {
            "marker": {
             "colorbar": {
              "outlinewidth": 0,
              "ticks": ""
             }
            },
            "type": "scatterpolar"
           }
          ],
          "scatterpolargl": [
           {
            "marker": {
             "colorbar": {
              "outlinewidth": 0,
              "ticks": ""
             }
            },
            "type": "scatterpolargl"
           }
          ],
          "scatterternary": [
           {
            "marker": {
             "colorbar": {
              "outlinewidth": 0,
              "ticks": ""
             }
            },
            "type": "scatterternary"
           }
          ],
          "surface": [
           {
            "colorbar": {
             "outlinewidth": 0,
             "ticks": ""
            },
            "colorscale": [
             [
              0.0,
              "#0d0887"
             ],
             [
              0.1111111111111111,
              "#46039f"
             ],
             [
              0.2222222222222222,
              "#7201a8"
             ],
             [
              0.3333333333333333,
              "#9c179e"
             ],
             [
              0.4444444444444444,
              "#bd3786"
             ],
             [
              0.5555555555555556,
              "#d8576b"
             ],
             [
              0.6666666666666666,
              "#ed7953"
             ],
             [
              0.7777777777777778,
              "#fb9f3a"
             ],
             [
              0.8888888888888888,
              "#fdca26"
             ],
             [
              1.0,
              "#f0f921"
             ]
            ],
            "type": "surface"
           }
          ],
          "table": [
           {
            "cells": {
             "fill": {
              "color": "#EBF0F8"
             },
             "line": {
              "color": "white"
             }
            },
            "header": {
             "fill": {
              "color": "#C8D4E3"
             },
             "line": {
              "color": "white"
             }
            },
            "type": "table"
           }
          ]
         },
         "layout": {
          "annotationdefaults": {
           "arrowcolor": "#2a3f5f",
           "arrowhead": 0,
           "arrowwidth": 1
          },
          "autotypenumbers": "strict",
          "coloraxis": {
           "colorbar": {
            "outlinewidth": 0,
            "ticks": ""
           }
          },
          "colorscale": {
           "diverging": [
            [
             0,
             "#8e0152"
            ],
            [
             0.1,
             "#c51b7d"
            ],
            [
             0.2,
             "#de77ae"
            ],
            [
             0.3,
             "#f1b6da"
            ],
            [
             0.4,
             "#fde0ef"
            ],
            [
             0.5,
             "#f7f7f7"
            ],
            [
             0.6,
             "#e6f5d0"
            ],
            [
             0.7,
             "#b8e186"
            ],
            [
             0.8,
             "#7fbc41"
            ],
            [
             0.9,
             "#4d9221"
            ],
            [
             1,
             "#276419"
            ]
           ],
           "sequential": [
            [
             0.0,
             "#0d0887"
            ],
            [
             0.1111111111111111,
             "#46039f"
            ],
            [
             0.2222222222222222,
             "#7201a8"
            ],
            [
             0.3333333333333333,
             "#9c179e"
            ],
            [
             0.4444444444444444,
             "#bd3786"
            ],
            [
             0.5555555555555556,
             "#d8576b"
            ],
            [
             0.6666666666666666,
             "#ed7953"
            ],
            [
             0.7777777777777778,
             "#fb9f3a"
            ],
            [
             0.8888888888888888,
             "#fdca26"
            ],
            [
             1.0,
             "#f0f921"
            ]
           ],
           "sequentialminus": [
            [
             0.0,
             "#0d0887"
            ],
            [
             0.1111111111111111,
             "#46039f"
            ],
            [
             0.2222222222222222,
             "#7201a8"
            ],
            [
             0.3333333333333333,
             "#9c179e"
            ],
            [
             0.4444444444444444,
             "#bd3786"
            ],
            [
             0.5555555555555556,
             "#d8576b"
            ],
            [
             0.6666666666666666,
             "#ed7953"
            ],
            [
             0.7777777777777778,
             "#fb9f3a"
            ],
            [
             0.8888888888888888,
             "#fdca26"
            ],
            [
             1.0,
             "#f0f921"
            ]
           ]
          },
          "colorway": [
           "#636efa",
           "#EF553B",
           "#00cc96",
           "#ab63fa",
           "#FFA15A",
           "#19d3f3",
           "#FF6692",
           "#B6E880",
           "#FF97FF",
           "#FECB52"
          ],
          "font": {
           "color": "#2a3f5f"
          },
          "geo": {
           "bgcolor": "white",
           "lakecolor": "white",
           "landcolor": "#E5ECF6",
           "showlakes": true,
           "showland": true,
           "subunitcolor": "white"
          },
          "hoverlabel": {
           "align": "left"
          },
          "hovermode": "closest",
          "mapbox": {
           "style": "light"
          },
          "paper_bgcolor": "white",
          "plot_bgcolor": "#E5ECF6",
          "polar": {
           "angularaxis": {
            "gridcolor": "white",
            "linecolor": "white",
            "ticks": ""
           },
           "bgcolor": "#E5ECF6",
           "radialaxis": {
            "gridcolor": "white",
            "linecolor": "white",
            "ticks": ""
           }
          },
          "scene": {
           "xaxis": {
            "backgroundcolor": "#E5ECF6",
            "gridcolor": "white",
            "gridwidth": 2,
            "linecolor": "white",
            "showbackground": true,
            "ticks": "",
            "zerolinecolor": "white"
           },
           "yaxis": {
            "backgroundcolor": "#E5ECF6",
            "gridcolor": "white",
            "gridwidth": 2,
            "linecolor": "white",
            "showbackground": true,
            "ticks": "",
            "zerolinecolor": "white"
           },
           "zaxis": {
            "backgroundcolor": "#E5ECF6",
            "gridcolor": "white",
            "gridwidth": 2,
            "linecolor": "white",
            "showbackground": true,
            "ticks": "",
            "zerolinecolor": "white"
           }
          },
          "shapedefaults": {
           "line": {
            "color": "#2a3f5f"
           }
          },
          "ternary": {
           "aaxis": {
            "gridcolor": "white",
            "linecolor": "white",
            "ticks": ""
           },
           "baxis": {
            "gridcolor": "white",
            "linecolor": "white",
            "ticks": ""
           },
           "bgcolor": "#E5ECF6",
           "caxis": {
            "gridcolor": "white",
            "linecolor": "white",
            "ticks": ""
           }
          },
          "title": {
           "x": 0.05
          },
          "xaxis": {
           "automargin": true,
           "gridcolor": "white",
           "linecolor": "white",
           "ticks": "",
           "title": {
            "standoff": 15
           },
           "zerolinecolor": "white",
           "zerolinewidth": 2
          },
          "yaxis": {
           "automargin": true,
           "gridcolor": "white",
           "linecolor": "white",
           "ticks": "",
           "title": {
            "standoff": 15
           },
           "zerolinecolor": "white",
           "zerolinewidth": 2
          }
         }
        }
       }
      },
      "text/html": "<div>                            <div id=\"d6c71efd-c64a-46f5-b589-c64456680329\" class=\"plotly-graph-div\" style=\"height:525px; width:100%;\"></div>            <script type=\"text/javascript\">                require([\"plotly\"], function(Plotly) {                    window.PLOTLYENV=window.PLOTLYENV || {};                                    if (document.getElementById(\"d6c71efd-c64a-46f5-b589-c64456680329\")) {                    Plotly.newPlot(                        \"d6c71efd-c64a-46f5-b589-c64456680329\",                        [{\"domain\":{\"x\":[0.0,1.0],\"y\":[0.0,1.0]},\"hovertemplate\":\"role=%{label}<br>win=%{value}<extra></extra>\",\"labels\":[\"Assassin\",\"Fighter\",\"Mage\",\"Marksman\",\"Support\",\"Tank\"],\"legendgroup\":\"\",\"name\":\"\",\"showlegend\":true,\"type\":\"pie\",\"values\":[41,196,194,253,125,168]}],                        {\"legend\":{\"tracegroupgap\":0},\"margin\":{\"t\":60},\"template\":{\"data\":{\"bar\":[{\"error_x\":{\"color\":\"#2a3f5f\"},\"error_y\":{\"color\":\"#2a3f5f\"},\"marker\":{\"line\":{\"color\":\"#E5ECF6\",\"width\":0.5},\"pattern\":{\"fillmode\":\"overlay\",\"size\":10,\"solidity\":0.2}},\"type\":\"bar\"}],\"barpolar\":[{\"marker\":{\"line\":{\"color\":\"#E5ECF6\",\"width\":0.5},\"pattern\":{\"fillmode\":\"overlay\",\"size\":10,\"solidity\":0.2}},\"type\":\"barpolar\"}],\"carpet\":[{\"aaxis\":{\"endlinecolor\":\"#2a3f5f\",\"gridcolor\":\"white\",\"linecolor\":\"white\",\"minorgridcolor\":\"white\",\"startlinecolor\":\"#2a3f5f\"},\"baxis\":{\"endlinecolor\":\"#2a3f5f\",\"gridcolor\":\"white\",\"linecolor\":\"white\",\"minorgridcolor\":\"white\",\"startlinecolor\":\"#2a3f5f\"},\"type\":\"carpet\"}],\"choropleth\":[{\"colorbar\":{\"outlinewidth\":0,\"ticks\":\"\"},\"type\":\"choropleth\"}],\"contour\":[{\"colorbar\":{\"outlinewidth\":0,\"ticks\":\"\"},\"colorscale\":[[0.0,\"#0d0887\"],[0.1111111111111111,\"#46039f\"],[0.2222222222222222,\"#7201a8\"],[0.3333333333333333,\"#9c179e\"],[0.4444444444444444,\"#bd3786\"],[0.5555555555555556,\"#d8576b\"],[0.6666666666666666,\"#ed7953\"],[0.7777777777777778,\"#fb9f3a\"],[0.8888888888888888,\"#fdca26\"],[1.0,\"#f0f921\"]],\"type\":\"contour\"}],\"contourcarpet\":[{\"colorbar\":{\"outlinewidth\":0,\"ticks\":\"\"},\"type\":\"contourcarpet\"}],\"heatmap\":[{\"colorbar\":{\"outlinewidth\":0,\"ticks\":\"\"},\"colorscale\":[[0.0,\"#0d0887\"],[0.1111111111111111,\"#46039f\"],[0.2222222222222222,\"#7201a8\"],[0.3333333333333333,\"#9c179e\"],[0.4444444444444444,\"#bd3786\"],[0.5555555555555556,\"#d8576b\"],[0.6666666666666666,\"#ed7953\"],[0.7777777777777778,\"#fb9f3a\"],[0.8888888888888888,\"#fdca26\"],[1.0,\"#f0f921\"]],\"type\":\"heatmap\"}],\"heatmapgl\":[{\"colorbar\":{\"outlinewidth\":0,\"ticks\":\"\"},\"colorscale\":[[0.0,\"#0d0887\"],[0.1111111111111111,\"#46039f\"],[0.2222222222222222,\"#7201a8\"],[0.3333333333333333,\"#9c179e\"],[0.4444444444444444,\"#bd3786\"],[0.5555555555555556,\"#d8576b\"],[0.6666666666666666,\"#ed7953\"],[0.7777777777777778,\"#fb9f3a\"],[0.8888888888888888,\"#fdca26\"],[1.0,\"#f0f921\"]],\"type\":\"heatmapgl\"}],\"histogram\":[{\"marker\":{\"pattern\":{\"fillmode\":\"overlay\",\"size\":10,\"solidity\":0.2}},\"type\":\"histogram\"}],\"histogram2d\":[{\"colorbar\":{\"outlinewidth\":0,\"ticks\":\"\"},\"colorscale\":[[0.0,\"#0d0887\"],[0.1111111111111111,\"#46039f\"],[0.2222222222222222,\"#7201a8\"],[0.3333333333333333,\"#9c179e\"],[0.4444444444444444,\"#bd3786\"],[0.5555555555555556,\"#d8576b\"],[0.6666666666666666,\"#ed7953\"],[0.7777777777777778,\"#fb9f3a\"],[0.8888888888888888,\"#fdca26\"],[1.0,\"#f0f921\"]],\"type\":\"histogram2d\"}],\"histogram2dcontour\":[{\"colorbar\":{\"outlinewidth\":0,\"ticks\":\"\"},\"colorscale\":[[0.0,\"#0d0887\"],[0.1111111111111111,\"#46039f\"],[0.2222222222222222,\"#7201a8\"],[0.3333333333333333,\"#9c179e\"],[0.4444444444444444,\"#bd3786\"],[0.5555555555555556,\"#d8576b\"],[0.6666666666666666,\"#ed7953\"],[0.7777777777777778,\"#fb9f3a\"],[0.8888888888888888,\"#fdca26\"],[1.0,\"#f0f921\"]],\"type\":\"histogram2dcontour\"}],\"mesh3d\":[{\"colorbar\":{\"outlinewidth\":0,\"ticks\":\"\"},\"type\":\"mesh3d\"}],\"parcoords\":[{\"line\":{\"colorbar\":{\"outlinewidth\":0,\"ticks\":\"\"}},\"type\":\"parcoords\"}],\"pie\":[{\"automargin\":true,\"type\":\"pie\"}],\"scatter\":[{\"marker\":{\"colorbar\":{\"outlinewidth\":0,\"ticks\":\"\"}},\"type\":\"scatter\"}],\"scatter3d\":[{\"line\":{\"colorbar\":{\"outlinewidth\":0,\"ticks\":\"\"}},\"marker\":{\"colorbar\":{\"outlinewidth\":0,\"ticks\":\"\"}},\"type\":\"scatter3d\"}],\"scattercarpet\":[{\"marker\":{\"colorbar\":{\"outlinewidth\":0,\"ticks\":\"\"}},\"type\":\"scattercarpet\"}],\"scattergeo\":[{\"marker\":{\"colorbar\":{\"outlinewidth\":0,\"ticks\":\"\"}},\"type\":\"scattergeo\"}],\"scattergl\":[{\"marker\":{\"colorbar\":{\"outlinewidth\":0,\"ticks\":\"\"}},\"type\":\"scattergl\"}],\"scattermapbox\":[{\"marker\":{\"colorbar\":{\"outlinewidth\":0,\"ticks\":\"\"}},\"type\":\"scattermapbox\"}],\"scatterpolar\":[{\"marker\":{\"colorbar\":{\"outlinewidth\":0,\"ticks\":\"\"}},\"type\":\"scatterpolar\"}],\"scatterpolargl\":[{\"marker\":{\"colorbar\":{\"outlinewidth\":0,\"ticks\":\"\"}},\"type\":\"scatterpolargl\"}],\"scatterternary\":[{\"marker\":{\"colorbar\":{\"outlinewidth\":0,\"ticks\":\"\"}},\"type\":\"scatterternary\"}],\"surface\":[{\"colorbar\":{\"outlinewidth\":0,\"ticks\":\"\"},\"colorscale\":[[0.0,\"#0d0887\"],[0.1111111111111111,\"#46039f\"],[0.2222222222222222,\"#7201a8\"],[0.3333333333333333,\"#9c179e\"],[0.4444444444444444,\"#bd3786\"],[0.5555555555555556,\"#d8576b\"],[0.6666666666666666,\"#ed7953\"],[0.7777777777777778,\"#fb9f3a\"],[0.8888888888888888,\"#fdca26\"],[1.0,\"#f0f921\"]],\"type\":\"surface\"}],\"table\":[{\"cells\":{\"fill\":{\"color\":\"#EBF0F8\"},\"line\":{\"color\":\"white\"}},\"header\":{\"fill\":{\"color\":\"#C8D4E3\"},\"line\":{\"color\":\"white\"}},\"type\":\"table\"}]},\"layout\":{\"annotationdefaults\":{\"arrowcolor\":\"#2a3f5f\",\"arrowhead\":0,\"arrowwidth\":1},\"autotypenumbers\":\"strict\",\"coloraxis\":{\"colorbar\":{\"outlinewidth\":0,\"ticks\":\"\"}},\"colorscale\":{\"diverging\":[[0,\"#8e0152\"],[0.1,\"#c51b7d\"],[0.2,\"#de77ae\"],[0.3,\"#f1b6da\"],[0.4,\"#fde0ef\"],[0.5,\"#f7f7f7\"],[0.6,\"#e6f5d0\"],[0.7,\"#b8e186\"],[0.8,\"#7fbc41\"],[0.9,\"#4d9221\"],[1,\"#276419\"]],\"sequential\":[[0.0,\"#0d0887\"],[0.1111111111111111,\"#46039f\"],[0.2222222222222222,\"#7201a8\"],[0.3333333333333333,\"#9c179e\"],[0.4444444444444444,\"#bd3786\"],[0.5555555555555556,\"#d8576b\"],[0.6666666666666666,\"#ed7953\"],[0.7777777777777778,\"#fb9f3a\"],[0.8888888888888888,\"#fdca26\"],[1.0,\"#f0f921\"]],\"sequentialminus\":[[0.0,\"#0d0887\"],[0.1111111111111111,\"#46039f\"],[0.2222222222222222,\"#7201a8\"],[0.3333333333333333,\"#9c179e\"],[0.4444444444444444,\"#bd3786\"],[0.5555555555555556,\"#d8576b\"],[0.6666666666666666,\"#ed7953\"],[0.7777777777777778,\"#fb9f3a\"],[0.8888888888888888,\"#fdca26\"],[1.0,\"#f0f921\"]]},\"colorway\":[\"#636efa\",\"#EF553B\",\"#00cc96\",\"#ab63fa\",\"#FFA15A\",\"#19d3f3\",\"#FF6692\",\"#B6E880\",\"#FF97FF\",\"#FECB52\"],\"font\":{\"color\":\"#2a3f5f\"},\"geo\":{\"bgcolor\":\"white\",\"lakecolor\":\"white\",\"landcolor\":\"#E5ECF6\",\"showlakes\":true,\"showland\":true,\"subunitcolor\":\"white\"},\"hoverlabel\":{\"align\":\"left\"},\"hovermode\":\"closest\",\"mapbox\":{\"style\":\"light\"},\"paper_bgcolor\":\"white\",\"plot_bgcolor\":\"#E5ECF6\",\"polar\":{\"angularaxis\":{\"gridcolor\":\"white\",\"linecolor\":\"white\",\"ticks\":\"\"},\"bgcolor\":\"#E5ECF6\",\"radialaxis\":{\"gridcolor\":\"white\",\"linecolor\":\"white\",\"ticks\":\"\"}},\"scene\":{\"xaxis\":{\"backgroundcolor\":\"#E5ECF6\",\"gridcolor\":\"white\",\"gridwidth\":2,\"linecolor\":\"white\",\"showbackground\":true,\"ticks\":\"\",\"zerolinecolor\":\"white\"},\"yaxis\":{\"backgroundcolor\":\"#E5ECF6\",\"gridcolor\":\"white\",\"gridwidth\":2,\"linecolor\":\"white\",\"showbackground\":true,\"ticks\":\"\",\"zerolinecolor\":\"white\"},\"zaxis\":{\"backgroundcolor\":\"#E5ECF6\",\"gridcolor\":\"white\",\"gridwidth\":2,\"linecolor\":\"white\",\"showbackground\":true,\"ticks\":\"\",\"zerolinecolor\":\"white\"}},\"shapedefaults\":{\"line\":{\"color\":\"#2a3f5f\"}},\"ternary\":{\"aaxis\":{\"gridcolor\":\"white\",\"linecolor\":\"white\",\"ticks\":\"\"},\"baxis\":{\"gridcolor\":\"white\",\"linecolor\":\"white\",\"ticks\":\"\"},\"bgcolor\":\"#E5ECF6\",\"caxis\":{\"gridcolor\":\"white\",\"linecolor\":\"white\",\"ticks\":\"\"}},\"title\":{\"x\":0.05},\"xaxis\":{\"automargin\":true,\"gridcolor\":\"white\",\"linecolor\":\"white\",\"ticks\":\"\",\"title\":{\"standoff\":15},\"zerolinecolor\":\"white\",\"zerolinewidth\":2},\"yaxis\":{\"automargin\":true,\"gridcolor\":\"white\",\"linecolor\":\"white\",\"ticks\":\"\",\"title\":{\"standoff\":15},\"zerolinecolor\":\"white\",\"zerolinewidth\":2}}}},                        {\"responsive\": true}                    ).then(function(){\n                            \nvar gd = document.getElementById('d6c71efd-c64a-46f5-b589-c64456680329');\nvar x = new MutationObserver(function (mutations, observer) {{\n        var display = window.getComputedStyle(gd).display;\n        if (!display || display === 'none') {{\n            console.log([gd, 'removed!']);\n            Plotly.purge(gd);\n            observer.disconnect();\n        }}\n}});\n\n// Listen for the removal of the full notebook cells\nvar notebookContainer = gd.closest('#notebook-container');\nif (notebookContainer) {{\n    x.observe(notebookContainer, {childList: true});\n}}\n\n// Listen for the clearing of the current output cell\nvar outputEl = gd.closest('.output');\nif (outputEl) {{\n    x.observe(outputEl, {childList: true});\n}}\n\n                        })                };                });            </script>        </div>"
     },
     "metadata": {},
     "output_type": "display_data"
    }
   ],
   "source": [
    "\n",
    "percents, count, sum, avg = role_distribution(df, champs, champ_id_to_name)\n",
    "display(percents)\n",
    "px.pie(count, values=\"win\", names=\"role\")"
   ],
   "metadata": {
    "collapsed": false,
    "pycharm": {
     "name": "#%%\n"
    }
   }
  },
  {
   "cell_type": "code",
   "execution_count": 332,
   "outputs": [
    {
     "data": {
      "application/vnd.plotly.v1+json": {
       "config": {
        "plotlyServerURL": "https://plot.ly"
       },
       "data": [
        {
         "domain": {
          "x": [
           0.0,
           1.0
          ],
          "y": [
           0.0,
           1.0
          ]
         },
         "hovertemplate": "role=%{label}<br>highestChampionDamage=%{value}<extra></extra>",
         "labels": [
          "Assassin",
          "Fighter",
          "Mage",
          "Marksman",
          "Support",
          "Tank"
         ],
         "legendgroup": "",
         "name": "",
         "showlegend": true,
         "type": "pie",
         "values": [
          6,
          14,
          19,
          47,
          0,
          4
         ]
        }
       ],
       "layout": {
        "legend": {
         "tracegroupgap": 0
        },
        "margin": {
         "t": 60
        },
        "template": {
         "data": {
          "bar": [
           {
            "error_x": {
             "color": "#2a3f5f"
            },
            "error_y": {
             "color": "#2a3f5f"
            },
            "marker": {
             "line": {
              "color": "#E5ECF6",
              "width": 0.5
             },
             "pattern": {
              "fillmode": "overlay",
              "size": 10,
              "solidity": 0.2
             }
            },
            "type": "bar"
           }
          ],
          "barpolar": [
           {
            "marker": {
             "line": {
              "color": "#E5ECF6",
              "width": 0.5
             },
             "pattern": {
              "fillmode": "overlay",
              "size": 10,
              "solidity": 0.2
             }
            },
            "type": "barpolar"
           }
          ],
          "carpet": [
           {
            "aaxis": {
             "endlinecolor": "#2a3f5f",
             "gridcolor": "white",
             "linecolor": "white",
             "minorgridcolor": "white",
             "startlinecolor": "#2a3f5f"
            },
            "baxis": {
             "endlinecolor": "#2a3f5f",
             "gridcolor": "white",
             "linecolor": "white",
             "minorgridcolor": "white",
             "startlinecolor": "#2a3f5f"
            },
            "type": "carpet"
           }
          ],
          "choropleth": [
           {
            "colorbar": {
             "outlinewidth": 0,
             "ticks": ""
            },
            "type": "choropleth"
           }
          ],
          "contour": [
           {
            "colorbar": {
             "outlinewidth": 0,
             "ticks": ""
            },
            "colorscale": [
             [
              0.0,
              "#0d0887"
             ],
             [
              0.1111111111111111,
              "#46039f"
             ],
             [
              0.2222222222222222,
              "#7201a8"
             ],
             [
              0.3333333333333333,
              "#9c179e"
             ],
             [
              0.4444444444444444,
              "#bd3786"
             ],
             [
              0.5555555555555556,
              "#d8576b"
             ],
             [
              0.6666666666666666,
              "#ed7953"
             ],
             [
              0.7777777777777778,
              "#fb9f3a"
             ],
             [
              0.8888888888888888,
              "#fdca26"
             ],
             [
              1.0,
              "#f0f921"
             ]
            ],
            "type": "contour"
           }
          ],
          "contourcarpet": [
           {
            "colorbar": {
             "outlinewidth": 0,
             "ticks": ""
            },
            "type": "contourcarpet"
           }
          ],
          "heatmap": [
           {
            "colorbar": {
             "outlinewidth": 0,
             "ticks": ""
            },
            "colorscale": [
             [
              0.0,
              "#0d0887"
             ],
             [
              0.1111111111111111,
              "#46039f"
             ],
             [
              0.2222222222222222,
              "#7201a8"
             ],
             [
              0.3333333333333333,
              "#9c179e"
             ],
             [
              0.4444444444444444,
              "#bd3786"
             ],
             [
              0.5555555555555556,
              "#d8576b"
             ],
             [
              0.6666666666666666,
              "#ed7953"
             ],
             [
              0.7777777777777778,
              "#fb9f3a"
             ],
             [
              0.8888888888888888,
              "#fdca26"
             ],
             [
              1.0,
              "#f0f921"
             ]
            ],
            "type": "heatmap"
           }
          ],
          "heatmapgl": [
           {
            "colorbar": {
             "outlinewidth": 0,
             "ticks": ""
            },
            "colorscale": [
             [
              0.0,
              "#0d0887"
             ],
             [
              0.1111111111111111,
              "#46039f"
             ],
             [
              0.2222222222222222,
              "#7201a8"
             ],
             [
              0.3333333333333333,
              "#9c179e"
             ],
             [
              0.4444444444444444,
              "#bd3786"
             ],
             [
              0.5555555555555556,
              "#d8576b"
             ],
             [
              0.6666666666666666,
              "#ed7953"
             ],
             [
              0.7777777777777778,
              "#fb9f3a"
             ],
             [
              0.8888888888888888,
              "#fdca26"
             ],
             [
              1.0,
              "#f0f921"
             ]
            ],
            "type": "heatmapgl"
           }
          ],
          "histogram": [
           {
            "marker": {
             "pattern": {
              "fillmode": "overlay",
              "size": 10,
              "solidity": 0.2
             }
            },
            "type": "histogram"
           }
          ],
          "histogram2d": [
           {
            "colorbar": {
             "outlinewidth": 0,
             "ticks": ""
            },
            "colorscale": [
             [
              0.0,
              "#0d0887"
             ],
             [
              0.1111111111111111,
              "#46039f"
             ],
             [
              0.2222222222222222,
              "#7201a8"
             ],
             [
              0.3333333333333333,
              "#9c179e"
             ],
             [
              0.4444444444444444,
              "#bd3786"
             ],
             [
              0.5555555555555556,
              "#d8576b"
             ],
             [
              0.6666666666666666,
              "#ed7953"
             ],
             [
              0.7777777777777778,
              "#fb9f3a"
             ],
             [
              0.8888888888888888,
              "#fdca26"
             ],
             [
              1.0,
              "#f0f921"
             ]
            ],
            "type": "histogram2d"
           }
          ],
          "histogram2dcontour": [
           {
            "colorbar": {
             "outlinewidth": 0,
             "ticks": ""
            },
            "colorscale": [
             [
              0.0,
              "#0d0887"
             ],
             [
              0.1111111111111111,
              "#46039f"
             ],
             [
              0.2222222222222222,
              "#7201a8"
             ],
             [
              0.3333333333333333,
              "#9c179e"
             ],
             [
              0.4444444444444444,
              "#bd3786"
             ],
             [
              0.5555555555555556,
              "#d8576b"
             ],
             [
              0.6666666666666666,
              "#ed7953"
             ],
             [
              0.7777777777777778,
              "#fb9f3a"
             ],
             [
              0.8888888888888888,
              "#fdca26"
             ],
             [
              1.0,
              "#f0f921"
             ]
            ],
            "type": "histogram2dcontour"
           }
          ],
          "mesh3d": [
           {
            "colorbar": {
             "outlinewidth": 0,
             "ticks": ""
            },
            "type": "mesh3d"
           }
          ],
          "parcoords": [
           {
            "line": {
             "colorbar": {
              "outlinewidth": 0,
              "ticks": ""
             }
            },
            "type": "parcoords"
           }
          ],
          "pie": [
           {
            "automargin": true,
            "type": "pie"
           }
          ],
          "scatter": [
           {
            "marker": {
             "colorbar": {
              "outlinewidth": 0,
              "ticks": ""
             }
            },
            "type": "scatter"
           }
          ],
          "scatter3d": [
           {
            "line": {
             "colorbar": {
              "outlinewidth": 0,
              "ticks": ""
             }
            },
            "marker": {
             "colorbar": {
              "outlinewidth": 0,
              "ticks": ""
             }
            },
            "type": "scatter3d"
           }
          ],
          "scattercarpet": [
           {
            "marker": {
             "colorbar": {
              "outlinewidth": 0,
              "ticks": ""
             }
            },
            "type": "scattercarpet"
           }
          ],
          "scattergeo": [
           {
            "marker": {
             "colorbar": {
              "outlinewidth": 0,
              "ticks": ""
             }
            },
            "type": "scattergeo"
           }
          ],
          "scattergl": [
           {
            "marker": {
             "colorbar": {
              "outlinewidth": 0,
              "ticks": ""
             }
            },
            "type": "scattergl"
           }
          ],
          "scattermapbox": [
           {
            "marker": {
             "colorbar": {
              "outlinewidth": 0,
              "ticks": ""
             }
            },
            "type": "scattermapbox"
           }
          ],
          "scatterpolar": [
           {
            "marker": {
             "colorbar": {
              "outlinewidth": 0,
              "ticks": ""
             }
            },
            "type": "scatterpolar"
           }
          ],
          "scatterpolargl": [
           {
            "marker": {
             "colorbar": {
              "outlinewidth": 0,
              "ticks": ""
             }
            },
            "type": "scatterpolargl"
           }
          ],
          "scatterternary": [
           {
            "marker": {
             "colorbar": {
              "outlinewidth": 0,
              "ticks": ""
             }
            },
            "type": "scatterternary"
           }
          ],
          "surface": [
           {
            "colorbar": {
             "outlinewidth": 0,
             "ticks": ""
            },
            "colorscale": [
             [
              0.0,
              "#0d0887"
             ],
             [
              0.1111111111111111,
              "#46039f"
             ],
             [
              0.2222222222222222,
              "#7201a8"
             ],
             [
              0.3333333333333333,
              "#9c179e"
             ],
             [
              0.4444444444444444,
              "#bd3786"
             ],
             [
              0.5555555555555556,
              "#d8576b"
             ],
             [
              0.6666666666666666,
              "#ed7953"
             ],
             [
              0.7777777777777778,
              "#fb9f3a"
             ],
             [
              0.8888888888888888,
              "#fdca26"
             ],
             [
              1.0,
              "#f0f921"
             ]
            ],
            "type": "surface"
           }
          ],
          "table": [
           {
            "cells": {
             "fill": {
              "color": "#EBF0F8"
             },
             "line": {
              "color": "white"
             }
            },
            "header": {
             "fill": {
              "color": "#C8D4E3"
             },
             "line": {
              "color": "white"
             }
            },
            "type": "table"
           }
          ]
         },
         "layout": {
          "annotationdefaults": {
           "arrowcolor": "#2a3f5f",
           "arrowhead": 0,
           "arrowwidth": 1
          },
          "autotypenumbers": "strict",
          "coloraxis": {
           "colorbar": {
            "outlinewidth": 0,
            "ticks": ""
           }
          },
          "colorscale": {
           "diverging": [
            [
             0,
             "#8e0152"
            ],
            [
             0.1,
             "#c51b7d"
            ],
            [
             0.2,
             "#de77ae"
            ],
            [
             0.3,
             "#f1b6da"
            ],
            [
             0.4,
             "#fde0ef"
            ],
            [
             0.5,
             "#f7f7f7"
            ],
            [
             0.6,
             "#e6f5d0"
            ],
            [
             0.7,
             "#b8e186"
            ],
            [
             0.8,
             "#7fbc41"
            ],
            [
             0.9,
             "#4d9221"
            ],
            [
             1,
             "#276419"
            ]
           ],
           "sequential": [
            [
             0.0,
             "#0d0887"
            ],
            [
             0.1111111111111111,
             "#46039f"
            ],
            [
             0.2222222222222222,
             "#7201a8"
            ],
            [
             0.3333333333333333,
             "#9c179e"
            ],
            [
             0.4444444444444444,
             "#bd3786"
            ],
            [
             0.5555555555555556,
             "#d8576b"
            ],
            [
             0.6666666666666666,
             "#ed7953"
            ],
            [
             0.7777777777777778,
             "#fb9f3a"
            ],
            [
             0.8888888888888888,
             "#fdca26"
            ],
            [
             1.0,
             "#f0f921"
            ]
           ],
           "sequentialminus": [
            [
             0.0,
             "#0d0887"
            ],
            [
             0.1111111111111111,
             "#46039f"
            ],
            [
             0.2222222222222222,
             "#7201a8"
            ],
            [
             0.3333333333333333,
             "#9c179e"
            ],
            [
             0.4444444444444444,
             "#bd3786"
            ],
            [
             0.5555555555555556,
             "#d8576b"
            ],
            [
             0.6666666666666666,
             "#ed7953"
            ],
            [
             0.7777777777777778,
             "#fb9f3a"
            ],
            [
             0.8888888888888888,
             "#fdca26"
            ],
            [
             1.0,
             "#f0f921"
            ]
           ]
          },
          "colorway": [
           "#636efa",
           "#EF553B",
           "#00cc96",
           "#ab63fa",
           "#FFA15A",
           "#19d3f3",
           "#FF6692",
           "#B6E880",
           "#FF97FF",
           "#FECB52"
          ],
          "font": {
           "color": "#2a3f5f"
          },
          "geo": {
           "bgcolor": "white",
           "lakecolor": "white",
           "landcolor": "#E5ECF6",
           "showlakes": true,
           "showland": true,
           "subunitcolor": "white"
          },
          "hoverlabel": {
           "align": "left"
          },
          "hovermode": "closest",
          "mapbox": {
           "style": "light"
          },
          "paper_bgcolor": "white",
          "plot_bgcolor": "#E5ECF6",
          "polar": {
           "angularaxis": {
            "gridcolor": "white",
            "linecolor": "white",
            "ticks": ""
           },
           "bgcolor": "#E5ECF6",
           "radialaxis": {
            "gridcolor": "white",
            "linecolor": "white",
            "ticks": ""
           }
          },
          "scene": {
           "xaxis": {
            "backgroundcolor": "#E5ECF6",
            "gridcolor": "white",
            "gridwidth": 2,
            "linecolor": "white",
            "showbackground": true,
            "ticks": "",
            "zerolinecolor": "white"
           },
           "yaxis": {
            "backgroundcolor": "#E5ECF6",
            "gridcolor": "white",
            "gridwidth": 2,
            "linecolor": "white",
            "showbackground": true,
            "ticks": "",
            "zerolinecolor": "white"
           },
           "zaxis": {
            "backgroundcolor": "#E5ECF6",
            "gridcolor": "white",
            "gridwidth": 2,
            "linecolor": "white",
            "showbackground": true,
            "ticks": "",
            "zerolinecolor": "white"
           }
          },
          "shapedefaults": {
           "line": {
            "color": "#2a3f5f"
           }
          },
          "ternary": {
           "aaxis": {
            "gridcolor": "white",
            "linecolor": "white",
            "ticks": ""
           },
           "baxis": {
            "gridcolor": "white",
            "linecolor": "white",
            "ticks": ""
           },
           "bgcolor": "#E5ECF6",
           "caxis": {
            "gridcolor": "white",
            "linecolor": "white",
            "ticks": ""
           }
          },
          "title": {
           "x": 0.05
          },
          "xaxis": {
           "automargin": true,
           "gridcolor": "white",
           "linecolor": "white",
           "ticks": "",
           "title": {
            "standoff": 15
           },
           "zerolinecolor": "white",
           "zerolinewidth": 2
          },
          "yaxis": {
           "automargin": true,
           "gridcolor": "white",
           "linecolor": "white",
           "ticks": "",
           "title": {
            "standoff": 15
           },
           "zerolinecolor": "white",
           "zerolinewidth": 2
          }
         }
        }
       }
      },
      "text/html": "<div>                            <div id=\"a07cec06-3567-4941-80c8-b4c6d1f1cf8d\" class=\"plotly-graph-div\" style=\"height:525px; width:100%;\"></div>            <script type=\"text/javascript\">                require([\"plotly\"], function(Plotly) {                    window.PLOTLYENV=window.PLOTLYENV || {};                                    if (document.getElementById(\"a07cec06-3567-4941-80c8-b4c6d1f1cf8d\")) {                    Plotly.newPlot(                        \"a07cec06-3567-4941-80c8-b4c6d1f1cf8d\",                        [{\"domain\":{\"x\":[0.0,1.0],\"y\":[0.0,1.0]},\"hovertemplate\":\"role=%{label}<br>highestChampionDamage=%{value}<extra></extra>\",\"labels\":[\"Assassin\",\"Fighter\",\"Mage\",\"Marksman\",\"Support\",\"Tank\"],\"legendgroup\":\"\",\"name\":\"\",\"showlegend\":true,\"type\":\"pie\",\"values\":[6,14,19,47,0,4]}],                        {\"legend\":{\"tracegroupgap\":0},\"margin\":{\"t\":60},\"template\":{\"data\":{\"bar\":[{\"error_x\":{\"color\":\"#2a3f5f\"},\"error_y\":{\"color\":\"#2a3f5f\"},\"marker\":{\"line\":{\"color\":\"#E5ECF6\",\"width\":0.5},\"pattern\":{\"fillmode\":\"overlay\",\"size\":10,\"solidity\":0.2}},\"type\":\"bar\"}],\"barpolar\":[{\"marker\":{\"line\":{\"color\":\"#E5ECF6\",\"width\":0.5},\"pattern\":{\"fillmode\":\"overlay\",\"size\":10,\"solidity\":0.2}},\"type\":\"barpolar\"}],\"carpet\":[{\"aaxis\":{\"endlinecolor\":\"#2a3f5f\",\"gridcolor\":\"white\",\"linecolor\":\"white\",\"minorgridcolor\":\"white\",\"startlinecolor\":\"#2a3f5f\"},\"baxis\":{\"endlinecolor\":\"#2a3f5f\",\"gridcolor\":\"white\",\"linecolor\":\"white\",\"minorgridcolor\":\"white\",\"startlinecolor\":\"#2a3f5f\"},\"type\":\"carpet\"}],\"choropleth\":[{\"colorbar\":{\"outlinewidth\":0,\"ticks\":\"\"},\"type\":\"choropleth\"}],\"contour\":[{\"colorbar\":{\"outlinewidth\":0,\"ticks\":\"\"},\"colorscale\":[[0.0,\"#0d0887\"],[0.1111111111111111,\"#46039f\"],[0.2222222222222222,\"#7201a8\"],[0.3333333333333333,\"#9c179e\"],[0.4444444444444444,\"#bd3786\"],[0.5555555555555556,\"#d8576b\"],[0.6666666666666666,\"#ed7953\"],[0.7777777777777778,\"#fb9f3a\"],[0.8888888888888888,\"#fdca26\"],[1.0,\"#f0f921\"]],\"type\":\"contour\"}],\"contourcarpet\":[{\"colorbar\":{\"outlinewidth\":0,\"ticks\":\"\"},\"type\":\"contourcarpet\"}],\"heatmap\":[{\"colorbar\":{\"outlinewidth\":0,\"ticks\":\"\"},\"colorscale\":[[0.0,\"#0d0887\"],[0.1111111111111111,\"#46039f\"],[0.2222222222222222,\"#7201a8\"],[0.3333333333333333,\"#9c179e\"],[0.4444444444444444,\"#bd3786\"],[0.5555555555555556,\"#d8576b\"],[0.6666666666666666,\"#ed7953\"],[0.7777777777777778,\"#fb9f3a\"],[0.8888888888888888,\"#fdca26\"],[1.0,\"#f0f921\"]],\"type\":\"heatmap\"}],\"heatmapgl\":[{\"colorbar\":{\"outlinewidth\":0,\"ticks\":\"\"},\"colorscale\":[[0.0,\"#0d0887\"],[0.1111111111111111,\"#46039f\"],[0.2222222222222222,\"#7201a8\"],[0.3333333333333333,\"#9c179e\"],[0.4444444444444444,\"#bd3786\"],[0.5555555555555556,\"#d8576b\"],[0.6666666666666666,\"#ed7953\"],[0.7777777777777778,\"#fb9f3a\"],[0.8888888888888888,\"#fdca26\"],[1.0,\"#f0f921\"]],\"type\":\"heatmapgl\"}],\"histogram\":[{\"marker\":{\"pattern\":{\"fillmode\":\"overlay\",\"size\":10,\"solidity\":0.2}},\"type\":\"histogram\"}],\"histogram2d\":[{\"colorbar\":{\"outlinewidth\":0,\"ticks\":\"\"},\"colorscale\":[[0.0,\"#0d0887\"],[0.1111111111111111,\"#46039f\"],[0.2222222222222222,\"#7201a8\"],[0.3333333333333333,\"#9c179e\"],[0.4444444444444444,\"#bd3786\"],[0.5555555555555556,\"#d8576b\"],[0.6666666666666666,\"#ed7953\"],[0.7777777777777778,\"#fb9f3a\"],[0.8888888888888888,\"#fdca26\"],[1.0,\"#f0f921\"]],\"type\":\"histogram2d\"}],\"histogram2dcontour\":[{\"colorbar\":{\"outlinewidth\":0,\"ticks\":\"\"},\"colorscale\":[[0.0,\"#0d0887\"],[0.1111111111111111,\"#46039f\"],[0.2222222222222222,\"#7201a8\"],[0.3333333333333333,\"#9c179e\"],[0.4444444444444444,\"#bd3786\"],[0.5555555555555556,\"#d8576b\"],[0.6666666666666666,\"#ed7953\"],[0.7777777777777778,\"#fb9f3a\"],[0.8888888888888888,\"#fdca26\"],[1.0,\"#f0f921\"]],\"type\":\"histogram2dcontour\"}],\"mesh3d\":[{\"colorbar\":{\"outlinewidth\":0,\"ticks\":\"\"},\"type\":\"mesh3d\"}],\"parcoords\":[{\"line\":{\"colorbar\":{\"outlinewidth\":0,\"ticks\":\"\"}},\"type\":\"parcoords\"}],\"pie\":[{\"automargin\":true,\"type\":\"pie\"}],\"scatter\":[{\"marker\":{\"colorbar\":{\"outlinewidth\":0,\"ticks\":\"\"}},\"type\":\"scatter\"}],\"scatter3d\":[{\"line\":{\"colorbar\":{\"outlinewidth\":0,\"ticks\":\"\"}},\"marker\":{\"colorbar\":{\"outlinewidth\":0,\"ticks\":\"\"}},\"type\":\"scatter3d\"}],\"scattercarpet\":[{\"marker\":{\"colorbar\":{\"outlinewidth\":0,\"ticks\":\"\"}},\"type\":\"scattercarpet\"}],\"scattergeo\":[{\"marker\":{\"colorbar\":{\"outlinewidth\":0,\"ticks\":\"\"}},\"type\":\"scattergeo\"}],\"scattergl\":[{\"marker\":{\"colorbar\":{\"outlinewidth\":0,\"ticks\":\"\"}},\"type\":\"scattergl\"}],\"scattermapbox\":[{\"marker\":{\"colorbar\":{\"outlinewidth\":0,\"ticks\":\"\"}},\"type\":\"scattermapbox\"}],\"scatterpolar\":[{\"marker\":{\"colorbar\":{\"outlinewidth\":0,\"ticks\":\"\"}},\"type\":\"scatterpolar\"}],\"scatterpolargl\":[{\"marker\":{\"colorbar\":{\"outlinewidth\":0,\"ticks\":\"\"}},\"type\":\"scatterpolargl\"}],\"scatterternary\":[{\"marker\":{\"colorbar\":{\"outlinewidth\":0,\"ticks\":\"\"}},\"type\":\"scatterternary\"}],\"surface\":[{\"colorbar\":{\"outlinewidth\":0,\"ticks\":\"\"},\"colorscale\":[[0.0,\"#0d0887\"],[0.1111111111111111,\"#46039f\"],[0.2222222222222222,\"#7201a8\"],[0.3333333333333333,\"#9c179e\"],[0.4444444444444444,\"#bd3786\"],[0.5555555555555556,\"#d8576b\"],[0.6666666666666666,\"#ed7953\"],[0.7777777777777778,\"#fb9f3a\"],[0.8888888888888888,\"#fdca26\"],[1.0,\"#f0f921\"]],\"type\":\"surface\"}],\"table\":[{\"cells\":{\"fill\":{\"color\":\"#EBF0F8\"},\"line\":{\"color\":\"white\"}},\"header\":{\"fill\":{\"color\":\"#C8D4E3\"},\"line\":{\"color\":\"white\"}},\"type\":\"table\"}]},\"layout\":{\"annotationdefaults\":{\"arrowcolor\":\"#2a3f5f\",\"arrowhead\":0,\"arrowwidth\":1},\"autotypenumbers\":\"strict\",\"coloraxis\":{\"colorbar\":{\"outlinewidth\":0,\"ticks\":\"\"}},\"colorscale\":{\"diverging\":[[0,\"#8e0152\"],[0.1,\"#c51b7d\"],[0.2,\"#de77ae\"],[0.3,\"#f1b6da\"],[0.4,\"#fde0ef\"],[0.5,\"#f7f7f7\"],[0.6,\"#e6f5d0\"],[0.7,\"#b8e186\"],[0.8,\"#7fbc41\"],[0.9,\"#4d9221\"],[1,\"#276419\"]],\"sequential\":[[0.0,\"#0d0887\"],[0.1111111111111111,\"#46039f\"],[0.2222222222222222,\"#7201a8\"],[0.3333333333333333,\"#9c179e\"],[0.4444444444444444,\"#bd3786\"],[0.5555555555555556,\"#d8576b\"],[0.6666666666666666,\"#ed7953\"],[0.7777777777777778,\"#fb9f3a\"],[0.8888888888888888,\"#fdca26\"],[1.0,\"#f0f921\"]],\"sequentialminus\":[[0.0,\"#0d0887\"],[0.1111111111111111,\"#46039f\"],[0.2222222222222222,\"#7201a8\"],[0.3333333333333333,\"#9c179e\"],[0.4444444444444444,\"#bd3786\"],[0.5555555555555556,\"#d8576b\"],[0.6666666666666666,\"#ed7953\"],[0.7777777777777778,\"#fb9f3a\"],[0.8888888888888888,\"#fdca26\"],[1.0,\"#f0f921\"]]},\"colorway\":[\"#636efa\",\"#EF553B\",\"#00cc96\",\"#ab63fa\",\"#FFA15A\",\"#19d3f3\",\"#FF6692\",\"#B6E880\",\"#FF97FF\",\"#FECB52\"],\"font\":{\"color\":\"#2a3f5f\"},\"geo\":{\"bgcolor\":\"white\",\"lakecolor\":\"white\",\"landcolor\":\"#E5ECF6\",\"showlakes\":true,\"showland\":true,\"subunitcolor\":\"white\"},\"hoverlabel\":{\"align\":\"left\"},\"hovermode\":\"closest\",\"mapbox\":{\"style\":\"light\"},\"paper_bgcolor\":\"white\",\"plot_bgcolor\":\"#E5ECF6\",\"polar\":{\"angularaxis\":{\"gridcolor\":\"white\",\"linecolor\":\"white\",\"ticks\":\"\"},\"bgcolor\":\"#E5ECF6\",\"radialaxis\":{\"gridcolor\":\"white\",\"linecolor\":\"white\",\"ticks\":\"\"}},\"scene\":{\"xaxis\":{\"backgroundcolor\":\"#E5ECF6\",\"gridcolor\":\"white\",\"gridwidth\":2,\"linecolor\":\"white\",\"showbackground\":true,\"ticks\":\"\",\"zerolinecolor\":\"white\"},\"yaxis\":{\"backgroundcolor\":\"#E5ECF6\",\"gridcolor\":\"white\",\"gridwidth\":2,\"linecolor\":\"white\",\"showbackground\":true,\"ticks\":\"\",\"zerolinecolor\":\"white\"},\"zaxis\":{\"backgroundcolor\":\"#E5ECF6\",\"gridcolor\":\"white\",\"gridwidth\":2,\"linecolor\":\"white\",\"showbackground\":true,\"ticks\":\"\",\"zerolinecolor\":\"white\"}},\"shapedefaults\":{\"line\":{\"color\":\"#2a3f5f\"}},\"ternary\":{\"aaxis\":{\"gridcolor\":\"white\",\"linecolor\":\"white\",\"ticks\":\"\"},\"baxis\":{\"gridcolor\":\"white\",\"linecolor\":\"white\",\"ticks\":\"\"},\"bgcolor\":\"#E5ECF6\",\"caxis\":{\"gridcolor\":\"white\",\"linecolor\":\"white\",\"ticks\":\"\"}},\"title\":{\"x\":0.05},\"xaxis\":{\"automargin\":true,\"gridcolor\":\"white\",\"linecolor\":\"white\",\"ticks\":\"\",\"title\":{\"standoff\":15},\"zerolinecolor\":\"white\",\"zerolinewidth\":2},\"yaxis\":{\"automargin\":true,\"gridcolor\":\"white\",\"linecolor\":\"white\",\"ticks\":\"\",\"title\":{\"standoff\":15},\"zerolinecolor\":\"white\",\"zerolinewidth\":2}}}},                        {\"responsive\": true}                    ).then(function(){\n                            \nvar gd = document.getElementById('a07cec06-3567-4941-80c8-b4c6d1f1cf8d');\nvar x = new MutationObserver(function (mutations, observer) {{\n        var display = window.getComputedStyle(gd).display;\n        if (!display || display === 'none') {{\n            console.log([gd, 'removed!']);\n            Plotly.purge(gd);\n            observer.disconnect();\n        }}\n}});\n\n// Listen for the removal of the full notebook cells\nvar notebookContainer = gd.closest('#notebook-container');\nif (notebookContainer) {{\n    x.observe(notebookContainer, {childList: true});\n}}\n\n// Listen for the clearing of the current output cell\nvar outputEl = gd.closest('.output');\nif (outputEl) {{\n    x.observe(outputEl, {childList: true});\n}}\n\n                        })                };                });            </script>        </div>"
     },
     "metadata": {},
     "output_type": "display_data"
    }
   ],
   "source": [
    "px.pie(count, values=\"highestChampionDamage\", names=\"role\")"
   ],
   "metadata": {
    "collapsed": false,
    "pycharm": {
     "name": "#%%\n"
    }
   }
  },
  {
   "cell_type": "code",
   "execution_count": 333,
   "outputs": [
    {
     "data": {
      "application/vnd.plotly.v1+json": {
       "config": {
        "plotlyServerURL": "https://plot.ly"
       },
       "data": [
        {
         "domain": {
          "x": [
           0.0,
           1.0
          ],
          "y": [
           0.0,
           1.0
          ]
         },
         "hovertemplate": "role=%{label}<br>knockEnemyIntoTeamAndKill=%{value}<extra></extra>",
         "labels": [
          "Assassin",
          "Fighter",
          "Mage",
          "Marksman",
          "Support",
          "Tank"
         ],
         "legendgroup": "",
         "name": "",
         "showlegend": true,
         "type": "pie",
         "values": [
          0.2894736842105263,
          4.086956521739131,
          1.2532467532467533,
          0.9476190476190476,
          3.1067961165048543,
          6.912408759124087
         ]
        }
       ],
       "layout": {
        "legend": {
         "tracegroupgap": 0
        },
        "margin": {
         "t": 60
        },
        "template": {
         "data": {
          "bar": [
           {
            "error_x": {
             "color": "#2a3f5f"
            },
            "error_y": {
             "color": "#2a3f5f"
            },
            "marker": {
             "line": {
              "color": "#E5ECF6",
              "width": 0.5
             },
             "pattern": {
              "fillmode": "overlay",
              "size": 10,
              "solidity": 0.2
             }
            },
            "type": "bar"
           }
          ],
          "barpolar": [
           {
            "marker": {
             "line": {
              "color": "#E5ECF6",
              "width": 0.5
             },
             "pattern": {
              "fillmode": "overlay",
              "size": 10,
              "solidity": 0.2
             }
            },
            "type": "barpolar"
           }
          ],
          "carpet": [
           {
            "aaxis": {
             "endlinecolor": "#2a3f5f",
             "gridcolor": "white",
             "linecolor": "white",
             "minorgridcolor": "white",
             "startlinecolor": "#2a3f5f"
            },
            "baxis": {
             "endlinecolor": "#2a3f5f",
             "gridcolor": "white",
             "linecolor": "white",
             "minorgridcolor": "white",
             "startlinecolor": "#2a3f5f"
            },
            "type": "carpet"
           }
          ],
          "choropleth": [
           {
            "colorbar": {
             "outlinewidth": 0,
             "ticks": ""
            },
            "type": "choropleth"
           }
          ],
          "contour": [
           {
            "colorbar": {
             "outlinewidth": 0,
             "ticks": ""
            },
            "colorscale": [
             [
              0.0,
              "#0d0887"
             ],
             [
              0.1111111111111111,
              "#46039f"
             ],
             [
              0.2222222222222222,
              "#7201a8"
             ],
             [
              0.3333333333333333,
              "#9c179e"
             ],
             [
              0.4444444444444444,
              "#bd3786"
             ],
             [
              0.5555555555555556,
              "#d8576b"
             ],
             [
              0.6666666666666666,
              "#ed7953"
             ],
             [
              0.7777777777777778,
              "#fb9f3a"
             ],
             [
              0.8888888888888888,
              "#fdca26"
             ],
             [
              1.0,
              "#f0f921"
             ]
            ],
            "type": "contour"
           }
          ],
          "contourcarpet": [
           {
            "colorbar": {
             "outlinewidth": 0,
             "ticks": ""
            },
            "type": "contourcarpet"
           }
          ],
          "heatmap": [
           {
            "colorbar": {
             "outlinewidth": 0,
             "ticks": ""
            },
            "colorscale": [
             [
              0.0,
              "#0d0887"
             ],
             [
              0.1111111111111111,
              "#46039f"
             ],
             [
              0.2222222222222222,
              "#7201a8"
             ],
             [
              0.3333333333333333,
              "#9c179e"
             ],
             [
              0.4444444444444444,
              "#bd3786"
             ],
             [
              0.5555555555555556,
              "#d8576b"
             ],
             [
              0.6666666666666666,
              "#ed7953"
             ],
             [
              0.7777777777777778,
              "#fb9f3a"
             ],
             [
              0.8888888888888888,
              "#fdca26"
             ],
             [
              1.0,
              "#f0f921"
             ]
            ],
            "type": "heatmap"
           }
          ],
          "heatmapgl": [
           {
            "colorbar": {
             "outlinewidth": 0,
             "ticks": ""
            },
            "colorscale": [
             [
              0.0,
              "#0d0887"
             ],
             [
              0.1111111111111111,
              "#46039f"
             ],
             [
              0.2222222222222222,
              "#7201a8"
             ],
             [
              0.3333333333333333,
              "#9c179e"
             ],
             [
              0.4444444444444444,
              "#bd3786"
             ],
             [
              0.5555555555555556,
              "#d8576b"
             ],
             [
              0.6666666666666666,
              "#ed7953"
             ],
             [
              0.7777777777777778,
              "#fb9f3a"
             ],
             [
              0.8888888888888888,
              "#fdca26"
             ],
             [
              1.0,
              "#f0f921"
             ]
            ],
            "type": "heatmapgl"
           }
          ],
          "histogram": [
           {
            "marker": {
             "pattern": {
              "fillmode": "overlay",
              "size": 10,
              "solidity": 0.2
             }
            },
            "type": "histogram"
           }
          ],
          "histogram2d": [
           {
            "colorbar": {
             "outlinewidth": 0,
             "ticks": ""
            },
            "colorscale": [
             [
              0.0,
              "#0d0887"
             ],
             [
              0.1111111111111111,
              "#46039f"
             ],
             [
              0.2222222222222222,
              "#7201a8"
             ],
             [
              0.3333333333333333,
              "#9c179e"
             ],
             [
              0.4444444444444444,
              "#bd3786"
             ],
             [
              0.5555555555555556,
              "#d8576b"
             ],
             [
              0.6666666666666666,
              "#ed7953"
             ],
             [
              0.7777777777777778,
              "#fb9f3a"
             ],
             [
              0.8888888888888888,
              "#fdca26"
             ],
             [
              1.0,
              "#f0f921"
             ]
            ],
            "type": "histogram2d"
           }
          ],
          "histogram2dcontour": [
           {
            "colorbar": {
             "outlinewidth": 0,
             "ticks": ""
            },
            "colorscale": [
             [
              0.0,
              "#0d0887"
             ],
             [
              0.1111111111111111,
              "#46039f"
             ],
             [
              0.2222222222222222,
              "#7201a8"
             ],
             [
              0.3333333333333333,
              "#9c179e"
             ],
             [
              0.4444444444444444,
              "#bd3786"
             ],
             [
              0.5555555555555556,
              "#d8576b"
             ],
             [
              0.6666666666666666,
              "#ed7953"
             ],
             [
              0.7777777777777778,
              "#fb9f3a"
             ],
             [
              0.8888888888888888,
              "#fdca26"
             ],
             [
              1.0,
              "#f0f921"
             ]
            ],
            "type": "histogram2dcontour"
           }
          ],
          "mesh3d": [
           {
            "colorbar": {
             "outlinewidth": 0,
             "ticks": ""
            },
            "type": "mesh3d"
           }
          ],
          "parcoords": [
           {
            "line": {
             "colorbar": {
              "outlinewidth": 0,
              "ticks": ""
             }
            },
            "type": "parcoords"
           }
          ],
          "pie": [
           {
            "automargin": true,
            "type": "pie"
           }
          ],
          "scatter": [
           {
            "marker": {
             "colorbar": {
              "outlinewidth": 0,
              "ticks": ""
             }
            },
            "type": "scatter"
           }
          ],
          "scatter3d": [
           {
            "line": {
             "colorbar": {
              "outlinewidth": 0,
              "ticks": ""
             }
            },
            "marker": {
             "colorbar": {
              "outlinewidth": 0,
              "ticks": ""
             }
            },
            "type": "scatter3d"
           }
          ],
          "scattercarpet": [
           {
            "marker": {
             "colorbar": {
              "outlinewidth": 0,
              "ticks": ""
             }
            },
            "type": "scattercarpet"
           }
          ],
          "scattergeo": [
           {
            "marker": {
             "colorbar": {
              "outlinewidth": 0,
              "ticks": ""
             }
            },
            "type": "scattergeo"
           }
          ],
          "scattergl": [
           {
            "marker": {
             "colorbar": {
              "outlinewidth": 0,
              "ticks": ""
             }
            },
            "type": "scattergl"
           }
          ],
          "scattermapbox": [
           {
            "marker": {
             "colorbar": {
              "outlinewidth": 0,
              "ticks": ""
             }
            },
            "type": "scattermapbox"
           }
          ],
          "scatterpolar": [
           {
            "marker": {
             "colorbar": {
              "outlinewidth": 0,
              "ticks": ""
             }
            },
            "type": "scatterpolar"
           }
          ],
          "scatterpolargl": [
           {
            "marker": {
             "colorbar": {
              "outlinewidth": 0,
              "ticks": ""
             }
            },
            "type": "scatterpolargl"
           }
          ],
          "scatterternary": [
           {
            "marker": {
             "colorbar": {
              "outlinewidth": 0,
              "ticks": ""
             }
            },
            "type": "scatterternary"
           }
          ],
          "surface": [
           {
            "colorbar": {
             "outlinewidth": 0,
             "ticks": ""
            },
            "colorscale": [
             [
              0.0,
              "#0d0887"
             ],
             [
              0.1111111111111111,
              "#46039f"
             ],
             [
              0.2222222222222222,
              "#7201a8"
             ],
             [
              0.3333333333333333,
              "#9c179e"
             ],
             [
              0.4444444444444444,
              "#bd3786"
             ],
             [
              0.5555555555555556,
              "#d8576b"
             ],
             [
              0.6666666666666666,
              "#ed7953"
             ],
             [
              0.7777777777777778,
              "#fb9f3a"
             ],
             [
              0.8888888888888888,
              "#fdca26"
             ],
             [
              1.0,
              "#f0f921"
             ]
            ],
            "type": "surface"
           }
          ],
          "table": [
           {
            "cells": {
             "fill": {
              "color": "#EBF0F8"
             },
             "line": {
              "color": "white"
             }
            },
            "header": {
             "fill": {
              "color": "#C8D4E3"
             },
             "line": {
              "color": "white"
             }
            },
            "type": "table"
           }
          ]
         },
         "layout": {
          "annotationdefaults": {
           "arrowcolor": "#2a3f5f",
           "arrowhead": 0,
           "arrowwidth": 1
          },
          "autotypenumbers": "strict",
          "coloraxis": {
           "colorbar": {
            "outlinewidth": 0,
            "ticks": ""
           }
          },
          "colorscale": {
           "diverging": [
            [
             0,
             "#8e0152"
            ],
            [
             0.1,
             "#c51b7d"
            ],
            [
             0.2,
             "#de77ae"
            ],
            [
             0.3,
             "#f1b6da"
            ],
            [
             0.4,
             "#fde0ef"
            ],
            [
             0.5,
             "#f7f7f7"
            ],
            [
             0.6,
             "#e6f5d0"
            ],
            [
             0.7,
             "#b8e186"
            ],
            [
             0.8,
             "#7fbc41"
            ],
            [
             0.9,
             "#4d9221"
            ],
            [
             1,
             "#276419"
            ]
           ],
           "sequential": [
            [
             0.0,
             "#0d0887"
            ],
            [
             0.1111111111111111,
             "#46039f"
            ],
            [
             0.2222222222222222,
             "#7201a8"
            ],
            [
             0.3333333333333333,
             "#9c179e"
            ],
            [
             0.4444444444444444,
             "#bd3786"
            ],
            [
             0.5555555555555556,
             "#d8576b"
            ],
            [
             0.6666666666666666,
             "#ed7953"
            ],
            [
             0.7777777777777778,
             "#fb9f3a"
            ],
            [
             0.8888888888888888,
             "#fdca26"
            ],
            [
             1.0,
             "#f0f921"
            ]
           ],
           "sequentialminus": [
            [
             0.0,
             "#0d0887"
            ],
            [
             0.1111111111111111,
             "#46039f"
            ],
            [
             0.2222222222222222,
             "#7201a8"
            ],
            [
             0.3333333333333333,
             "#9c179e"
            ],
            [
             0.4444444444444444,
             "#bd3786"
            ],
            [
             0.5555555555555556,
             "#d8576b"
            ],
            [
             0.6666666666666666,
             "#ed7953"
            ],
            [
             0.7777777777777778,
             "#fb9f3a"
            ],
            [
             0.8888888888888888,
             "#fdca26"
            ],
            [
             1.0,
             "#f0f921"
            ]
           ]
          },
          "colorway": [
           "#636efa",
           "#EF553B",
           "#00cc96",
           "#ab63fa",
           "#FFA15A",
           "#19d3f3",
           "#FF6692",
           "#B6E880",
           "#FF97FF",
           "#FECB52"
          ],
          "font": {
           "color": "#2a3f5f"
          },
          "geo": {
           "bgcolor": "white",
           "lakecolor": "white",
           "landcolor": "#E5ECF6",
           "showlakes": true,
           "showland": true,
           "subunitcolor": "white"
          },
          "hoverlabel": {
           "align": "left"
          },
          "hovermode": "closest",
          "mapbox": {
           "style": "light"
          },
          "paper_bgcolor": "white",
          "plot_bgcolor": "#E5ECF6",
          "polar": {
           "angularaxis": {
            "gridcolor": "white",
            "linecolor": "white",
            "ticks": ""
           },
           "bgcolor": "#E5ECF6",
           "radialaxis": {
            "gridcolor": "white",
            "linecolor": "white",
            "ticks": ""
           }
          },
          "scene": {
           "xaxis": {
            "backgroundcolor": "#E5ECF6",
            "gridcolor": "white",
            "gridwidth": 2,
            "linecolor": "white",
            "showbackground": true,
            "ticks": "",
            "zerolinecolor": "white"
           },
           "yaxis": {
            "backgroundcolor": "#E5ECF6",
            "gridcolor": "white",
            "gridwidth": 2,
            "linecolor": "white",
            "showbackground": true,
            "ticks": "",
            "zerolinecolor": "white"
           },
           "zaxis": {
            "backgroundcolor": "#E5ECF6",
            "gridcolor": "white",
            "gridwidth": 2,
            "linecolor": "white",
            "showbackground": true,
            "ticks": "",
            "zerolinecolor": "white"
           }
          },
          "shapedefaults": {
           "line": {
            "color": "#2a3f5f"
           }
          },
          "ternary": {
           "aaxis": {
            "gridcolor": "white",
            "linecolor": "white",
            "ticks": ""
           },
           "baxis": {
            "gridcolor": "white",
            "linecolor": "white",
            "ticks": ""
           },
           "bgcolor": "#E5ECF6",
           "caxis": {
            "gridcolor": "white",
            "linecolor": "white",
            "ticks": ""
           }
          },
          "title": {
           "x": 0.05
          },
          "xaxis": {
           "automargin": true,
           "gridcolor": "white",
           "linecolor": "white",
           "ticks": "",
           "title": {
            "standoff": 15
           },
           "zerolinecolor": "white",
           "zerolinewidth": 2
          },
          "yaxis": {
           "automargin": true,
           "gridcolor": "white",
           "linecolor": "white",
           "ticks": "",
           "title": {
            "standoff": 15
           },
           "zerolinecolor": "white",
           "zerolinewidth": 2
          }
         }
        }
       }
      },
      "text/html": "<div>                            <div id=\"c7e3a2c0-eb9d-401f-ad77-e8392471ae69\" class=\"plotly-graph-div\" style=\"height:525px; width:100%;\"></div>            <script type=\"text/javascript\">                require([\"plotly\"], function(Plotly) {                    window.PLOTLYENV=window.PLOTLYENV || {};                                    if (document.getElementById(\"c7e3a2c0-eb9d-401f-ad77-e8392471ae69\")) {                    Plotly.newPlot(                        \"c7e3a2c0-eb9d-401f-ad77-e8392471ae69\",                        [{\"domain\":{\"x\":[0.0,1.0],\"y\":[0.0,1.0]},\"hovertemplate\":\"role=%{label}<br>knockEnemyIntoTeamAndKill=%{value}<extra></extra>\",\"labels\":[\"Assassin\",\"Fighter\",\"Mage\",\"Marksman\",\"Support\",\"Tank\"],\"legendgroup\":\"\",\"name\":\"\",\"showlegend\":true,\"type\":\"pie\",\"values\":[0.2894736842105263,4.086956521739131,1.2532467532467533,0.9476190476190476,3.1067961165048543,6.912408759124087]}],                        {\"legend\":{\"tracegroupgap\":0},\"margin\":{\"t\":60},\"template\":{\"data\":{\"bar\":[{\"error_x\":{\"color\":\"#2a3f5f\"},\"error_y\":{\"color\":\"#2a3f5f\"},\"marker\":{\"line\":{\"color\":\"#E5ECF6\",\"width\":0.5},\"pattern\":{\"fillmode\":\"overlay\",\"size\":10,\"solidity\":0.2}},\"type\":\"bar\"}],\"barpolar\":[{\"marker\":{\"line\":{\"color\":\"#E5ECF6\",\"width\":0.5},\"pattern\":{\"fillmode\":\"overlay\",\"size\":10,\"solidity\":0.2}},\"type\":\"barpolar\"}],\"carpet\":[{\"aaxis\":{\"endlinecolor\":\"#2a3f5f\",\"gridcolor\":\"white\",\"linecolor\":\"white\",\"minorgridcolor\":\"white\",\"startlinecolor\":\"#2a3f5f\"},\"baxis\":{\"endlinecolor\":\"#2a3f5f\",\"gridcolor\":\"white\",\"linecolor\":\"white\",\"minorgridcolor\":\"white\",\"startlinecolor\":\"#2a3f5f\"},\"type\":\"carpet\"}],\"choropleth\":[{\"colorbar\":{\"outlinewidth\":0,\"ticks\":\"\"},\"type\":\"choropleth\"}],\"contour\":[{\"colorbar\":{\"outlinewidth\":0,\"ticks\":\"\"},\"colorscale\":[[0.0,\"#0d0887\"],[0.1111111111111111,\"#46039f\"],[0.2222222222222222,\"#7201a8\"],[0.3333333333333333,\"#9c179e\"],[0.4444444444444444,\"#bd3786\"],[0.5555555555555556,\"#d8576b\"],[0.6666666666666666,\"#ed7953\"],[0.7777777777777778,\"#fb9f3a\"],[0.8888888888888888,\"#fdca26\"],[1.0,\"#f0f921\"]],\"type\":\"contour\"}],\"contourcarpet\":[{\"colorbar\":{\"outlinewidth\":0,\"ticks\":\"\"},\"type\":\"contourcarpet\"}],\"heatmap\":[{\"colorbar\":{\"outlinewidth\":0,\"ticks\":\"\"},\"colorscale\":[[0.0,\"#0d0887\"],[0.1111111111111111,\"#46039f\"],[0.2222222222222222,\"#7201a8\"],[0.3333333333333333,\"#9c179e\"],[0.4444444444444444,\"#bd3786\"],[0.5555555555555556,\"#d8576b\"],[0.6666666666666666,\"#ed7953\"],[0.7777777777777778,\"#fb9f3a\"],[0.8888888888888888,\"#fdca26\"],[1.0,\"#f0f921\"]],\"type\":\"heatmap\"}],\"heatmapgl\":[{\"colorbar\":{\"outlinewidth\":0,\"ticks\":\"\"},\"colorscale\":[[0.0,\"#0d0887\"],[0.1111111111111111,\"#46039f\"],[0.2222222222222222,\"#7201a8\"],[0.3333333333333333,\"#9c179e\"],[0.4444444444444444,\"#bd3786\"],[0.5555555555555556,\"#d8576b\"],[0.6666666666666666,\"#ed7953\"],[0.7777777777777778,\"#fb9f3a\"],[0.8888888888888888,\"#fdca26\"],[1.0,\"#f0f921\"]],\"type\":\"heatmapgl\"}],\"histogram\":[{\"marker\":{\"pattern\":{\"fillmode\":\"overlay\",\"size\":10,\"solidity\":0.2}},\"type\":\"histogram\"}],\"histogram2d\":[{\"colorbar\":{\"outlinewidth\":0,\"ticks\":\"\"},\"colorscale\":[[0.0,\"#0d0887\"],[0.1111111111111111,\"#46039f\"],[0.2222222222222222,\"#7201a8\"],[0.3333333333333333,\"#9c179e\"],[0.4444444444444444,\"#bd3786\"],[0.5555555555555556,\"#d8576b\"],[0.6666666666666666,\"#ed7953\"],[0.7777777777777778,\"#fb9f3a\"],[0.8888888888888888,\"#fdca26\"],[1.0,\"#f0f921\"]],\"type\":\"histogram2d\"}],\"histogram2dcontour\":[{\"colorbar\":{\"outlinewidth\":0,\"ticks\":\"\"},\"colorscale\":[[0.0,\"#0d0887\"],[0.1111111111111111,\"#46039f\"],[0.2222222222222222,\"#7201a8\"],[0.3333333333333333,\"#9c179e\"],[0.4444444444444444,\"#bd3786\"],[0.5555555555555556,\"#d8576b\"],[0.6666666666666666,\"#ed7953\"],[0.7777777777777778,\"#fb9f3a\"],[0.8888888888888888,\"#fdca26\"],[1.0,\"#f0f921\"]],\"type\":\"histogram2dcontour\"}],\"mesh3d\":[{\"colorbar\":{\"outlinewidth\":0,\"ticks\":\"\"},\"type\":\"mesh3d\"}],\"parcoords\":[{\"line\":{\"colorbar\":{\"outlinewidth\":0,\"ticks\":\"\"}},\"type\":\"parcoords\"}],\"pie\":[{\"automargin\":true,\"type\":\"pie\"}],\"scatter\":[{\"marker\":{\"colorbar\":{\"outlinewidth\":0,\"ticks\":\"\"}},\"type\":\"scatter\"}],\"scatter3d\":[{\"line\":{\"colorbar\":{\"outlinewidth\":0,\"ticks\":\"\"}},\"marker\":{\"colorbar\":{\"outlinewidth\":0,\"ticks\":\"\"}},\"type\":\"scatter3d\"}],\"scattercarpet\":[{\"marker\":{\"colorbar\":{\"outlinewidth\":0,\"ticks\":\"\"}},\"type\":\"scattercarpet\"}],\"scattergeo\":[{\"marker\":{\"colorbar\":{\"outlinewidth\":0,\"ticks\":\"\"}},\"type\":\"scattergeo\"}],\"scattergl\":[{\"marker\":{\"colorbar\":{\"outlinewidth\":0,\"ticks\":\"\"}},\"type\":\"scattergl\"}],\"scattermapbox\":[{\"marker\":{\"colorbar\":{\"outlinewidth\":0,\"ticks\":\"\"}},\"type\":\"scattermapbox\"}],\"scatterpolar\":[{\"marker\":{\"colorbar\":{\"outlinewidth\":0,\"ticks\":\"\"}},\"type\":\"scatterpolar\"}],\"scatterpolargl\":[{\"marker\":{\"colorbar\":{\"outlinewidth\":0,\"ticks\":\"\"}},\"type\":\"scatterpolargl\"}],\"scatterternary\":[{\"marker\":{\"colorbar\":{\"outlinewidth\":0,\"ticks\":\"\"}},\"type\":\"scatterternary\"}],\"surface\":[{\"colorbar\":{\"outlinewidth\":0,\"ticks\":\"\"},\"colorscale\":[[0.0,\"#0d0887\"],[0.1111111111111111,\"#46039f\"],[0.2222222222222222,\"#7201a8\"],[0.3333333333333333,\"#9c179e\"],[0.4444444444444444,\"#bd3786\"],[0.5555555555555556,\"#d8576b\"],[0.6666666666666666,\"#ed7953\"],[0.7777777777777778,\"#fb9f3a\"],[0.8888888888888888,\"#fdca26\"],[1.0,\"#f0f921\"]],\"type\":\"surface\"}],\"table\":[{\"cells\":{\"fill\":{\"color\":\"#EBF0F8\"},\"line\":{\"color\":\"white\"}},\"header\":{\"fill\":{\"color\":\"#C8D4E3\"},\"line\":{\"color\":\"white\"}},\"type\":\"table\"}]},\"layout\":{\"annotationdefaults\":{\"arrowcolor\":\"#2a3f5f\",\"arrowhead\":0,\"arrowwidth\":1},\"autotypenumbers\":\"strict\",\"coloraxis\":{\"colorbar\":{\"outlinewidth\":0,\"ticks\":\"\"}},\"colorscale\":{\"diverging\":[[0,\"#8e0152\"],[0.1,\"#c51b7d\"],[0.2,\"#de77ae\"],[0.3,\"#f1b6da\"],[0.4,\"#fde0ef\"],[0.5,\"#f7f7f7\"],[0.6,\"#e6f5d0\"],[0.7,\"#b8e186\"],[0.8,\"#7fbc41\"],[0.9,\"#4d9221\"],[1,\"#276419\"]],\"sequential\":[[0.0,\"#0d0887\"],[0.1111111111111111,\"#46039f\"],[0.2222222222222222,\"#7201a8\"],[0.3333333333333333,\"#9c179e\"],[0.4444444444444444,\"#bd3786\"],[0.5555555555555556,\"#d8576b\"],[0.6666666666666666,\"#ed7953\"],[0.7777777777777778,\"#fb9f3a\"],[0.8888888888888888,\"#fdca26\"],[1.0,\"#f0f921\"]],\"sequentialminus\":[[0.0,\"#0d0887\"],[0.1111111111111111,\"#46039f\"],[0.2222222222222222,\"#7201a8\"],[0.3333333333333333,\"#9c179e\"],[0.4444444444444444,\"#bd3786\"],[0.5555555555555556,\"#d8576b\"],[0.6666666666666666,\"#ed7953\"],[0.7777777777777778,\"#fb9f3a\"],[0.8888888888888888,\"#fdca26\"],[1.0,\"#f0f921\"]]},\"colorway\":[\"#636efa\",\"#EF553B\",\"#00cc96\",\"#ab63fa\",\"#FFA15A\",\"#19d3f3\",\"#FF6692\",\"#B6E880\",\"#FF97FF\",\"#FECB52\"],\"font\":{\"color\":\"#2a3f5f\"},\"geo\":{\"bgcolor\":\"white\",\"lakecolor\":\"white\",\"landcolor\":\"#E5ECF6\",\"showlakes\":true,\"showland\":true,\"subunitcolor\":\"white\"},\"hoverlabel\":{\"align\":\"left\"},\"hovermode\":\"closest\",\"mapbox\":{\"style\":\"light\"},\"paper_bgcolor\":\"white\",\"plot_bgcolor\":\"#E5ECF6\",\"polar\":{\"angularaxis\":{\"gridcolor\":\"white\",\"linecolor\":\"white\",\"ticks\":\"\"},\"bgcolor\":\"#E5ECF6\",\"radialaxis\":{\"gridcolor\":\"white\",\"linecolor\":\"white\",\"ticks\":\"\"}},\"scene\":{\"xaxis\":{\"backgroundcolor\":\"#E5ECF6\",\"gridcolor\":\"white\",\"gridwidth\":2,\"linecolor\":\"white\",\"showbackground\":true,\"ticks\":\"\",\"zerolinecolor\":\"white\"},\"yaxis\":{\"backgroundcolor\":\"#E5ECF6\",\"gridcolor\":\"white\",\"gridwidth\":2,\"linecolor\":\"white\",\"showbackground\":true,\"ticks\":\"\",\"zerolinecolor\":\"white\"},\"zaxis\":{\"backgroundcolor\":\"#E5ECF6\",\"gridcolor\":\"white\",\"gridwidth\":2,\"linecolor\":\"white\",\"showbackground\":true,\"ticks\":\"\",\"zerolinecolor\":\"white\"}},\"shapedefaults\":{\"line\":{\"color\":\"#2a3f5f\"}},\"ternary\":{\"aaxis\":{\"gridcolor\":\"white\",\"linecolor\":\"white\",\"ticks\":\"\"},\"baxis\":{\"gridcolor\":\"white\",\"linecolor\":\"white\",\"ticks\":\"\"},\"bgcolor\":\"#E5ECF6\",\"caxis\":{\"gridcolor\":\"white\",\"linecolor\":\"white\",\"ticks\":\"\"}},\"title\":{\"x\":0.05},\"xaxis\":{\"automargin\":true,\"gridcolor\":\"white\",\"linecolor\":\"white\",\"ticks\":\"\",\"title\":{\"standoff\":15},\"zerolinecolor\":\"white\",\"zerolinewidth\":2},\"yaxis\":{\"automargin\":true,\"gridcolor\":\"white\",\"linecolor\":\"white\",\"ticks\":\"\",\"title\":{\"standoff\":15},\"zerolinecolor\":\"white\",\"zerolinewidth\":2}}}},                        {\"responsive\": true}                    ).then(function(){\n                            \nvar gd = document.getElementById('c7e3a2c0-eb9d-401f-ad77-e8392471ae69');\nvar x = new MutationObserver(function (mutations, observer) {{\n        var display = window.getComputedStyle(gd).display;\n        if (!display || display === 'none') {{\n            console.log([gd, 'removed!']);\n            Plotly.purge(gd);\n            observer.disconnect();\n        }}\n}});\n\n// Listen for the removal of the full notebook cells\nvar notebookContainer = gd.closest('#notebook-container');\nif (notebookContainer) {{\n    x.observe(notebookContainer, {childList: true});\n}}\n\n// Listen for the clearing of the current output cell\nvar outputEl = gd.closest('.output');\nif (outputEl) {{\n    x.observe(outputEl, {childList: true});\n}}\n\n                        })                };                });            </script>        </div>"
     },
     "metadata": {},
     "output_type": "display_data"
    }
   ],
   "source": [
    "px.pie(avg, values=\"knockEnemyIntoTeamAndKill\", names=\"role\")"
   ],
   "metadata": {
    "collapsed": false,
    "pycharm": {
     "name": "#%%\n"
    }
   }
  },
  {
   "cell_type": "code",
   "execution_count": 334,
   "outputs": [],
   "source": [
    "# px.pie(dist, values=\"win\", names=\"role\")"
   ],
   "metadata": {
    "collapsed": false,
    "pycharm": {
     "name": "#%%\n"
    }
   }
  },
  {
   "cell_type": "code",
   "execution_count": 335,
   "outputs": [
    {
     "data": {
      "text/plain": "          gameDuration    assists  bountyLevel  champExperience  champLevel  \\\nrole                                                                          \nAssassin   1068.926829  16.146341     0.487805     16103.609756   15.634146   \nFighter    1048.489796  18.678571     0.500000     15821.642857   15.653061   \nMage       1030.706186  20.953608     0.293814     15422.422680   15.432990   \nMarksman   1062.059289  20.177866     0.470356     16157.577075   15.723320   \nSupport    1028.552000  25.616000     0.304000     15542.680000   15.424000   \nTank       1057.375000  23.976190     0.267857     16005.458333   15.761905   \n\n          championId  consumablesPurchased  damageDealtToTurrets  \\\nrole                                                               \nAssassin  109.951220              0.634146           1173.853659   \nFighter   249.290816              0.260204           1036.663265   \nMage      103.582474              0.309278            945.108247   \nMarksman  179.501976              0.525692           2067.873518   \nSupport   302.312000              0.400000            881.096000   \nTank       67.017857              0.226190            611.559524   \n\n          damageSelfMitigated     deaths  doubleKills  firstBloodAssist  \\\nrole                                                                      \nAssassin         24982.121951  10.341463     2.048780          0.243902   \nFighter          33367.908163  10.178571     1.127551          0.326531   \nMage             10008.324742  10.350515     0.902062          0.355670   \nMarksman         12665.671937  10.150198     1.664032          0.312253   \nSupport          34867.080000   8.080000     0.360000          0.424000   \nTank             37896.779762   9.446429     0.470238          0.440476   \n\n          firstBloodKill  firstTowerAssist  firstTowerKill  \\\nrole                                                         \nAssassin        0.219512          0.219512        0.048780   \nFighter         0.122449          0.239796        0.076531   \nMage            0.041237          0.298969        0.067010   \nMarksman        0.138340          0.312253        0.094862   \nSupport         0.048000          0.272000        0.064000   \nTank            0.053571          0.339286        0.029762   \n\n          gameEndedInEarlySurrender  gameEndedInSurrender    goldEarned  \\\nrole                                                                      \nAssassin                        0.0              0.146341  12831.658537   \nFighter                         0.0              0.209184  12040.637755   \nMage                            0.0              0.190722  11731.376289   \nMarksman                        0.0              0.185771  13111.407115   \nSupport                         0.0              0.200000  10929.672000   \nTank                            0.0              0.208333  11336.380952   \n\n             goldSpent  inhibitorKills  inhibitorTakedowns  inhibitorsLost  \\\nrole                                                                         \nAssassin  11695.609756        0.170732            0.804878        1.073171   \nFighter   11092.877551        0.204082            0.642857        0.994898   \nMage      10736.252577        0.123711            0.536082        1.097938   \nMarksman  12291.252964        0.201581            0.667984        1.015810   \nSupport    9918.200000        0.120000            0.864000        0.920000   \nTank      10610.976190        0.113095            0.696429        0.875000   \n\n                item6  itemsPurchased  killingSprees      kills  \\\nrole                                                              \nAssassin  2052.000000       18.000000       3.000000  10.756098   \nFighter   2041.530612       17.316327       1.806122   7.607143   \nMage      2022.865979       13.659794       1.649485   6.943299   \nMarksman  2052.000000       18.083004       2.494071   9.521739   \nSupport   2052.000000       15.328000       0.936000   4.240000   \nTank      2039.785714       16.339286       0.976190   4.690476   \n\n          largestCriticalStrike  largestKillingSpree  largestMultiKill  \\\nrole                                                                     \nAssassin              82.926829             2.560976          2.146341   \nFighter               38.811224             2.285714          1.857143   \nMage                   5.489691             2.030928          1.628866   \nMarksman             409.794466             2.636364          2.071146   \nSupport               19.816000             1.280000          1.240000   \nTank                   3.059524             1.309524          1.339286   \n\n          longestTimeSpentLiving  magicDamageDealt  \\\nrole                                                 \nAssassin              161.097561      12418.268293   \nFighter               155.729592      14891.408163   \nMage                  154.783505      49541.072165   \nMarksman              161.992095      10353.201581   \nSupport               187.936000      17449.784000   \nTank                  167.642857      29641.601190   \n\n          magicDamageDealtToChampions  magicDamageTaken  nexusKills  \\\nrole                                                                  \nAssassin                  6726.658537      11952.804878    0.048780   \nFighter                   7228.785714      12408.377551    0.086735   \nMage                     22795.015464      10063.371134    0.036082   \nMarksman                  6063.154150      11659.905138    0.075099   \nSupport                  10040.848000      12079.648000    0.032000   \nTank                     13008.101190      12493.636905    0.041667   \n\n          nexusLost  nexusTakedowns  pentaKills  physicalDamageDealt  \\\nrole                                                                   \nAssassin   0.463415        0.195122    0.000000         36961.682927   \nFighter    0.387755        0.255102    0.000000         29762.346939   \nMage       0.484536        0.175258    0.000000          2636.211340   \nMarksman   0.415020        0.252964    0.011858         53611.758893   \nSupport    0.424000        0.280000    0.008000          6000.544000   \nTank       0.380952        0.238095    0.000000          5452.875000   \n\n          physicalDamageDealtToChampions  physicalDamageTaken  quadraKills  \\\nrole                                                                         \nAssassin                    17309.365854         13574.487805     0.048780   \nFighter                     11521.459184         16006.362245     0.061224   \nMage                          641.041237          9616.829897     0.020619   \nMarksman                    20443.980237         11491.462451     0.090909   \nSupport                      2460.176000         14024.032000     0.016000   \nTank                         2336.017857         17245.452381     0.000000   \n\n          spell1Casts  spell2Casts  spell3Casts  spell4Casts  summoner1Casts  \\\nrole                                                                           \nAssassin    54.048780    51.926829    36.682927    16.097561       19.609756   \nFighter     58.714286    38.989796    41.428571    11.178571       21.816327   \nMage        71.134021    54.860825    45.788660    15.634021        9.860825   \nMarksman    53.067194    44.154150    30.272727    14.391304        7.944664   \nSupport     57.160000    37.448000    39.360000    12.672000       12.168000   \nTank        40.744048    30.232143    31.130952     8.351190       20.553571   \n\n          summoner1Id  summoner2Casts  summoner2Id  teamEarlySurrendered  \\\nrole                                                                       \nAssassin    26.219512        4.292683     4.000000                   0.0   \nFighter     28.693878        4.280612     4.122449                   0.0   \nMage        12.835052        3.948454     4.139175                   0.0   \nMarksman     9.217391        4.391304     4.000000                   0.0   \nSupport     14.976000        3.672000     4.144000                   0.0   \nTank        25.523810        4.482143     4.416667                   0.0   \n\n              teamId  timeCCingOthers   timePlayed  totalDamageDealt  \\\nrole                                                                   \nAssassin  143.902439        19.463415  1068.926829      51178.536585   \nFighter   146.938776        19.484694  1048.489796      49149.596939   \nMage      157.216495        31.938144  1030.706186      53564.577320   \nMarksman  147.035573        16.806324  1062.059289      66903.043478   \nSupport   146.400000        35.088000  1028.552000      24668.480000   \nTank      154.166667        50.345238  1057.375000      37659.940476   \n\n          totalDamageDealtToChampions  totalDamageShieldedOnTeammates  \\\nrole                                                                    \nAssassin                 25388.365854                        0.000000   \nFighter                  21546.693878                       87.954082   \nMage                     24511.927835                      673.381443   \nMarksman                 27964.185771                       80.517787   \nSupport                  13436.192000                     3921.784000   \nTank                     16920.077381                      380.279762   \n\n          totalDamageTaken    totalHeal  totalHealsOnTeammates  \\\nrole                                                             \nAssassin      27968.829268  5343.414634              14.146341   \nFighter       31227.045918  5707.346939              67.081633   \nMage          21056.979381  2001.551546             144.175258   \nMarksman      24565.762846  2334.355731             270.616601   \nSupport       28292.640000  6793.096000            1656.864000   \nTank          32726.690476  5048.250000             870.589286   \n\n          totalMinionsKilled  totalTimeCCDealt  totalTimeSpentDead  \\\nrole                                                                 \nAssassin           27.414634        151.243902          244.585366   \nFighter            31.704082        140.821429          229.775510   \nMage               30.360825        141.530928          237.690722   \nMarksman           45.833992        111.996047          237.466403   \nSupport            12.480000        237.576000          187.864000   \nTank               22.916667        288.863095          213.136905   \n\n          totalUnitsHealed  tripleKills  trueDamageDealt  \\\nrole                                                       \nAssassin          1.146341     0.463415      1797.682927   \nFighter           1.433673     0.214286      4494.943878   \nMage              1.247423     0.154639      1386.463918   \nMarksman          1.766798     0.411067      2937.197628   \nSupport           3.864000     0.064000      1217.408000   \nTank              2.773810     0.047619      2564.589286   \n\n          trueDamageDealtToChampions  trueDamageTaken  turretKills  \\\nrole                                                                 \nAssassin                 1351.439024      2440.609756     0.512195   \nFighter                  2795.576531      2811.408163     0.357143   \nMage                     1075.056701      1375.840206     0.340206   \nMarksman                 1456.241107      1413.486166     0.616601   \nSupport                   934.400000      2188.064000     0.376000   \nTank                     1575.172619      2986.625000     0.178571   \n\n          turretTakedowns  turretsLost  unrealKills       win  \\\nrole                                                            \nAssassin         1.560976     2.487805          0.0  0.487805   \nFighter          1.448980     2.637755          0.0  0.505102   \nMage             1.407216     2.855670          0.0  0.402062   \nMarksman         1.873518     2.636364          0.0  0.505929   \nSupport          2.008000     2.536000          0.0  0.504000   \nTank             1.511905     2.446429          0.0  0.553571   \n\n          12AssistStreakCount  abilityUses  acesBefore15Minutes  bountyGold  \\\nrole                                                                          \nAssassin             0.075000   159.825000             1.375000  526.250000   \nFighter              0.153409   150.392045             1.159091  401.562500   \nMage                 0.202381   185.113095             1.095238  459.375000   \nMarksman             0.169565   140.439130             1.269565  511.086957   \nSupport              0.862385   141.458716             1.220183  276.834862   \nTank                 0.569536   109.708609             1.304636  267.384106   \n\n          damagePerMinute  damageTakenOnTeamPercentage  deathsByEnemyChamps  \\\nrole                                                                          \nAssassin      1699.952054                     0.234396            10.025000   \nFighter       1541.402812                     0.251214            10.011364   \nMage          1701.115142                     0.176959             9.821429   \nMarksman      2180.002037                     0.200682            10.034783   \nSupport        990.904110                     0.228832             7.963303   \nTank          1274.740002                     0.254299             9.218543   \n\n          dodgeSkillShotsSmallWindow  doubleAces  \\\nrole                                               \nAssassin                  107.225000    0.000000   \nFighter                    88.729885    0.056818   \nMage                       89.987421    0.000000   \nMarksman                  111.009091    0.043478   \nSupport                   114.990826    0.000000   \nTank                      114.270833    0.000000   \n\n          earlyLaningPhaseGoldExpAdvantage  effectiveHealAndShielding  \\\nrole                                                                    \nAssassin                          0.024098                  14.532446   \nFighter                          -0.019322                 153.346374   \nMage                             -0.006905                 843.607461   \nMarksman                          0.007821                 334.956305   \nSupport                          -0.024174                5192.311791   \nTank                             -0.020004                1138.181833   \n\n          enemyChampionImmobilizations  flawlessAces  fullTeamTakedown  \\\nrole                                                                     \nAssassin                      5.000000      0.725000          6.575000   \nFighter                      22.482955      0.602273          7.460227   \nMage                         22.642857      0.464286          7.160714   \nMarksman                      9.730435      0.621739          7.543478   \nSupport                      32.394495      0.614679          9.211009   \nTank                         50.437086      0.715232          8.443709   \n\n          goldPerMinute  hadAfkTeammate  hadOpenNexus  highestChampionDamage  \\\nrole                                                                           \nAssassin     732.274511        0.000000           0.0                    1.0   \nFighter      694.936174        0.028571           0.0                    1.0   \nMage         689.756805        0.051020           0.0                    1.0   \nMarksman     751.193588        0.027778           0.0                    1.0   \nSupport      643.433024        0.000000           0.0                    NaN   \nTank         648.385836        0.036145           0.0                    1.0   \n\n          immobilizeAndKillWithAlly       kda  killAfterHiddenWithAlly  \\\nrole                                                                     \nAssassin                   1.631579  2.737009                 6.105263   \nFighter                    6.074534  2.729882                 5.540373   \nMage                       7.441558  2.865819                 4.577922   \nMarksman                   2.904762  3.121200                 5.461905   \nSupport                    8.834951  3.919311                 4.223301   \nTank                      12.270073  3.221604                 4.824818   \n\n          killParticipation  killedChampTookFullTeamDamageSurvived  \\\nrole                                                                 \nAssassin           0.698128                               0.078947   \nFighter            0.624743                               0.260870   \nMage               0.666111                               0.025974   \nMarksman           0.701681                               0.100000   \nSupport            0.749659                               0.097087   \nTank               0.682357                               0.131387   \n\n          killsNearEnemyTurret  killsOnRecentlyHealedByAramPack  \\\nrole                                                              \nAssassin              2.900000                         0.200000   \nFighter               1.761364                         0.119318   \nMage                  1.517857                         0.101190   \nMarksman              2.165217                         0.186957   \nSupport               1.073394                         0.100917   \nTank                  1.033113                         0.066225   \n\n          killsUnderOwnTurret  killsWithHelpFromEpicMonster  \\\nrole                                                          \nAssassin             1.925000                           0.0   \nFighter              1.562500                           0.0   \nMage                 2.172619                           0.0   \nMarksman             2.669565                           0.0   \nSupport              0.990826                           0.0   \nTank                 0.980132                           0.0   \n\n          knockEnemyIntoTeamAndKill  landSkillShotsEarlyGame  \\\nrole                                                           \nAssassin                   0.289474                20.925000   \nFighter                    4.086957                14.724138   \nMage                       1.253247                22.283019   \nMarksman                   0.947619                22.000000   \nSupport                    3.106796                23.541284   \nTank                       6.912409                13.583333   \n\n          laneMinionsFirst10Minutes  laningPhaseGoldExpAdvantage  \\\nrole                                                               \nAssassin                  14.050000                     0.030374   \nFighter                   16.255682                    -0.001113   \nMage                      16.577381                    -0.000226   \nMarksman                  24.082609                    -0.002955   \nSupport                    6.844037                    -0.032701   \nTank                      10.827815                    -0.021413   \n\n          legendaryCount  lostAnInhibitor  maxCsAdvantageOnLaneOpponent  \\\nrole                                                                      \nAssassin        0.275000         0.125000                      6.631579   \nFighter         0.090909         0.193182                      8.343558   \nMage            0.071429         0.130952                      7.993711   \nMarksman        0.100000         0.160870                     15.580000   \nSupport         0.055046         0.183486                      1.792079   \nTank            0.019868         0.152318                      5.262774   \n\n          maxKillDeficit  maxLevelLeadLaneOpponent  multiKillOneSpell  \\\nrole                                                                    \nAssassin        1.350000                  1.710526           0.025000   \nFighter         1.994318                  1.625767           0.068182   \nMage            1.339286                  1.496855           0.107143   \nMarksman        1.782609                  1.605000           0.013043   \nSupport         1.834862                  1.603960           0.000000   \nTank            1.973510                  1.525547           0.006623   \n\n          multikills  multikillsAfterAggressiveFlash  \\\nrole                                                   \nAssassin    2.575000                        0.450000   \nFighter     1.403409                        0.221591   \nMage        1.053571                        0.113095   \nMarksman    2.252174                        0.347826   \nSupport     0.467890                        0.045872   \nTank        0.503311                        0.033113   \n\n          outerTurretExecutesBefore10Minutes  outnumberedKills  \\\nrole                                                             \nAssassin                            0.250000          3.925000   \nFighter                             0.068182          2.500000   \nMage                                0.404762          1.398810   \nMarksman                            0.104348          2.086957   \nSupport                             0.073394          1.091743   \nTank                                0.145695          1.397351   \n\n          outnumberedNexusKill  perfectGame  pickKillWithAlly  poroExplosions  \\\nrole                                                                            \nAssassin                   0.0          0.0         16.184211         0.00000   \nFighter                    0.0          0.0         15.838509         0.00000   \nMage                       0.0          0.0         17.467532         0.14881   \nMarksman                   0.0          0.0         16.666667         0.00000   \nSupport                    0.0          0.0         17.737864         0.00000   \nTank                       0.0          0.0         16.649635         0.07947   \n\n          quickCleanse  quickFirstTurret  quickSoloKills  riftHeraldTakedowns  \\\nrole                                                                            \nAssassin      0.075000          0.250000        0.000000                  0.0   \nFighter       0.086207          0.126437        0.000000                  0.0   \nMage          0.125786          0.163522        0.018868                  0.0   \nMarksman      0.031818          0.136364        0.013636                  0.0   \nSupport       0.082569          0.165138        0.000000                  0.0   \nTank          0.097222          0.111111        0.006944                  0.0   \n\n          saveAllyFromDeath  shortestTimeToAceFromFirstTakedown  \\\nrole                                                              \nAssassin           0.000000                           16.047047   \nFighter            0.254658                           16.372382   \nMage               0.090909                           16.065213   \nMarksman           0.066667                           16.777258   \nSupport            2.223301                           16.895806   \nTank               2.109489                           15.582255   \n\n          skillshotsDodged  skillshotsHit  snowballsHit  soloKills  \\\nrole                                                                 \nAssassin        110.300000      51.775000      7.400000   0.650000   \nFighter          97.602273      37.784091      8.619318   0.477273   \nMage             69.648810      49.583333      2.458333   0.500000   \nMarksman         77.652174      55.860870      1.147826   0.500000   \nSupport         123.027523      60.055046      4.000000   0.211009   \nTank            135.695364      40.238411      7.973510   0.238411   \n\n          soloTurretsLategame  survivedSingleDigitHpCount  \\\nrole                                                        \nAssassin                  0.0                    0.050000   \nFighter                   0.0                    0.039773   \nMage                      0.0                    0.053571   \nMarksman                  0.0                    0.069565   \nSupport                   0.0                    0.100917   \nTank                      0.0                    0.066225   \n\n          survivedThreeImmobilizesInFight  takedownOnFirstTurret  takedowns  \\\nrole                                                                          \nAssassin                         2.631579               0.275000  26.725000   \nFighter                          3.111801               0.272727  26.250000   \nMage                             0.798701               0.309524  27.571429   \nMarksman                         1.419048               0.326087  29.547826   \nSupport                          3.805825               0.403670  29.458716   \nTank                             3.109489               0.291391  28.443709   \n\n          takedownsAfterGainingLevelAdvantage  takedownsFirst25Minutes  \\\nrole                                                                     \nAssassin                             0.300000                28.857143   \nFighter                              0.210227                24.153846   \nMage                                 0.202381                25.244444   \nMarksman                             0.321739                31.060241   \nSupport                              0.137615                27.846154   \nTank                                 0.158940                26.903846   \n\n          takedownsInEnemyFountain  teamDamagePercentage  teleportTakedowns  \\\nrole                                                                          \nAssassin                  0.075000              0.226273           1.714286   \nFighter                   0.073864              0.193804           1.607143   \nMage                      0.071429              0.222959           1.384615   \nMarksman                  0.078261              0.242160           1.479167   \nSupport                   0.045872              0.123521           3.107143   \nTank                      0.019868              0.151590           2.441176   \n\n          tookLargeDamageSurvived  twentyMinionsIn3SecondsCount  \\\nrole                                                              \nAssassin                 0.026316                           0.0   \nFighter                  0.180124                           0.0   \nMage                     0.000000                           0.0   \nMarksman                 0.000000                           0.0   \nSupport                  0.223301                           0.0   \nTank                     0.145985                           0.0   \n\n          visionScoreAdvantageLaneOpponent  visionScorePerMinute  \\\nrole                                                               \nAssassin                         -0.684211              0.000000   \nFighter                          -0.742331              0.000000   \nMage                             -0.711401              0.001888   \nMarksman                         -0.305833              0.022398   \nSupport                          -0.653465              0.000000   \nTank                             -0.700730              0.000000   \n\n          mythicItemUsed  firstTurretKilledTime  highestCrowdControlScore  \\\nrole                                                                        \nAssassin     6286.972222             456.425616                       1.0   \nFighter      5785.257862             408.017592                       1.0   \nMage         6402.263804             388.656343                       1.0   \nMarksman     6337.418848             391.673239                       1.0   \nSupport      5033.759615             397.789735                       1.0   \nTank         4301.983333             402.841275                       1.0   \n\n          eligibleForProgression  takedownsFirstXMinutes  basicPings  \\\nrole                                                                   \nAssassin                     1.0               20.846154    7.916667   \nFighter                      1.0               23.016129    6.436364   \nMage                         1.0               24.000000    6.491228   \nMarksman                     1.0               23.870748    6.476190   \nSupport                      1.0               25.042857    7.307692   \nTank                         1.0               24.353535    7.877193   \n\n          fastestLegendary  \nrole                        \nAssassin               NaN  \nFighter                NaN  \nMage                   NaN  \nMarksman        666.371412  \nSupport                NaN  \nTank                   NaN  ",
      "text/html": "<div>\n<style scoped>\n    .dataframe tbody tr th:only-of-type {\n        vertical-align: middle;\n    }\n\n    .dataframe tbody tr th {\n        vertical-align: top;\n    }\n\n    .dataframe thead th {\n        text-align: right;\n    }\n</style>\n<table border=\"1\" class=\"dataframe\">\n  <thead>\n    <tr style=\"text-align: right;\">\n      <th></th>\n      <th>gameDuration</th>\n      <th>assists</th>\n      <th>bountyLevel</th>\n      <th>champExperience</th>\n      <th>champLevel</th>\n      <th>championId</th>\n      <th>consumablesPurchased</th>\n      <th>damageDealtToTurrets</th>\n      <th>damageSelfMitigated</th>\n      <th>deaths</th>\n      <th>doubleKills</th>\n      <th>firstBloodAssist</th>\n      <th>firstBloodKill</th>\n      <th>firstTowerAssist</th>\n      <th>firstTowerKill</th>\n      <th>gameEndedInEarlySurrender</th>\n      <th>gameEndedInSurrender</th>\n      <th>goldEarned</th>\n      <th>goldSpent</th>\n      <th>inhibitorKills</th>\n      <th>inhibitorTakedowns</th>\n      <th>inhibitorsLost</th>\n      <th>item6</th>\n      <th>itemsPurchased</th>\n      <th>killingSprees</th>\n      <th>kills</th>\n      <th>largestCriticalStrike</th>\n      <th>largestKillingSpree</th>\n      <th>largestMultiKill</th>\n      <th>longestTimeSpentLiving</th>\n      <th>magicDamageDealt</th>\n      <th>magicDamageDealtToChampions</th>\n      <th>magicDamageTaken</th>\n      <th>nexusKills</th>\n      <th>nexusLost</th>\n      <th>nexusTakedowns</th>\n      <th>pentaKills</th>\n      <th>physicalDamageDealt</th>\n      <th>physicalDamageDealtToChampions</th>\n      <th>physicalDamageTaken</th>\n      <th>quadraKills</th>\n      <th>spell1Casts</th>\n      <th>spell2Casts</th>\n      <th>spell3Casts</th>\n      <th>spell4Casts</th>\n      <th>summoner1Casts</th>\n      <th>summoner1Id</th>\n      <th>summoner2Casts</th>\n      <th>summoner2Id</th>\n      <th>teamEarlySurrendered</th>\n      <th>teamId</th>\n      <th>timeCCingOthers</th>\n      <th>timePlayed</th>\n      <th>totalDamageDealt</th>\n      <th>totalDamageDealtToChampions</th>\n      <th>totalDamageShieldedOnTeammates</th>\n      <th>totalDamageTaken</th>\n      <th>totalHeal</th>\n      <th>totalHealsOnTeammates</th>\n      <th>totalMinionsKilled</th>\n      <th>totalTimeCCDealt</th>\n      <th>totalTimeSpentDead</th>\n      <th>totalUnitsHealed</th>\n      <th>tripleKills</th>\n      <th>trueDamageDealt</th>\n      <th>trueDamageDealtToChampions</th>\n      <th>trueDamageTaken</th>\n      <th>turretKills</th>\n      <th>turretTakedowns</th>\n      <th>turretsLost</th>\n      <th>unrealKills</th>\n      <th>win</th>\n      <th>12AssistStreakCount</th>\n      <th>abilityUses</th>\n      <th>acesBefore15Minutes</th>\n      <th>bountyGold</th>\n      <th>damagePerMinute</th>\n      <th>damageTakenOnTeamPercentage</th>\n      <th>deathsByEnemyChamps</th>\n      <th>dodgeSkillShotsSmallWindow</th>\n      <th>doubleAces</th>\n      <th>earlyLaningPhaseGoldExpAdvantage</th>\n      <th>effectiveHealAndShielding</th>\n      <th>enemyChampionImmobilizations</th>\n      <th>flawlessAces</th>\n      <th>fullTeamTakedown</th>\n      <th>goldPerMinute</th>\n      <th>hadAfkTeammate</th>\n      <th>hadOpenNexus</th>\n      <th>highestChampionDamage</th>\n      <th>immobilizeAndKillWithAlly</th>\n      <th>kda</th>\n      <th>killAfterHiddenWithAlly</th>\n      <th>killParticipation</th>\n      <th>killedChampTookFullTeamDamageSurvived</th>\n      <th>killsNearEnemyTurret</th>\n      <th>killsOnRecentlyHealedByAramPack</th>\n      <th>killsUnderOwnTurret</th>\n      <th>killsWithHelpFromEpicMonster</th>\n      <th>knockEnemyIntoTeamAndKill</th>\n      <th>landSkillShotsEarlyGame</th>\n      <th>laneMinionsFirst10Minutes</th>\n      <th>laningPhaseGoldExpAdvantage</th>\n      <th>legendaryCount</th>\n      <th>lostAnInhibitor</th>\n      <th>maxCsAdvantageOnLaneOpponent</th>\n      <th>maxKillDeficit</th>\n      <th>maxLevelLeadLaneOpponent</th>\n      <th>multiKillOneSpell</th>\n      <th>multikills</th>\n      <th>multikillsAfterAggressiveFlash</th>\n      <th>outerTurretExecutesBefore10Minutes</th>\n      <th>outnumberedKills</th>\n      <th>outnumberedNexusKill</th>\n      <th>perfectGame</th>\n      <th>pickKillWithAlly</th>\n      <th>poroExplosions</th>\n      <th>quickCleanse</th>\n      <th>quickFirstTurret</th>\n      <th>quickSoloKills</th>\n      <th>riftHeraldTakedowns</th>\n      <th>saveAllyFromDeath</th>\n      <th>shortestTimeToAceFromFirstTakedown</th>\n      <th>skillshotsDodged</th>\n      <th>skillshotsHit</th>\n      <th>snowballsHit</th>\n      <th>soloKills</th>\n      <th>soloTurretsLategame</th>\n      <th>survivedSingleDigitHpCount</th>\n      <th>survivedThreeImmobilizesInFight</th>\n      <th>takedownOnFirstTurret</th>\n      <th>takedowns</th>\n      <th>takedownsAfterGainingLevelAdvantage</th>\n      <th>takedownsFirst25Minutes</th>\n      <th>takedownsInEnemyFountain</th>\n      <th>teamDamagePercentage</th>\n      <th>teleportTakedowns</th>\n      <th>tookLargeDamageSurvived</th>\n      <th>twentyMinionsIn3SecondsCount</th>\n      <th>visionScoreAdvantageLaneOpponent</th>\n      <th>visionScorePerMinute</th>\n      <th>mythicItemUsed</th>\n      <th>firstTurretKilledTime</th>\n      <th>highestCrowdControlScore</th>\n      <th>eligibleForProgression</th>\n      <th>takedownsFirstXMinutes</th>\n      <th>basicPings</th>\n      <th>fastestLegendary</th>\n    </tr>\n    <tr>\n      <th>role</th>\n      <th></th>\n      <th></th>\n      <th></th>\n      <th></th>\n      <th></th>\n      <th></th>\n      <th></th>\n      <th></th>\n      <th></th>\n      <th></th>\n      <th></th>\n      <th></th>\n      <th></th>\n      <th></th>\n      <th></th>\n      <th></th>\n      <th></th>\n      <th></th>\n      <th></th>\n      <th></th>\n      <th></th>\n      <th></th>\n      <th></th>\n      <th></th>\n      <th></th>\n      <th></th>\n      <th></th>\n      <th></th>\n      <th></th>\n      <th></th>\n      <th></th>\n      <th></th>\n      <th></th>\n      <th></th>\n      <th></th>\n      <th></th>\n      <th></th>\n      <th></th>\n      <th></th>\n      <th></th>\n      <th></th>\n      <th></th>\n      <th></th>\n      <th></th>\n      <th></th>\n      <th></th>\n      <th></th>\n      <th></th>\n      <th></th>\n      <th></th>\n      <th></th>\n      <th></th>\n      <th></th>\n      <th></th>\n      <th></th>\n      <th></th>\n      <th></th>\n      <th></th>\n      <th></th>\n      <th></th>\n      <th></th>\n      <th></th>\n      <th></th>\n      <th></th>\n      <th></th>\n      <th></th>\n      <th></th>\n      <th></th>\n      <th></th>\n      <th></th>\n      <th></th>\n      <th></th>\n      <th></th>\n      <th></th>\n      <th></th>\n      <th></th>\n      <th></th>\n      <th></th>\n      <th></th>\n      <th></th>\n      <th></th>\n      <th></th>\n      <th></th>\n      <th></th>\n      <th></th>\n      <th></th>\n      <th></th>\n      <th></th>\n      <th></th>\n      <th></th>\n      <th></th>\n      <th></th>\n      <th></th>\n      <th></th>\n      <th></th>\n      <th></th>\n      <th></th>\n      <th></th>\n      <th></th>\n      <th></th>\n      <th></th>\n      <th></th>\n      <th></th>\n      <th></th>\n      <th></th>\n      <th></th>\n      <th></th>\n      <th></th>\n      <th></th>\n      <th></th>\n      <th></th>\n      <th></th>\n      <th></th>\n      <th></th>\n      <th></th>\n      <th></th>\n      <th></th>\n      <th></th>\n      <th></th>\n      <th></th>\n      <th></th>\n      <th></th>\n      <th></th>\n      <th></th>\n      <th></th>\n      <th></th>\n      <th></th>\n      <th></th>\n      <th></th>\n      <th></th>\n      <th></th>\n      <th></th>\n      <th></th>\n      <th></th>\n      <th></th>\n      <th></th>\n      <th></th>\n      <th></th>\n      <th></th>\n      <th></th>\n      <th></th>\n      <th></th>\n      <th></th>\n      <th></th>\n      <th></th>\n      <th></th>\n      <th></th>\n      <th></th>\n    </tr>\n  </thead>\n  <tbody>\n    <tr>\n      <th>Assassin</th>\n      <td>1068.926829</td>\n      <td>16.146341</td>\n      <td>0.487805</td>\n      <td>16103.609756</td>\n      <td>15.634146</td>\n      <td>109.951220</td>\n      <td>0.634146</td>\n      <td>1173.853659</td>\n      <td>24982.121951</td>\n      <td>10.341463</td>\n      <td>2.048780</td>\n      <td>0.243902</td>\n      <td>0.219512</td>\n      <td>0.219512</td>\n      <td>0.048780</td>\n      <td>0.0</td>\n      <td>0.146341</td>\n      <td>12831.658537</td>\n      <td>11695.609756</td>\n      <td>0.170732</td>\n      <td>0.804878</td>\n      <td>1.073171</td>\n      <td>2052.000000</td>\n      <td>18.000000</td>\n      <td>3.000000</td>\n      <td>10.756098</td>\n      <td>82.926829</td>\n      <td>2.560976</td>\n      <td>2.146341</td>\n      <td>161.097561</td>\n      <td>12418.268293</td>\n      <td>6726.658537</td>\n      <td>11952.804878</td>\n      <td>0.048780</td>\n      <td>0.463415</td>\n      <td>0.195122</td>\n      <td>0.000000</td>\n      <td>36961.682927</td>\n      <td>17309.365854</td>\n      <td>13574.487805</td>\n      <td>0.048780</td>\n      <td>54.048780</td>\n      <td>51.926829</td>\n      <td>36.682927</td>\n      <td>16.097561</td>\n      <td>19.609756</td>\n      <td>26.219512</td>\n      <td>4.292683</td>\n      <td>4.000000</td>\n      <td>0.0</td>\n      <td>143.902439</td>\n      <td>19.463415</td>\n      <td>1068.926829</td>\n      <td>51178.536585</td>\n      <td>25388.365854</td>\n      <td>0.000000</td>\n      <td>27968.829268</td>\n      <td>5343.414634</td>\n      <td>14.146341</td>\n      <td>27.414634</td>\n      <td>151.243902</td>\n      <td>244.585366</td>\n      <td>1.146341</td>\n      <td>0.463415</td>\n      <td>1797.682927</td>\n      <td>1351.439024</td>\n      <td>2440.609756</td>\n      <td>0.512195</td>\n      <td>1.560976</td>\n      <td>2.487805</td>\n      <td>0.0</td>\n      <td>0.487805</td>\n      <td>0.075000</td>\n      <td>159.825000</td>\n      <td>1.375000</td>\n      <td>526.250000</td>\n      <td>1699.952054</td>\n      <td>0.234396</td>\n      <td>10.025000</td>\n      <td>107.225000</td>\n      <td>0.000000</td>\n      <td>0.024098</td>\n      <td>14.532446</td>\n      <td>5.000000</td>\n      <td>0.725000</td>\n      <td>6.575000</td>\n      <td>732.274511</td>\n      <td>0.000000</td>\n      <td>0.0</td>\n      <td>1.0</td>\n      <td>1.631579</td>\n      <td>2.737009</td>\n      <td>6.105263</td>\n      <td>0.698128</td>\n      <td>0.078947</td>\n      <td>2.900000</td>\n      <td>0.200000</td>\n      <td>1.925000</td>\n      <td>0.0</td>\n      <td>0.289474</td>\n      <td>20.925000</td>\n      <td>14.050000</td>\n      <td>0.030374</td>\n      <td>0.275000</td>\n      <td>0.125000</td>\n      <td>6.631579</td>\n      <td>1.350000</td>\n      <td>1.710526</td>\n      <td>0.025000</td>\n      <td>2.575000</td>\n      <td>0.450000</td>\n      <td>0.250000</td>\n      <td>3.925000</td>\n      <td>0.0</td>\n      <td>0.0</td>\n      <td>16.184211</td>\n      <td>0.00000</td>\n      <td>0.075000</td>\n      <td>0.250000</td>\n      <td>0.000000</td>\n      <td>0.0</td>\n      <td>0.000000</td>\n      <td>16.047047</td>\n      <td>110.300000</td>\n      <td>51.775000</td>\n      <td>7.400000</td>\n      <td>0.650000</td>\n      <td>0.0</td>\n      <td>0.050000</td>\n      <td>2.631579</td>\n      <td>0.275000</td>\n      <td>26.725000</td>\n      <td>0.300000</td>\n      <td>28.857143</td>\n      <td>0.075000</td>\n      <td>0.226273</td>\n      <td>1.714286</td>\n      <td>0.026316</td>\n      <td>0.0</td>\n      <td>-0.684211</td>\n      <td>0.000000</td>\n      <td>6286.972222</td>\n      <td>456.425616</td>\n      <td>1.0</td>\n      <td>1.0</td>\n      <td>20.846154</td>\n      <td>7.916667</td>\n      <td>NaN</td>\n    </tr>\n    <tr>\n      <th>Fighter</th>\n      <td>1048.489796</td>\n      <td>18.678571</td>\n      <td>0.500000</td>\n      <td>15821.642857</td>\n      <td>15.653061</td>\n      <td>249.290816</td>\n      <td>0.260204</td>\n      <td>1036.663265</td>\n      <td>33367.908163</td>\n      <td>10.178571</td>\n      <td>1.127551</td>\n      <td>0.326531</td>\n      <td>0.122449</td>\n      <td>0.239796</td>\n      <td>0.076531</td>\n      <td>0.0</td>\n      <td>0.209184</td>\n      <td>12040.637755</td>\n      <td>11092.877551</td>\n      <td>0.204082</td>\n      <td>0.642857</td>\n      <td>0.994898</td>\n      <td>2041.530612</td>\n      <td>17.316327</td>\n      <td>1.806122</td>\n      <td>7.607143</td>\n      <td>38.811224</td>\n      <td>2.285714</td>\n      <td>1.857143</td>\n      <td>155.729592</td>\n      <td>14891.408163</td>\n      <td>7228.785714</td>\n      <td>12408.377551</td>\n      <td>0.086735</td>\n      <td>0.387755</td>\n      <td>0.255102</td>\n      <td>0.000000</td>\n      <td>29762.346939</td>\n      <td>11521.459184</td>\n      <td>16006.362245</td>\n      <td>0.061224</td>\n      <td>58.714286</td>\n      <td>38.989796</td>\n      <td>41.428571</td>\n      <td>11.178571</td>\n      <td>21.816327</td>\n      <td>28.693878</td>\n      <td>4.280612</td>\n      <td>4.122449</td>\n      <td>0.0</td>\n      <td>146.938776</td>\n      <td>19.484694</td>\n      <td>1048.489796</td>\n      <td>49149.596939</td>\n      <td>21546.693878</td>\n      <td>87.954082</td>\n      <td>31227.045918</td>\n      <td>5707.346939</td>\n      <td>67.081633</td>\n      <td>31.704082</td>\n      <td>140.821429</td>\n      <td>229.775510</td>\n      <td>1.433673</td>\n      <td>0.214286</td>\n      <td>4494.943878</td>\n      <td>2795.576531</td>\n      <td>2811.408163</td>\n      <td>0.357143</td>\n      <td>1.448980</td>\n      <td>2.637755</td>\n      <td>0.0</td>\n      <td>0.505102</td>\n      <td>0.153409</td>\n      <td>150.392045</td>\n      <td>1.159091</td>\n      <td>401.562500</td>\n      <td>1541.402812</td>\n      <td>0.251214</td>\n      <td>10.011364</td>\n      <td>88.729885</td>\n      <td>0.056818</td>\n      <td>-0.019322</td>\n      <td>153.346374</td>\n      <td>22.482955</td>\n      <td>0.602273</td>\n      <td>7.460227</td>\n      <td>694.936174</td>\n      <td>0.028571</td>\n      <td>0.0</td>\n      <td>1.0</td>\n      <td>6.074534</td>\n      <td>2.729882</td>\n      <td>5.540373</td>\n      <td>0.624743</td>\n      <td>0.260870</td>\n      <td>1.761364</td>\n      <td>0.119318</td>\n      <td>1.562500</td>\n      <td>0.0</td>\n      <td>4.086957</td>\n      <td>14.724138</td>\n      <td>16.255682</td>\n      <td>-0.001113</td>\n      <td>0.090909</td>\n      <td>0.193182</td>\n      <td>8.343558</td>\n      <td>1.994318</td>\n      <td>1.625767</td>\n      <td>0.068182</td>\n      <td>1.403409</td>\n      <td>0.221591</td>\n      <td>0.068182</td>\n      <td>2.500000</td>\n      <td>0.0</td>\n      <td>0.0</td>\n      <td>15.838509</td>\n      <td>0.00000</td>\n      <td>0.086207</td>\n      <td>0.126437</td>\n      <td>0.000000</td>\n      <td>0.0</td>\n      <td>0.254658</td>\n      <td>16.372382</td>\n      <td>97.602273</td>\n      <td>37.784091</td>\n      <td>8.619318</td>\n      <td>0.477273</td>\n      <td>0.0</td>\n      <td>0.039773</td>\n      <td>3.111801</td>\n      <td>0.272727</td>\n      <td>26.250000</td>\n      <td>0.210227</td>\n      <td>24.153846</td>\n      <td>0.073864</td>\n      <td>0.193804</td>\n      <td>1.607143</td>\n      <td>0.180124</td>\n      <td>0.0</td>\n      <td>-0.742331</td>\n      <td>0.000000</td>\n      <td>5785.257862</td>\n      <td>408.017592</td>\n      <td>1.0</td>\n      <td>1.0</td>\n      <td>23.016129</td>\n      <td>6.436364</td>\n      <td>NaN</td>\n    </tr>\n    <tr>\n      <th>Mage</th>\n      <td>1030.706186</td>\n      <td>20.953608</td>\n      <td>0.293814</td>\n      <td>15422.422680</td>\n      <td>15.432990</td>\n      <td>103.582474</td>\n      <td>0.309278</td>\n      <td>945.108247</td>\n      <td>10008.324742</td>\n      <td>10.350515</td>\n      <td>0.902062</td>\n      <td>0.355670</td>\n      <td>0.041237</td>\n      <td>0.298969</td>\n      <td>0.067010</td>\n      <td>0.0</td>\n      <td>0.190722</td>\n      <td>11731.376289</td>\n      <td>10736.252577</td>\n      <td>0.123711</td>\n      <td>0.536082</td>\n      <td>1.097938</td>\n      <td>2022.865979</td>\n      <td>13.659794</td>\n      <td>1.649485</td>\n      <td>6.943299</td>\n      <td>5.489691</td>\n      <td>2.030928</td>\n      <td>1.628866</td>\n      <td>154.783505</td>\n      <td>49541.072165</td>\n      <td>22795.015464</td>\n      <td>10063.371134</td>\n      <td>0.036082</td>\n      <td>0.484536</td>\n      <td>0.175258</td>\n      <td>0.000000</td>\n      <td>2636.211340</td>\n      <td>641.041237</td>\n      <td>9616.829897</td>\n      <td>0.020619</td>\n      <td>71.134021</td>\n      <td>54.860825</td>\n      <td>45.788660</td>\n      <td>15.634021</td>\n      <td>9.860825</td>\n      <td>12.835052</td>\n      <td>3.948454</td>\n      <td>4.139175</td>\n      <td>0.0</td>\n      <td>157.216495</td>\n      <td>31.938144</td>\n      <td>1030.706186</td>\n      <td>53564.577320</td>\n      <td>24511.927835</td>\n      <td>673.381443</td>\n      <td>21056.979381</td>\n      <td>2001.551546</td>\n      <td>144.175258</td>\n      <td>30.360825</td>\n      <td>141.530928</td>\n      <td>237.690722</td>\n      <td>1.247423</td>\n      <td>0.154639</td>\n      <td>1386.463918</td>\n      <td>1075.056701</td>\n      <td>1375.840206</td>\n      <td>0.340206</td>\n      <td>1.407216</td>\n      <td>2.855670</td>\n      <td>0.0</td>\n      <td>0.402062</td>\n      <td>0.202381</td>\n      <td>185.113095</td>\n      <td>1.095238</td>\n      <td>459.375000</td>\n      <td>1701.115142</td>\n      <td>0.176959</td>\n      <td>9.821429</td>\n      <td>89.987421</td>\n      <td>0.000000</td>\n      <td>-0.006905</td>\n      <td>843.607461</td>\n      <td>22.642857</td>\n      <td>0.464286</td>\n      <td>7.160714</td>\n      <td>689.756805</td>\n      <td>0.051020</td>\n      <td>0.0</td>\n      <td>1.0</td>\n      <td>7.441558</td>\n      <td>2.865819</td>\n      <td>4.577922</td>\n      <td>0.666111</td>\n      <td>0.025974</td>\n      <td>1.517857</td>\n      <td>0.101190</td>\n      <td>2.172619</td>\n      <td>0.0</td>\n      <td>1.253247</td>\n      <td>22.283019</td>\n      <td>16.577381</td>\n      <td>-0.000226</td>\n      <td>0.071429</td>\n      <td>0.130952</td>\n      <td>7.993711</td>\n      <td>1.339286</td>\n      <td>1.496855</td>\n      <td>0.107143</td>\n      <td>1.053571</td>\n      <td>0.113095</td>\n      <td>0.404762</td>\n      <td>1.398810</td>\n      <td>0.0</td>\n      <td>0.0</td>\n      <td>17.467532</td>\n      <td>0.14881</td>\n      <td>0.125786</td>\n      <td>0.163522</td>\n      <td>0.018868</td>\n      <td>0.0</td>\n      <td>0.090909</td>\n      <td>16.065213</td>\n      <td>69.648810</td>\n      <td>49.583333</td>\n      <td>2.458333</td>\n      <td>0.500000</td>\n      <td>0.0</td>\n      <td>0.053571</td>\n      <td>0.798701</td>\n      <td>0.309524</td>\n      <td>27.571429</td>\n      <td>0.202381</td>\n      <td>25.244444</td>\n      <td>0.071429</td>\n      <td>0.222959</td>\n      <td>1.384615</td>\n      <td>0.000000</td>\n      <td>0.0</td>\n      <td>-0.711401</td>\n      <td>0.001888</td>\n      <td>6402.263804</td>\n      <td>388.656343</td>\n      <td>1.0</td>\n      <td>1.0</td>\n      <td>24.000000</td>\n      <td>6.491228</td>\n      <td>NaN</td>\n    </tr>\n    <tr>\n      <th>Marksman</th>\n      <td>1062.059289</td>\n      <td>20.177866</td>\n      <td>0.470356</td>\n      <td>16157.577075</td>\n      <td>15.723320</td>\n      <td>179.501976</td>\n      <td>0.525692</td>\n      <td>2067.873518</td>\n      <td>12665.671937</td>\n      <td>10.150198</td>\n      <td>1.664032</td>\n      <td>0.312253</td>\n      <td>0.138340</td>\n      <td>0.312253</td>\n      <td>0.094862</td>\n      <td>0.0</td>\n      <td>0.185771</td>\n      <td>13111.407115</td>\n      <td>12291.252964</td>\n      <td>0.201581</td>\n      <td>0.667984</td>\n      <td>1.015810</td>\n      <td>2052.000000</td>\n      <td>18.083004</td>\n      <td>2.494071</td>\n      <td>9.521739</td>\n      <td>409.794466</td>\n      <td>2.636364</td>\n      <td>2.071146</td>\n      <td>161.992095</td>\n      <td>10353.201581</td>\n      <td>6063.154150</td>\n      <td>11659.905138</td>\n      <td>0.075099</td>\n      <td>0.415020</td>\n      <td>0.252964</td>\n      <td>0.011858</td>\n      <td>53611.758893</td>\n      <td>20443.980237</td>\n      <td>11491.462451</td>\n      <td>0.090909</td>\n      <td>53.067194</td>\n      <td>44.154150</td>\n      <td>30.272727</td>\n      <td>14.391304</td>\n      <td>7.944664</td>\n      <td>9.217391</td>\n      <td>4.391304</td>\n      <td>4.000000</td>\n      <td>0.0</td>\n      <td>147.035573</td>\n      <td>16.806324</td>\n      <td>1062.059289</td>\n      <td>66903.043478</td>\n      <td>27964.185771</td>\n      <td>80.517787</td>\n      <td>24565.762846</td>\n      <td>2334.355731</td>\n      <td>270.616601</td>\n      <td>45.833992</td>\n      <td>111.996047</td>\n      <td>237.466403</td>\n      <td>1.766798</td>\n      <td>0.411067</td>\n      <td>2937.197628</td>\n      <td>1456.241107</td>\n      <td>1413.486166</td>\n      <td>0.616601</td>\n      <td>1.873518</td>\n      <td>2.636364</td>\n      <td>0.0</td>\n      <td>0.505929</td>\n      <td>0.169565</td>\n      <td>140.439130</td>\n      <td>1.269565</td>\n      <td>511.086957</td>\n      <td>2180.002037</td>\n      <td>0.200682</td>\n      <td>10.034783</td>\n      <td>111.009091</td>\n      <td>0.043478</td>\n      <td>0.007821</td>\n      <td>334.956305</td>\n      <td>9.730435</td>\n      <td>0.621739</td>\n      <td>7.543478</td>\n      <td>751.193588</td>\n      <td>0.027778</td>\n      <td>0.0</td>\n      <td>1.0</td>\n      <td>2.904762</td>\n      <td>3.121200</td>\n      <td>5.461905</td>\n      <td>0.701681</td>\n      <td>0.100000</td>\n      <td>2.165217</td>\n      <td>0.186957</td>\n      <td>2.669565</td>\n      <td>0.0</td>\n      <td>0.947619</td>\n      <td>22.000000</td>\n      <td>24.082609</td>\n      <td>-0.002955</td>\n      <td>0.100000</td>\n      <td>0.160870</td>\n      <td>15.580000</td>\n      <td>1.782609</td>\n      <td>1.605000</td>\n      <td>0.013043</td>\n      <td>2.252174</td>\n      <td>0.347826</td>\n      <td>0.104348</td>\n      <td>2.086957</td>\n      <td>0.0</td>\n      <td>0.0</td>\n      <td>16.666667</td>\n      <td>0.00000</td>\n      <td>0.031818</td>\n      <td>0.136364</td>\n      <td>0.013636</td>\n      <td>0.0</td>\n      <td>0.066667</td>\n      <td>16.777258</td>\n      <td>77.652174</td>\n      <td>55.860870</td>\n      <td>1.147826</td>\n      <td>0.500000</td>\n      <td>0.0</td>\n      <td>0.069565</td>\n      <td>1.419048</td>\n      <td>0.326087</td>\n      <td>29.547826</td>\n      <td>0.321739</td>\n      <td>31.060241</td>\n      <td>0.078261</td>\n      <td>0.242160</td>\n      <td>1.479167</td>\n      <td>0.000000</td>\n      <td>0.0</td>\n      <td>-0.305833</td>\n      <td>0.022398</td>\n      <td>6337.418848</td>\n      <td>391.673239</td>\n      <td>1.0</td>\n      <td>1.0</td>\n      <td>23.870748</td>\n      <td>6.476190</td>\n      <td>666.371412</td>\n    </tr>\n    <tr>\n      <th>Support</th>\n      <td>1028.552000</td>\n      <td>25.616000</td>\n      <td>0.304000</td>\n      <td>15542.680000</td>\n      <td>15.424000</td>\n      <td>302.312000</td>\n      <td>0.400000</td>\n      <td>881.096000</td>\n      <td>34867.080000</td>\n      <td>8.080000</td>\n      <td>0.360000</td>\n      <td>0.424000</td>\n      <td>0.048000</td>\n      <td>0.272000</td>\n      <td>0.064000</td>\n      <td>0.0</td>\n      <td>0.200000</td>\n      <td>10929.672000</td>\n      <td>9918.200000</td>\n      <td>0.120000</td>\n      <td>0.864000</td>\n      <td>0.920000</td>\n      <td>2052.000000</td>\n      <td>15.328000</td>\n      <td>0.936000</td>\n      <td>4.240000</td>\n      <td>19.816000</td>\n      <td>1.280000</td>\n      <td>1.240000</td>\n      <td>187.936000</td>\n      <td>17449.784000</td>\n      <td>10040.848000</td>\n      <td>12079.648000</td>\n      <td>0.032000</td>\n      <td>0.424000</td>\n      <td>0.280000</td>\n      <td>0.008000</td>\n      <td>6000.544000</td>\n      <td>2460.176000</td>\n      <td>14024.032000</td>\n      <td>0.016000</td>\n      <td>57.160000</td>\n      <td>37.448000</td>\n      <td>39.360000</td>\n      <td>12.672000</td>\n      <td>12.168000</td>\n      <td>14.976000</td>\n      <td>3.672000</td>\n      <td>4.144000</td>\n      <td>0.0</td>\n      <td>146.400000</td>\n      <td>35.088000</td>\n      <td>1028.552000</td>\n      <td>24668.480000</td>\n      <td>13436.192000</td>\n      <td>3921.784000</td>\n      <td>28292.640000</td>\n      <td>6793.096000</td>\n      <td>1656.864000</td>\n      <td>12.480000</td>\n      <td>237.576000</td>\n      <td>187.864000</td>\n      <td>3.864000</td>\n      <td>0.064000</td>\n      <td>1217.408000</td>\n      <td>934.400000</td>\n      <td>2188.064000</td>\n      <td>0.376000</td>\n      <td>2.008000</td>\n      <td>2.536000</td>\n      <td>0.0</td>\n      <td>0.504000</td>\n      <td>0.862385</td>\n      <td>141.458716</td>\n      <td>1.220183</td>\n      <td>276.834862</td>\n      <td>990.904110</td>\n      <td>0.228832</td>\n      <td>7.963303</td>\n      <td>114.990826</td>\n      <td>0.000000</td>\n      <td>-0.024174</td>\n      <td>5192.311791</td>\n      <td>32.394495</td>\n      <td>0.614679</td>\n      <td>9.211009</td>\n      <td>643.433024</td>\n      <td>0.000000</td>\n      <td>0.0</td>\n      <td>NaN</td>\n      <td>8.834951</td>\n      <td>3.919311</td>\n      <td>4.223301</td>\n      <td>0.749659</td>\n      <td>0.097087</td>\n      <td>1.073394</td>\n      <td>0.100917</td>\n      <td>0.990826</td>\n      <td>0.0</td>\n      <td>3.106796</td>\n      <td>23.541284</td>\n      <td>6.844037</td>\n      <td>-0.032701</td>\n      <td>0.055046</td>\n      <td>0.183486</td>\n      <td>1.792079</td>\n      <td>1.834862</td>\n      <td>1.603960</td>\n      <td>0.000000</td>\n      <td>0.467890</td>\n      <td>0.045872</td>\n      <td>0.073394</td>\n      <td>1.091743</td>\n      <td>0.0</td>\n      <td>0.0</td>\n      <td>17.737864</td>\n      <td>0.00000</td>\n      <td>0.082569</td>\n      <td>0.165138</td>\n      <td>0.000000</td>\n      <td>0.0</td>\n      <td>2.223301</td>\n      <td>16.895806</td>\n      <td>123.027523</td>\n      <td>60.055046</td>\n      <td>4.000000</td>\n      <td>0.211009</td>\n      <td>0.0</td>\n      <td>0.100917</td>\n      <td>3.805825</td>\n      <td>0.403670</td>\n      <td>29.458716</td>\n      <td>0.137615</td>\n      <td>27.846154</td>\n      <td>0.045872</td>\n      <td>0.123521</td>\n      <td>3.107143</td>\n      <td>0.223301</td>\n      <td>0.0</td>\n      <td>-0.653465</td>\n      <td>0.000000</td>\n      <td>5033.759615</td>\n      <td>397.789735</td>\n      <td>1.0</td>\n      <td>1.0</td>\n      <td>25.042857</td>\n      <td>7.307692</td>\n      <td>NaN</td>\n    </tr>\n    <tr>\n      <th>Tank</th>\n      <td>1057.375000</td>\n      <td>23.976190</td>\n      <td>0.267857</td>\n      <td>16005.458333</td>\n      <td>15.761905</td>\n      <td>67.017857</td>\n      <td>0.226190</td>\n      <td>611.559524</td>\n      <td>37896.779762</td>\n      <td>9.446429</td>\n      <td>0.470238</td>\n      <td>0.440476</td>\n      <td>0.053571</td>\n      <td>0.339286</td>\n      <td>0.029762</td>\n      <td>0.0</td>\n      <td>0.208333</td>\n      <td>11336.380952</td>\n      <td>10610.976190</td>\n      <td>0.113095</td>\n      <td>0.696429</td>\n      <td>0.875000</td>\n      <td>2039.785714</td>\n      <td>16.339286</td>\n      <td>0.976190</td>\n      <td>4.690476</td>\n      <td>3.059524</td>\n      <td>1.309524</td>\n      <td>1.339286</td>\n      <td>167.642857</td>\n      <td>29641.601190</td>\n      <td>13008.101190</td>\n      <td>12493.636905</td>\n      <td>0.041667</td>\n      <td>0.380952</td>\n      <td>0.238095</td>\n      <td>0.000000</td>\n      <td>5452.875000</td>\n      <td>2336.017857</td>\n      <td>17245.452381</td>\n      <td>0.000000</td>\n      <td>40.744048</td>\n      <td>30.232143</td>\n      <td>31.130952</td>\n      <td>8.351190</td>\n      <td>20.553571</td>\n      <td>25.523810</td>\n      <td>4.482143</td>\n      <td>4.416667</td>\n      <td>0.0</td>\n      <td>154.166667</td>\n      <td>50.345238</td>\n      <td>1057.375000</td>\n      <td>37659.940476</td>\n      <td>16920.077381</td>\n      <td>380.279762</td>\n      <td>32726.690476</td>\n      <td>5048.250000</td>\n      <td>870.589286</td>\n      <td>22.916667</td>\n      <td>288.863095</td>\n      <td>213.136905</td>\n      <td>2.773810</td>\n      <td>0.047619</td>\n      <td>2564.589286</td>\n      <td>1575.172619</td>\n      <td>2986.625000</td>\n      <td>0.178571</td>\n      <td>1.511905</td>\n      <td>2.446429</td>\n      <td>0.0</td>\n      <td>0.553571</td>\n      <td>0.569536</td>\n      <td>109.708609</td>\n      <td>1.304636</td>\n      <td>267.384106</td>\n      <td>1274.740002</td>\n      <td>0.254299</td>\n      <td>9.218543</td>\n      <td>114.270833</td>\n      <td>0.000000</td>\n      <td>-0.020004</td>\n      <td>1138.181833</td>\n      <td>50.437086</td>\n      <td>0.715232</td>\n      <td>8.443709</td>\n      <td>648.385836</td>\n      <td>0.036145</td>\n      <td>0.0</td>\n      <td>1.0</td>\n      <td>12.270073</td>\n      <td>3.221604</td>\n      <td>4.824818</td>\n      <td>0.682357</td>\n      <td>0.131387</td>\n      <td>1.033113</td>\n      <td>0.066225</td>\n      <td>0.980132</td>\n      <td>0.0</td>\n      <td>6.912409</td>\n      <td>13.583333</td>\n      <td>10.827815</td>\n      <td>-0.021413</td>\n      <td>0.019868</td>\n      <td>0.152318</td>\n      <td>5.262774</td>\n      <td>1.973510</td>\n      <td>1.525547</td>\n      <td>0.006623</td>\n      <td>0.503311</td>\n      <td>0.033113</td>\n      <td>0.145695</td>\n      <td>1.397351</td>\n      <td>0.0</td>\n      <td>0.0</td>\n      <td>16.649635</td>\n      <td>0.07947</td>\n      <td>0.097222</td>\n      <td>0.111111</td>\n      <td>0.006944</td>\n      <td>0.0</td>\n      <td>2.109489</td>\n      <td>15.582255</td>\n      <td>135.695364</td>\n      <td>40.238411</td>\n      <td>7.973510</td>\n      <td>0.238411</td>\n      <td>0.0</td>\n      <td>0.066225</td>\n      <td>3.109489</td>\n      <td>0.291391</td>\n      <td>28.443709</td>\n      <td>0.158940</td>\n      <td>26.903846</td>\n      <td>0.019868</td>\n      <td>0.151590</td>\n      <td>2.441176</td>\n      <td>0.145985</td>\n      <td>0.0</td>\n      <td>-0.700730</td>\n      <td>0.000000</td>\n      <td>4301.983333</td>\n      <td>402.841275</td>\n      <td>1.0</td>\n      <td>1.0</td>\n      <td>24.353535</td>\n      <td>7.877193</td>\n      <td>NaN</td>\n    </tr>\n  </tbody>\n</table>\n</div>"
     },
     "execution_count": 335,
     "metadata": {},
     "output_type": "execute_result"
    }
   ],
   "source": [
    "# px.pie(dist, values=\"win\", names=\"role\")\n",
    "\n",
    "avg = avg.set_index(\"role\")\n",
    "avg"
   ],
   "metadata": {
    "collapsed": false,
    "pycharm": {
     "name": "#%%\n"
    }
   }
  },
  {
   "cell_type": "code",
   "execution_count": 336,
   "outputs": [
    {
     "data": {
      "text/plain": "role\nAssassin    0.226273\nFighter     0.193804\nMage        0.222959\nMarksman    0.242160\nSupport     0.123521\nTank        0.151590\nName: teamDamagePercentage, dtype: float64"
     },
     "execution_count": 336,
     "metadata": {},
     "output_type": "execute_result"
    }
   ],
   "source": [
    "avg.teamDamagePercentage"
   ],
   "metadata": {
    "collapsed": false,
    "pycharm": {
     "name": "#%%\n"
    }
   }
  },
  {
   "cell_type": "code",
   "execution_count": 337,
   "outputs": [
    {
     "data": {
      "text/plain": "           championName gameVersion       kda  pentaKills  \\\n4429133676      Kindred    [12, 16]  8.250000           1   \n4329861358       Samira    [12, 10]  3.555556           1   \n4294332277       Samira     [12, 8]  3.071429           1   \n4250542018    TahmKench     [12, 5]  3.555556           1   \n\n            teamDamagePercentage  \n4429133676              0.361086  \n4329861358              0.348440  \n4294332277              0.275742  \n4250542018              0.224974  ",
      "text/html": "<div>\n<style scoped>\n    .dataframe tbody tr th:only-of-type {\n        vertical-align: middle;\n    }\n\n    .dataframe tbody tr th {\n        vertical-align: top;\n    }\n\n    .dataframe thead th {\n        text-align: right;\n    }\n</style>\n<table border=\"1\" class=\"dataframe\">\n  <thead>\n    <tr style=\"text-align: right;\">\n      <th></th>\n      <th>championName</th>\n      <th>gameVersion</th>\n      <th>kda</th>\n      <th>pentaKills</th>\n      <th>teamDamagePercentage</th>\n    </tr>\n  </thead>\n  <tbody>\n    <tr>\n      <th>4429133676</th>\n      <td>Kindred</td>\n      <td>[12, 16]</td>\n      <td>8.250000</td>\n      <td>1</td>\n      <td>0.361086</td>\n    </tr>\n    <tr>\n      <th>4329861358</th>\n      <td>Samira</td>\n      <td>[12, 10]</td>\n      <td>3.555556</td>\n      <td>1</td>\n      <td>0.348440</td>\n    </tr>\n    <tr>\n      <th>4294332277</th>\n      <td>Samira</td>\n      <td>[12, 8]</td>\n      <td>3.071429</td>\n      <td>1</td>\n      <td>0.275742</td>\n    </tr>\n    <tr>\n      <th>4250542018</th>\n      <td>TahmKench</td>\n      <td>[12, 5]</td>\n      <td>3.555556</td>\n      <td>1</td>\n      <td>0.224974</td>\n    </tr>\n  </tbody>\n</table>\n</div>"
     },
     "execution_count": 337,
     "metadata": {},
     "output_type": "execute_result"
    }
   ],
   "source": [
    "df[df.pentaKills>0][[\"championName\",\"gameVersion\",\"kda\",\"pentaKills\",\"teamDamagePercentage\"]]\n"
   ],
   "metadata": {
    "collapsed": false,
    "pycharm": {
     "name": "#%%\n"
    }
   }
  },
  {
   "cell_type": "code",
   "execution_count": 338,
   "outputs": [
    {
     "data": {
      "text/plain": "win           Win\nmaj min          \n11  14   60.0% 12\n    15   52.3% 69\n    16   45.8% 22\n    17   29.3% 12\n    18   47.1% 16\n    19   58.3% 28\n    20   52.4% 33\n    22   56.2% 18\n    23   59.2% 45\n    24   50.4% 62\n12  1    50.0% 37\n    2    44.8% 13\n    3    46.4% 13\n    4    44.2% 19\n    5    52.1% 49\n    6    52.8% 38\n    7    52.1% 25\n    8    49.2% 29\n    9    43.8% 32\n    10   63.0% 17\n    11   48.6% 36\n    12   40.7% 35\n    14   38.5% 10\n    15   61.8% 42\n    16   54.2% 39\n    17   44.8% 30\n    18   41.9% 13",
      "text/html": "<div>\n<style scoped>\n    .dataframe tbody tr th:only-of-type {\n        vertical-align: middle;\n    }\n\n    .dataframe tbody tr th {\n        vertical-align: top;\n    }\n\n    .dataframe thead th {\n        text-align: right;\n    }\n</style>\n<table border=\"1\" class=\"dataframe\">\n  <thead>\n    <tr style=\"text-align: right;\">\n      <th></th>\n      <th>win</th>\n      <th>Win</th>\n    </tr>\n    <tr>\n      <th>maj</th>\n      <th>min</th>\n      <th></th>\n    </tr>\n  </thead>\n  <tbody>\n    <tr>\n      <th rowspan=\"10\" valign=\"top\">11</th>\n      <th>14</th>\n      <td>60.0% 12</td>\n    </tr>\n    <tr>\n      <th>15</th>\n      <td>52.3% 69</td>\n    </tr>\n    <tr>\n      <th>16</th>\n      <td>45.8% 22</td>\n    </tr>\n    <tr>\n      <th>17</th>\n      <td>29.3% 12</td>\n    </tr>\n    <tr>\n      <th>18</th>\n      <td>47.1% 16</td>\n    </tr>\n    <tr>\n      <th>19</th>\n      <td>58.3% 28</td>\n    </tr>\n    <tr>\n      <th>20</th>\n      <td>52.4% 33</td>\n    </tr>\n    <tr>\n      <th>22</th>\n      <td>56.2% 18</td>\n    </tr>\n    <tr>\n      <th>23</th>\n      <td>59.2% 45</td>\n    </tr>\n    <tr>\n      <th>24</th>\n      <td>50.4% 62</td>\n    </tr>\n    <tr>\n      <th rowspan=\"17\" valign=\"top\">12</th>\n      <th>1</th>\n      <td>50.0% 37</td>\n    </tr>\n    <tr>\n      <th>2</th>\n      <td>44.8% 13</td>\n    </tr>\n    <tr>\n      <th>3</th>\n      <td>46.4% 13</td>\n    </tr>\n    <tr>\n      <th>4</th>\n      <td>44.2% 19</td>\n    </tr>\n    <tr>\n      <th>5</th>\n      <td>52.1% 49</td>\n    </tr>\n    <tr>\n      <th>6</th>\n      <td>52.8% 38</td>\n    </tr>\n    <tr>\n      <th>7</th>\n      <td>52.1% 25</td>\n    </tr>\n    <tr>\n      <th>8</th>\n      <td>49.2% 29</td>\n    </tr>\n    <tr>\n      <th>9</th>\n      <td>43.8% 32</td>\n    </tr>\n    <tr>\n      <th>10</th>\n      <td>63.0% 17</td>\n    </tr>\n    <tr>\n      <th>11</th>\n      <td>48.6% 36</td>\n    </tr>\n    <tr>\n      <th>12</th>\n      <td>40.7% 35</td>\n    </tr>\n    <tr>\n      <th>14</th>\n      <td>38.5% 10</td>\n    </tr>\n    <tr>\n      <th>15</th>\n      <td>61.8% 42</td>\n    </tr>\n    <tr>\n      <th>16</th>\n      <td>54.2% 39</td>\n    </tr>\n    <tr>\n      <th>17</th>\n      <td>44.8% 30</td>\n    </tr>\n    <tr>\n      <th>18</th>\n      <td>41.9% 13</td>\n    </tr>\n  </tbody>\n</table>\n</div>"
     },
     "execution_count": 338,
     "metadata": {},
     "output_type": "execute_result"
    }
   ],
   "source": [
    "all[\"maj\"] =  all.gameVersion.apply(lambda x: int(x[0]))\n",
    "all[\"min\"] =  all.gameVersion.apply(lambda x: int(x[1]))\n",
    "\n",
    "pp = pd.DataFrame(all.groupby([\"maj\",\"min\"]).apply(lambda x: wr(x, False)))\n",
    "show = pp[pp.apply(lambda x: int(x.Win[x.Win.find(\" \"):]) + int(x.Loss[x.Loss.find(\" \"):]) >= 10, axis=1)]\n",
    "all.drop([\"maj\",\"min\"], axis=1, inplace=True)\n",
    "show.drop(\"Loss\", axis=1)\n"
   ],
   "metadata": {
    "collapsed": false,
    "pycharm": {
     "name": "#%%\n"
    }
   }
  },
  {
   "cell_type": "code",
   "execution_count": 338,
   "outputs": [],
   "source": [],
   "metadata": {
    "collapsed": false,
    "pycharm": {
     "name": "#%%\n"
    }
   }
  },
  {
   "cell_type": "code",
   "execution_count": 338,
   "outputs": [],
   "source": [
    "\n"
   ],
   "metadata": {
    "collapsed": false,
    "pycharm": {
     "name": "#%%\n"
    }
   }
  },
  {
   "cell_type": "code",
   "execution_count": 339,
   "outputs": [
    {
     "data": {
      "text/plain": "'11 days, 20:29:56'"
     },
     "execution_count": 339,
     "metadata": {},
     "output_type": "execute_result"
    }
   ],
   "source": [
    "str(timedelta(seconds=int(round(df.gameDuration.sum()))))\n"
   ],
   "metadata": {
    "collapsed": false,
    "pycharm": {
     "name": "#%%\n"
    }
   }
  },
  {
   "cell_type": "code",
   "execution_count": 340,
   "outputs": [
    {
     "data": {
      "text/plain": "Red     50.1%\nBlue    49.9%\nName: teamId, dtype: object"
     },
     "execution_count": 340,
     "metadata": {},
     "output_type": "execute_result"
    }
   ],
   "source": [
    "df.teamId.value_counts(normalize=True).mul(100).round(1).apply(lambda x: str(x) + \"%\").rename({100:\"Blue\", 200:\"Red\"})"
   ],
   "metadata": {
    "collapsed": false,
    "pycharm": {
     "name": "#%%\n"
    }
   }
  },
  {
   "cell_type": "code",
   "execution_count": 341,
   "outputs": [
    {
     "data": {
      "text/plain": "teamId\nBlue    50.0% 244\nRed     48.5% 237\ndtype: object"
     },
     "execution_count": 341,
     "metadata": {},
     "output_type": "execute_result"
    }
   ],
   "source": [
    "df.groupby(\"teamId\").apply(lambda x: wr(x, just_win=True)).rename({100:\"Blue\", 200:\"Red\"})"
   ],
   "metadata": {
    "collapsed": false,
    "pycharm": {
     "name": "#%%\n"
    }
   }
  },
  {
   "cell_type": "code",
   "execution_count": 341,
   "outputs": [],
   "source": [],
   "metadata": {
    "collapsed": false,
    "pycharm": {
     "name": "#%%\n"
    }
   }
  },
  {
   "cell_type": "code",
   "execution_count": 342,
   "outputs": [],
   "source": [
    "# df[df.teamnames.apply(lambda x: \"\" in x)]\n",
    "# df[df.enemynames.apply(lambda x: \"DannyK\" in x)]"
   ],
   "metadata": {
    "collapsed": false,
    "pycharm": {
     "name": "#%%\n"
    }
   }
  },
  {
   "cell_type": "code",
   "execution_count": 343,
   "outputs": [
    {
     "data": {
      "text/plain": "gameDuration                                          1045\ngameStartTimestamp        2022-06-13 22:02:43.767000-07:00\ngameVersion                                       [12, 11]\nassists                                                  9\nbountyLevel                                              0\n                                        ...               \ntakedownsFirstXMinutes                                  12\nbasicPings                                             NaN\nfastestLegendary                                       NaN\nitems                       [2051, 6662, 4637, 1001, 3116]\nrole                                               Fighter\nName: 4342052293, Length: 159, dtype: object"
     },
     "execution_count": 343,
     "metadata": {},
     "output_type": "execute_result"
    }
   ],
   "source": [
    "df.iloc[400]\n",
    "\n",
    "# win_rate(data)\n",
    "# champ_winrate(data)\n",
    "# champ_kda(robb, Aram_Data)\n",
    "# kda(Aram_Data)\n",
    "# kp(Aram_Data)\n",
    "# common_teammates(Aram_Data)\n",
    "# multikills(Aram_Data)\n",
    "# items(Aram_Data)\n",
    "# adc_winrate(data)\n",
    "# time_played(Aram_Data)\n",
    "# win_rate_with(thomas, Aram_Data)\n",
    "# time_distribution(robb, data)\n"
   ],
   "metadata": {
    "collapsed": false,
    "pycharm": {
     "name": "#%%\n"
    }
   }
  },
  {
   "cell_type": "code",
   "execution_count": 344,
   "outputs": [
    {
     "name": "stdout",
     "output_type": "stream",
     "text": [
      "LEGACY DATA LOADED 3375\n"
     ]
    }
   ],
   "source": [
    "old = league_data.load_legacy_data(query)\n",
    "old.sort_values(\"creation\", inplace=True)\n",
    "old.set_index(\"id\", inplace=True, drop=True)\n",
    "old.index.names = [None]\n",
    "old.drop(np.intersect1d(all.index, old.index), inplace=True)\n",
    "# old = old.loc[np.intersect1d(all.index, old.index)]\n"
   ],
   "metadata": {
    "collapsed": false,
    "pycharm": {
     "name": "#%%\n"
    }
   }
  },
  {
   "cell_type": "code",
   "execution_count": 345,
   "outputs": [],
   "source": [
    "old[\"timePlayed\"] = old.duration.apply(lambda x: x.seconds)\n",
    "old[\"gameVersion\"] = old.patch.apply(lambda x: str(x).split(\".\"))\n",
    "old[\"gameStartTimestamp\"] = old.creation.apply(lambda x: x.to(\"US/Pacific\").datetime)\n",
    "old[\"teamId\"] = old.side.apply(lambda x: 100 if x == 0 else 200)\n",
    "old[\"win\"] = old.summoner.apply(lambda x: bool(int(x.stats.win)))\n",
    "old[\"assists\"] = old.summoner.apply(lambda x: x.stats.assists)\n",
    "old[\"champLevel\"] = old.summoner.apply(lambda x: x.stats.level)\n",
    "old[\"championName\"] = old.summoner.apply(lambda x: x.champion)\n",
    "old[\"championId\"] = old.summoner.apply(lambda x: champ_name_to_id[x.champion])\n",
    "old[\"damageDealtToTurrets\"] = old.summoner.apply(lambda x: x.stats.damage_dealt_to_turrets)\n",
    "old[\"damageSelfMitigated\"] = old.summoner.apply(lambda x: x.stats.damage_self_mitigated)\n",
    "old[\"deaths\"] = old.summoner.apply(lambda x: x.stats.deaths)\n",
    "old[\"firstBloodAssist\"] = old.summoner.apply(lambda x: x.stats.first_blood_assist)\n",
    "old[\"firstBloodKill\"] = old.summoner.apply(lambda x: x.stats.first_blood_kill)\n",
    "old[\"firstTowerAssist\"] = old.summoner.apply(lambda x: x.stats.first_tower_assist)\n",
    "old[\"firstTowerKill\"] = old.summoner.apply(lambda x: x.stats.first_tower_kill)\n",
    "old[\"goldEarned\"] = old.summoner.apply(lambda x: x.stats.gold_earned)\n",
    "old[\"goldSpent\"] = old.summoner.apply(lambda x: x.stats.gold_spent)\n",
    "old[\"inhibitorKills\"] = old.summoner.apply(lambda x: x.stats.inhibitor_kills)\n",
    "old[\"pentaKills\"] = old.summoner.apply(lambda x: x.stats.penta_kills)\n",
    "old[\"quardraKills\"] = old.summoner.apply(lambda x: x.stats.quadra_kills)\n",
    "old[\"tripleKills\"] = old.summoner.apply(lambda x: x.stats.triple_kills)\n",
    "old[\"doubleKills\"] = old.summoner.apply(lambda x: x.stats.double_kills)\n",
    "old[\"physicalDamageDealt\"] = old.summoner.apply(lambda x: x.stats.physical_damage_dealt)\n",
    "old[\"physicalDamageDealtToChampions\"] = old.summoner.apply(lambda x: x.stats.physical_damage_dealt_to_champions)\n",
    "old[\"physicalDamageTaken\"] = old.summoner.apply(lambda x: x.stats.physical_damage_taken)\n",
    "old[\"magicDamageDealt\"] = old.summoner.apply(lambda x: x.stats.magic_damage_dealt)\n",
    "old[\"magicDamageDealtToChampions\"] = old.summoner.apply(lambda x: x.stats.magic_damage_dealt_to_champions)\n",
    "old[\"magicalDamageTaken\"] = old.summoner.apply(lambda x: x.stats.magical_damage_taken)\n",
    "\n",
    "old[\"timeCCingOthers\"] = old.summoner.apply(lambda x: x.stats.time_CCing_others)\n",
    "old[\"totalDamageDealt\"] = old.summoner.apply(lambda x: x.stats.total_damage_dealt)\n",
    "old[\"totalDamageDealtToChampions\"] = old.summoner.apply(lambda x: x.stats.total_damage_dealt_to_champions)\n",
    "old[\"totalDamageTaken\"] = old.summoner.apply(lambda x: x.stats.total_damage_taken)\n",
    "old[\"totalHeal\"] = old.summoner.apply(lambda x: x.stats.total_heal)\n",
    "old[\"kills\"] = old.summoner.apply(lambda x: x.stats.kills)\n",
    "old[\"trueDamageDealt\"] = old.summoner.apply(lambda x: x.stats.true_damage_dealt)\n",
    "old[\"trueDamageDealtToChampions\"] = old.summoner.apply(lambda x: x.stats.true_damage_dealt_to_champions)\n",
    "old[\"trueDamageTaken\"] = old.summoner.apply(lambda x: x.stats.true_damage_taken)\n",
    "old[\"killingSprees\"] = old.summoner.apply(lambda x: x.stats.killing_sprees)\n",
    "old[\"turretKills\"] = old.summoner.apply(lambda x: x.stats.turret_kills)\n",
    "old[\"bountyLevel\"] = old.summoner.apply(lambda x: x.stats.largest_killing_spree)\n",
    "old[\"items\"] = old.summoner.apply(lambda x: pd.Series(x.stats.items).apply(lambda l: l.id if l else None).dropna().tolist())\n",
    "\n",
    "# old[\"bountyLevel\"] = old.summoner.apply(lambda x: x.stats.largest_killing_spree)\n",
    "# old[\"bountyLevel\"] = old.summoner.apply(lambda x: x.stats.largest_killing_spree)\n",
    "# old[\"bountyLevel\"] = old.summoner.apply(lambda x: x.stats.largest_killing_spree)"
   ],
   "metadata": {
    "collapsed": false,
    "pycharm": {
     "name": "#%%\n"
    }
   }
  },
  {
   "cell_type": "code",
   "execution_count": 346,
   "outputs": [
    {
     "data": {
      "text/plain": "                  duration patch                          creation surrender  \\\n3095347699 0 days 00:18:02  9.13  2019-07-15T22:00:43.202000+00:00     False   \n\n                                                         blue  \\\n3095347699  [(MzrSunDay, Kennen), (Sakuranna, Xerath), (Sh...   \n\n                                                          red  \\\n3095347699  [(Dirty Doughnut, Thresh), (Frog69music, Camil...   \n\n                                                     summoner side  \\\n3095347699  summoner_spell_d: Mark\\nsummoner_spell_f: Flas...    1   \n\n            timePlayed gameVersion               gameStartTimestamp  teamId  \\\n3095347699        1082     [9, 13] 2019-07-15 15:00:43.202000-07:00     200   \n\n              win  assists  champLevel championName  championId  \\\n3095347699  False       17          15       Thresh         412   \n\n            damageDealtToTurrets  damageSelfMitigated  deaths  \\\n3095347699                    44                20867       8   \n\n            firstBloodAssist  firstBloodKill firstTowerAssist firstTowerKill  \\\n3095347699             False            True            False          False   \n\n            goldEarned  goldSpent  inhibitorKills  pentaKills  quardraKills  \\\n3095347699        9730       9200               0           0             0   \n\n            tripleKills  doubleKills  physicalDamageDealt  \\\n3095347699            0            0                 6009   \n\n            physicalDamageDealtToChampions  physicalDamageTaken  \\\n3095347699                            1796                 7877   \n\n            magicDamageDealt  magicDamageDealtToChampions  magicalDamageTaken  \\\n3095347699             17261                         9218               13351   \n\n            timeCCingOthers  totalDamageDealt  totalDamageDealtToChampions  \\\n3095347699               44             26900                        11324   \n\n            totalDamageTaken  totalHeal  kills  trueDamageDealt  \\\n3095347699             22349       2726      3             3629   \n\n            trueDamageDealtToChampions  trueDamageTaken  killingSprees  \\\n3095347699                         309             1119              0   \n\n            turretKills  bountyLevel                                     items  \n3095347699            0            0  [3111.0, 3109.0, 3001.0, 3742.0, 2052.0]  ",
      "text/html": "<div>\n<style scoped>\n    .dataframe tbody tr th:only-of-type {\n        vertical-align: middle;\n    }\n\n    .dataframe tbody tr th {\n        vertical-align: top;\n    }\n\n    .dataframe thead th {\n        text-align: right;\n    }\n</style>\n<table border=\"1\" class=\"dataframe\">\n  <thead>\n    <tr style=\"text-align: right;\">\n      <th></th>\n      <th>duration</th>\n      <th>patch</th>\n      <th>creation</th>\n      <th>surrender</th>\n      <th>blue</th>\n      <th>red</th>\n      <th>summoner</th>\n      <th>side</th>\n      <th>timePlayed</th>\n      <th>gameVersion</th>\n      <th>gameStartTimestamp</th>\n      <th>teamId</th>\n      <th>win</th>\n      <th>assists</th>\n      <th>champLevel</th>\n      <th>championName</th>\n      <th>championId</th>\n      <th>damageDealtToTurrets</th>\n      <th>damageSelfMitigated</th>\n      <th>deaths</th>\n      <th>firstBloodAssist</th>\n      <th>firstBloodKill</th>\n      <th>firstTowerAssist</th>\n      <th>firstTowerKill</th>\n      <th>goldEarned</th>\n      <th>goldSpent</th>\n      <th>inhibitorKills</th>\n      <th>pentaKills</th>\n      <th>quardraKills</th>\n      <th>tripleKills</th>\n      <th>doubleKills</th>\n      <th>physicalDamageDealt</th>\n      <th>physicalDamageDealtToChampions</th>\n      <th>physicalDamageTaken</th>\n      <th>magicDamageDealt</th>\n      <th>magicDamageDealtToChampions</th>\n      <th>magicalDamageTaken</th>\n      <th>timeCCingOthers</th>\n      <th>totalDamageDealt</th>\n      <th>totalDamageDealtToChampions</th>\n      <th>totalDamageTaken</th>\n      <th>totalHeal</th>\n      <th>kills</th>\n      <th>trueDamageDealt</th>\n      <th>trueDamageDealtToChampions</th>\n      <th>trueDamageTaken</th>\n      <th>killingSprees</th>\n      <th>turretKills</th>\n      <th>bountyLevel</th>\n      <th>items</th>\n    </tr>\n  </thead>\n  <tbody>\n    <tr>\n      <th>3095347699</th>\n      <td>0 days 00:18:02</td>\n      <td>9.13</td>\n      <td>2019-07-15T22:00:43.202000+00:00</td>\n      <td>False</td>\n      <td>[(MzrSunDay, Kennen), (Sakuranna, Xerath), (Sh...</td>\n      <td>[(Dirty Doughnut, Thresh), (Frog69music, Camil...</td>\n      <td>summoner_spell_d: Mark\\nsummoner_spell_f: Flas...</td>\n      <td>1</td>\n      <td>1082</td>\n      <td>[9, 13]</td>\n      <td>2019-07-15 15:00:43.202000-07:00</td>\n      <td>200</td>\n      <td>False</td>\n      <td>17</td>\n      <td>15</td>\n      <td>Thresh</td>\n      <td>412</td>\n      <td>44</td>\n      <td>20867</td>\n      <td>8</td>\n      <td>False</td>\n      <td>True</td>\n      <td>False</td>\n      <td>False</td>\n      <td>9730</td>\n      <td>9200</td>\n      <td>0</td>\n      <td>0</td>\n      <td>0</td>\n      <td>0</td>\n      <td>0</td>\n      <td>6009</td>\n      <td>1796</td>\n      <td>7877</td>\n      <td>17261</td>\n      <td>9218</td>\n      <td>13351</td>\n      <td>44</td>\n      <td>26900</td>\n      <td>11324</td>\n      <td>22349</td>\n      <td>2726</td>\n      <td>3</td>\n      <td>3629</td>\n      <td>309</td>\n      <td>1119</td>\n      <td>0</td>\n      <td>0</td>\n      <td>0</td>\n      <td>[3111.0, 3109.0, 3001.0, 3742.0, 2052.0]</td>\n    </tr>\n  </tbody>\n</table>\n</div>"
     },
     "execution_count": 346,
     "metadata": {},
     "output_type": "execute_result"
    }
   ],
   "source": [
    "# old = old.drop([\"duration\", \"patch\",\"creation\",\"side\", \"surrender\"], axis=1)\n",
    "old.head(1)"
   ],
   "metadata": {
    "collapsed": false,
    "pycharm": {
     "name": "#%%\n"
    }
   }
  },
  {
   "cell_type": "code",
   "execution_count": 347,
   "outputs": [],
   "source": [
    "# wr(df[df.teamDamagePercentage> 0.4])\n",
    "# df[df.teamDamagePercentage> 0.5]"
   ],
   "metadata": {
    "collapsed": false,
    "pycharm": {
     "name": "#%%\n"
    }
   }
  },
  {
   "cell_type": "code",
   "execution_count": 348,
   "outputs": [],
   "source": [
    "all_old = all.append(old)\n",
    "all_old.sort_values(\"gameStartTimestamp\", ascending=False, inplace=True)"
   ],
   "metadata": {
    "collapsed": false,
    "pycharm": {
     "name": "#%%\n"
    }
   }
  },
  {
   "cell_type": "code",
   "execution_count": 349,
   "outputs": [
    {
     "name": "stderr",
     "output_type": "stream",
     "text": [
      "/Library/Frameworks/Python.framework/Versions/3.8/lib/python3.8/site-packages/seaborn/_decorators.py:36: FutureWarning:\n",
      "\n",
      "Pass the following variable as a keyword arg: x. From version 0.12, the only valid positional argument will be `data`, and passing other arguments without an explicit keyword will result in an error or misinterpretation.\n",
      "\n"
     ]
    },
    {
     "data": {
      "text/plain": "<AxesSubplot:xlabel='gameStartTimestamp', ylabel='count'>"
     },
     "execution_count": 349,
     "metadata": {},
     "output_type": "execute_result"
    },
    {
     "data": {
      "text/plain": "<Figure size 432x288 with 1 Axes>",
      "image/png": "[encoded data removed]"
     },
     "metadata": {
      "needs_background": "light"
     },
     "output_type": "display_data"
    }
   ],
   "source": [
    "\n",
    "dates = all.gameStartTimestamp.apply(pd.Timestamp.to_pydatetime)\n",
    "dates = dates.apply(lambda x: x.strftime('%-m-%y'))\n",
    "# pd.DatetimeIndex(df.gameStartTimestamp).year\n",
    "# pd.DatetimeIndex(df.gameStartTimestamp).month\n",
    "chart = sns.countplot(dates.iloc[::-1])\n",
    "chart.set_xticklabels(chart.get_xticklabels(), rotation=70)\n",
    "chart\n",
    "# dates"
   ],
   "metadata": {
    "collapsed": false,
    "pycharm": {
     "name": "#%%\n"
    }
   }
  },
  {
   "cell_type": "code",
   "execution_count": 350,
   "outputs": [
    {
     "name": "stderr",
     "output_type": "stream",
     "text": [
      "/Library/Frameworks/Python.framework/Versions/3.8/lib/python3.8/site-packages/seaborn/_decorators.py:36: FutureWarning:\n",
      "\n",
      "Pass the following variable as a keyword arg: x. From version 0.12, the only valid positional argument will be `data`, and passing other arguments without an explicit keyword will result in an error or misinterpretation.\n",
      "\n"
     ]
    },
    {
     "data": {
      "text/plain": "<AxesSubplot:xlabel='gameStartTimestamp', ylabel='count'>"
     },
     "execution_count": 350,
     "metadata": {},
     "output_type": "execute_result"
    },
    {
     "data": {
      "text/plain": "<Figure size 432x288 with 1 Axes>",
      "image/png": "[encoded data removed]"
     },
     "metadata": {
      "needs_background": "light"
     },
     "output_type": "display_data"
    }
   ],
   "source": [
    "\n",
    "dates = all_old.gameStartTimestamp.apply(pd.Timestamp.to_pydatetime)\n",
    "dates = dates.apply(lambda x: x.strftime('%-m-%y'))\n",
    "# pd.DatetimeIndex(df.gameStartTimestamp).year\n",
    "# pd.DatetimeIndex(df.gameStartTimestamp).month\n",
    "chart = sns.countplot(dates.iloc[::-1])\n",
    "chart.set_xticklabels(chart.get_xticklabels(), rotation=70)\n",
    "chart\n"
   ],
   "metadata": {
    "collapsed": false,
    "pycharm": {
     "name": "#%%\n"
    }
   }
  },
  {
   "cell_type": "code",
   "execution_count": 351,
   "outputs": [
    {
     "name": "stdout",
     "output_type": "stream",
     "text": [
      "Sorcerer's Shoes = 1731\n",
      "Plated Steelcaps = 746\n",
      "Rabadon's Deathcap = 713\n",
      "Guardian's Horn = 694\n",
      "None = 676\n",
      "Berserker's Greaves = 650\n",
      "Needlessly Large Rod = 563\n",
      "Mercury's Treads = 554\n",
      "Ionian Boots of Lucidity = 541\n",
      "Demonic Embrace = 458\n",
      "Infinity Edge = 396\n",
      "Liandry's Anguish = 364\n",
      "None = 361\n",
      "Rylai's Crystal Scepter = 359\n",
      "Oblivion Orb = 352\n",
      "Blasting Wand = 336\n",
      "Ruby Crystal = 327\n",
      "Void Staff = 326\n",
      "Warmog's Armor = 325\n",
      "Spirit Visage = 309\n",
      "Amplifying Tome = 306\n",
      "Zhonya's Hourglass = 304\n",
      "Muramana = 299\n",
      "Long Sword = 293\n",
      "None = 289\n",
      "Luden's Tempest = 277\n",
      "Sunfire Aegis = 256\n",
      "Frostfire Gauntlet = 241\n",
      "Sterak's Gage = 238\n",
      "Evenshroud = 225\n",
      "Guardian's Hammer = 222\n",
      "Locket of the Iron Solari = 186\n",
      "Lich Bane = 186\n",
      "Giant's Belt = 183\n",
      "Kindlegem = 182\n",
      "Divine Sunderer = 181\n",
      "Runaan's Hurricane = 181\n",
      "Titanic Hydra = 175\n",
      "Horizon Focus = 175\n",
      "Fiendish Codex = 171\n",
      "Boots of Swiftness = 169\n",
      "Thornmail = 169\n",
      "Phantom Dancer = 166\n",
      "Guardian's Blade = 163\n",
      "Youmuu's Ghostblade = 162\n",
      "Eclipse = 156\n",
      "The Collector = 156\n",
      "None = 146\n",
      "Pickaxe = 144\n",
      "None = 144\n",
      "None = 144\n",
      "Death's Dance = 138\n",
      "Morellonomicon = 138\n",
      "Boots = 137\n",
      "Black Cleaver = 137\n",
      "Kraken Slayer = 134\n",
      "Caulfield's Warhammer = 132\n",
      "Night Harvester = 130\n",
      "Blade of The Ruined King = 129\n",
      "Knight's Vow = 125\n",
      "Stormrazor = 118\n",
      "Rapid Firecannon = 117\n",
      "Cloth Armor = 113\n",
      "Ravenous Hydra = 112\n",
      "Bramble Vest = 112\n",
      "Dagger = 110\n",
      "Imperial Mandate = 110\n",
      "Guinsoo's Rageblade = 109\n",
      "Null-Magic Mantle = 108\n",
      "B. F. Sword = 107\n",
      "Negatron Cloak = 107\n",
      "Immortal Shieldbow = 106\n",
      "Maw of Malmortius = 105\n",
      "Wit's End = 104\n",
      "Goredrinker = 103\n",
      "Vampiric Scepter = 103\n",
      "Tear of the Goddess = 102\n",
      "Frozen Heart = 100\n",
      "Lord Dominik's Regards = 99\n",
      "Moonstone Renewer = 99\n",
      "Warden's Mail = 98\n",
      "Chain Vest = 94\n",
      "Cloak of Agility = 94\n",
      "Trinity Force = 92\n",
      "Force of Nature = 90\n",
      "Duskblade of Draktharr = 89\n",
      "Serrated Dirk = 89\n",
      "Seraph's Embrace = 89\n",
      "Cosmic Drive = 89\n",
      "Staff of Flowing Water = 88\n",
      "Riftmaker = 80\n",
      "Shadowflame = 79\n",
      "Refillable Potion = 77\n",
      "Edge of Night = 76\n",
      "Hextech Rocketbelt = 75\n",
      "Last Whisper = 75\n",
      "Rejuvenation Bead = 75\n",
      "Banshee's Veil = 72\n",
      "Bloodthirster = 71\n",
      "Ardent Censer = 71\n",
      "Broken Stopwatch = 70\n",
      "Spectre's Cowl = 68\n",
      "None = 67\n",
      "Serylda's Grudge = 65\n",
      "Abyssal Mask = 64\n",
      "None = 64\n",
      "Blighting Jewel = 62\n",
      "Zeal = 58\n",
      "Tiamat = 57\n",
      "Serpent's Fang = 53\n",
      "Zeke's Convergence = 51\n",
      "Essence Reaver = 50\n",
      "Phage = 50\n",
      "Randuin's Omen = 48\n",
      "Dead Man's Plate = 47\n",
      "Chemtech Putrifier = 46\n",
      "Forbidden Idol = 46\n",
      "Redemption = 45\n",
      "Nashor's Tooth = 45\n",
      "Guardian's Orb = 44\n",
      "None = 43\n",
      "Hextech Alternator = 42\n",
      "None = 41\n",
      "Axiom Arc = 38\n",
      "Scarecrow Effigy = 38\n",
      "Stopwatch = 37\n",
      "Crystalline Bracer = 36\n",
      "Health Potion = 34\n",
      "Sheen = 33\n",
      "Seeker's Armguard = 33\n",
      "Aegis of the Legion = 33\n",
      "None = 33\n",
      "Hexdrinker = 32\n",
      "Executioner's Calling = 31\n",
      "Prowler's Claw = 28\n",
      "Winged Moonplate = 27\n",
      "Shurelya's Battlesong = 26\n",
      "None = 26\n",
      "Gargoyle Stoneplate = 25\n",
      "Mobility Boots = 24\n",
      "Fimbulwinter = 24\n",
      "Mikael's Blessing = 23\n",
      "Recurve Bow = 21\n",
      "Faerie Charm = 19\n",
      "Mortal Reminder = 19\n",
      "None = 19\n",
      "Aether Wisp = 18\n",
      "Galeforce = 18\n",
      "Anathema's Chains = 18\n",
      "None = 18\n",
      "None = 18\n",
      "Quicksilver Sash = 17\n",
      "None = 17\n",
      "Glacial Buckler = 16\n",
      "Kircheis Shard = 16\n",
      "Everfrost = 15\n",
      "Lost Chapter = 15\n",
      "None = 15\n",
      "None = 15\n",
      "Verdant Barrier = 14\n",
      "None = 14\n",
      "None = 13\n",
      "Forgefire Crest = 12\n",
      "None = 12\n",
      "Bandleglass Mirror = 11\n",
      "Chempunk Chainsword = 11\n",
      "Rimeforged Grasp = 11\n",
      "None = 11\n",
      "Hearthbound Axe = 10\n",
      "None = 9\n",
      "Umbral Glaive = 8\n",
      "Stridebreaker = 8\n",
      "None = 8\n",
      "Rageknife = 7\n",
      "Bami's Cinder = 7\n",
      "Mercurial Scimitar = 7\n",
      "Liandry's Lament = 6\n",
      "Noonquiver = 5\n",
      "Navori Quickblades = 5\n",
      "None = 5\n",
      "None = 5\n",
      "None = 5\n",
      "Eye of Luden = 4\n",
      "Manamune = 4\n",
      "Deicide = 4\n",
      "None = 4\n",
      "None = 4\n",
      "None = 4\n",
      "Crown of the Shattered Queen = 3\n",
      "Slightly Magical Footwear = 3\n",
      "Elixir of Sorcery = 3\n",
      "Turbo Chemtank = 3\n",
      "Elixir of Wrath = 3\n",
      "Broken Stopwatch = 3\n",
      "Vespertide = 3\n",
      "Your Cut = 3\n",
      "None = 3\n",
      "None = 3\n",
      "None = 3\n",
      "Syzygy = 2\n",
      "Silvermere Dawn = 2\n",
      "Bloodward = 2\n",
      "Hullbreaker = 2\n",
      "Sapphire Crystal = 2\n",
      "None = 2\n",
      "Wyrmfallen Sacrifice = 1\n",
      "Draktharr's Shadowcarver = 1\n",
      "Reliquary of the Golden Dawn = 1\n",
      "Elixir of Iron = 1\n",
      "Total Biscuit of Everlasting Will = 1\n",
      "Corrupting Potion = 1\n",
      "Icathia's Curse = 1\n",
      "None = 1\n",
      "None = 1\n",
      "None = 1\n",
      "None = 1\n"
     ]
    }
   ],
   "source": [
    "c = Counter(all_old[\"items\"].apply(list).sum()).most_common(1000)[1:]\n",
    "for i in c:\n",
    "    print(item_id_to_name.get(i[0]), \"=\" ,i[1])"
   ],
   "metadata": {
    "collapsed": false,
    "pycharm": {
     "name": "#%%\n"
    }
   }
  },
  {
   "cell_type": "code",
   "execution_count": 355,
   "outputs": [
    {
     "data": {
      "text/plain": "              wins  total    wr\nOrianna         48     72  67.0\nKayle           31     46  67.0\nCassiopeia      41     62  66.0\nRyze            40     61  66.0\nSinged          52     82  63.0\nAlistar         34     54  63.0\nTaliyah         32     52  62.0\nShyvana         28     45  62.0\nAnivia          37     62  60.0\nSenna           34     57  60.0\nKassadin        26     43  60.0\nMalphite        26     43  60.0\nCamille         30     51  59.0\nCorki           34     58  59.0\nAshe            50     85  59.0\nLux             42     71  59.0\nZyra            37     64  58.0\nFiddlesticks    35     60  58.0\nIllaoi          29     50  58.0\nKha'Zix         26     45  58.0\nThresh          58    101  57.0\nBlitzcrank      38     67  57.0\nCaitlyn         29     51  57.0\nMiss Fortune    28     49  57.0\nJhin            29     52  56.0\nKog'Maw         36     66  55.0\nBrand           52     94  55.0\nLeona           38     69  55.0\nTahm Kench      50     93  54.0\nTwitch          38     70  54.0\nMorgana         31     57  54.0\nKai'Sa          52     96  54.0\nXerath          39     74  53.0\nSion            26     49  53.0\nDarius          24     45  53.0\nLeBlanc         23     43  53.0\nElise           34     66  52.0\nEzreal          27     54  50.0\nJayce           20     40  50.0\nCho'Gath        22     45  49.0\nRumble          24     49  49.0\nSwain           33     69  48.0\nJinx            22     46  48.0\nSett            19     40  48.0\nVeigar          25     56  45.0\nVarus           25     55  45.0\nOrnn            19     42  45.0\nXayah           18     42  43.0\nTwisted Fate    18     46  39.0\nMordekaiser     18     48  38.0\nPyke            17     45  38.0",
      "text/html": "<div>\n<style scoped>\n    .dataframe tbody tr th:only-of-type {\n        vertical-align: middle;\n    }\n\n    .dataframe tbody tr th {\n        vertical-align: top;\n    }\n\n    .dataframe thead th {\n        text-align: right;\n    }\n</style>\n<table border=\"1\" class=\"dataframe\">\n  <thead>\n    <tr style=\"text-align: right;\">\n      <th></th>\n      <th>wins</th>\n      <th>total</th>\n      <th>wr</th>\n    </tr>\n  </thead>\n  <tbody>\n    <tr>\n      <th>Orianna</th>\n      <td>48</td>\n      <td>72</td>\n      <td>67.0</td>\n    </tr>\n    <tr>\n      <th>Kayle</th>\n      <td>31</td>\n      <td>46</td>\n      <td>67.0</td>\n    </tr>\n    <tr>\n      <th>Cassiopeia</th>\n      <td>41</td>\n      <td>62</td>\n      <td>66.0</td>\n    </tr>\n    <tr>\n      <th>Ryze</th>\n      <td>40</td>\n      <td>61</td>\n      <td>66.0</td>\n    </tr>\n    <tr>\n      <th>Singed</th>\n      <td>52</td>\n      <td>82</td>\n      <td>63.0</td>\n    </tr>\n    <tr>\n      <th>Alistar</th>\n      <td>34</td>\n      <td>54</td>\n      <td>63.0</td>\n    </tr>\n    <tr>\n      <th>Taliyah</th>\n      <td>32</td>\n      <td>52</td>\n      <td>62.0</td>\n    </tr>\n    <tr>\n      <th>Shyvana</th>\n      <td>28</td>\n      <td>45</td>\n      <td>62.0</td>\n    </tr>\n    <tr>\n      <th>Anivia</th>\n      <td>37</td>\n      <td>62</td>\n      <td>60.0</td>\n    </tr>\n    <tr>\n      <th>Senna</th>\n      <td>34</td>\n      <td>57</td>\n      <td>60.0</td>\n    </tr>\n    <tr>\n      <th>Kassadin</th>\n      <td>26</td>\n      <td>43</td>\n      <td>60.0</td>\n    </tr>\n    <tr>\n      <th>Malphite</th>\n      <td>26</td>\n      <td>43</td>\n      <td>60.0</td>\n    </tr>\n    <tr>\n      <th>Camille</th>\n      <td>30</td>\n      <td>51</td>\n      <td>59.0</td>\n    </tr>\n    <tr>\n      <th>Corki</th>\n      <td>34</td>\n      <td>58</td>\n      <td>59.0</td>\n    </tr>\n    <tr>\n      <th>Ashe</th>\n      <td>50</td>\n      <td>85</td>\n      <td>59.0</td>\n    </tr>\n    <tr>\n      <th>Lux</th>\n      <td>42</td>\n      <td>71</td>\n      <td>59.0</td>\n    </tr>\n    <tr>\n      <th>Zyra</th>\n      <td>37</td>\n      <td>64</td>\n      <td>58.0</td>\n    </tr>\n    <tr>\n      <th>Fiddlesticks</th>\n      <td>35</td>\n      <td>60</td>\n      <td>58.0</td>\n    </tr>\n    <tr>\n      <th>Illaoi</th>\n      <td>29</td>\n      <td>50</td>\n      <td>58.0</td>\n    </tr>\n    <tr>\n      <th>Kha'Zix</th>\n      <td>26</td>\n      <td>45</td>\n      <td>58.0</td>\n    </tr>\n    <tr>\n      <th>Thresh</th>\n      <td>58</td>\n      <td>101</td>\n      <td>57.0</td>\n    </tr>\n    <tr>\n      <th>Blitzcrank</th>\n      <td>38</td>\n      <td>67</td>\n      <td>57.0</td>\n    </tr>\n    <tr>\n      <th>Caitlyn</th>\n      <td>29</td>\n      <td>51</td>\n      <td>57.0</td>\n    </tr>\n    <tr>\n      <th>Miss Fortune</th>\n      <td>28</td>\n      <td>49</td>\n      <td>57.0</td>\n    </tr>\n    <tr>\n      <th>Jhin</th>\n      <td>29</td>\n      <td>52</td>\n      <td>56.0</td>\n    </tr>\n    <tr>\n      <th>Kog'Maw</th>\n      <td>36</td>\n      <td>66</td>\n      <td>55.0</td>\n    </tr>\n    <tr>\n      <th>Brand</th>\n      <td>52</td>\n      <td>94</td>\n      <td>55.0</td>\n    </tr>\n    <tr>\n      <th>Leona</th>\n      <td>38</td>\n      <td>69</td>\n      <td>55.0</td>\n    </tr>\n    <tr>\n      <th>Tahm Kench</th>\n      <td>50</td>\n      <td>93</td>\n      <td>54.0</td>\n    </tr>\n    <tr>\n      <th>Twitch</th>\n      <td>38</td>\n      <td>70</td>\n      <td>54.0</td>\n    </tr>\n    <tr>\n      <th>Morgana</th>\n      <td>31</td>\n      <td>57</td>\n      <td>54.0</td>\n    </tr>\n    <tr>\n      <th>Kai'Sa</th>\n      <td>52</td>\n      <td>96</td>\n      <td>54.0</td>\n    </tr>\n    <tr>\n      <th>Xerath</th>\n      <td>39</td>\n      <td>74</td>\n      <td>53.0</td>\n    </tr>\n    <tr>\n      <th>Sion</th>\n      <td>26</td>\n      <td>49</td>\n      <td>53.0</td>\n    </tr>\n    <tr>\n      <th>Darius</th>\n      <td>24</td>\n      <td>45</td>\n      <td>53.0</td>\n    </tr>\n    <tr>\n      <th>LeBlanc</th>\n      <td>23</td>\n      <td>43</td>\n      <td>53.0</td>\n    </tr>\n    <tr>\n      <th>Elise</th>\n      <td>34</td>\n      <td>66</td>\n      <td>52.0</td>\n    </tr>\n    <tr>\n      <th>Ezreal</th>\n      <td>27</td>\n      <td>54</td>\n      <td>50.0</td>\n    </tr>\n    <tr>\n      <th>Jayce</th>\n      <td>20</td>\n      <td>40</td>\n      <td>50.0</td>\n    </tr>\n    <tr>\n      <th>Cho'Gath</th>\n      <td>22</td>\n      <td>45</td>\n      <td>49.0</td>\n    </tr>\n    <tr>\n      <th>Rumble</th>\n      <td>24</td>\n      <td>49</td>\n      <td>49.0</td>\n    </tr>\n    <tr>\n      <th>Swain</th>\n      <td>33</td>\n      <td>69</td>\n      <td>48.0</td>\n    </tr>\n    <tr>\n      <th>Jinx</th>\n      <td>22</td>\n      <td>46</td>\n      <td>48.0</td>\n    </tr>\n    <tr>\n      <th>Sett</th>\n      <td>19</td>\n      <td>40</td>\n      <td>48.0</td>\n    </tr>\n    <tr>\n      <th>Veigar</th>\n      <td>25</td>\n      <td>56</td>\n      <td>45.0</td>\n    </tr>\n    <tr>\n      <th>Varus</th>\n      <td>25</td>\n      <td>55</td>\n      <td>45.0</td>\n    </tr>\n    <tr>\n      <th>Ornn</th>\n      <td>19</td>\n      <td>42</td>\n      <td>45.0</td>\n    </tr>\n    <tr>\n      <th>Xayah</th>\n      <td>18</td>\n      <td>42</td>\n      <td>43.0</td>\n    </tr>\n    <tr>\n      <th>Twisted Fate</th>\n      <td>18</td>\n      <td>46</td>\n      <td>39.0</td>\n    </tr>\n    <tr>\n      <th>Mordekaiser</th>\n      <td>18</td>\n      <td>48</td>\n      <td>38.0</td>\n    </tr>\n    <tr>\n      <th>Pyke</th>\n      <td>17</td>\n      <td>45</td>\n      <td>38.0</td>\n    </tr>\n  </tbody>\n</table>\n</div>"
     },
     "execution_count": 355,
     "metadata": {},
     "output_type": "execute_result"
    }
   ],
   "source": [
    "w = wl(all_old, filter=40).rename(index=champ_id_to_name)\n",
    "\n",
    "w.sort_values(\"wr\", ascending=False)\n"
   ],
   "metadata": {
    "collapsed": false,
    "pycharm": {
     "name": "#%%\n"
    }
   }
  },
  {
   "cell_type": "code",
   "execution_count": 353,
   "outputs": [
    {
     "data": {
      "text/plain": "            championName gameVersion       kda  pentaKills  \\\n4429133676       Kindred    [12, 16]  8.250000           1   \n4329861358        Samira    [12, 10]  3.555556           1   \n4294332277        Samira     [12, 8]  3.071429           1   \n4250542018     TahmKench     [12, 5]  3.555556           1   \n3994959841          Ryze    [11, 15]       NaN           1   \n3965410077         Corki    [11, 13]       NaN           1   \n3721616499  Fiddlesticks    [10, 25]       NaN           1   \n3666879475        Samira    [10, 23]       NaN           1   \n3527415225        Twitch    [10, 16]       NaN           1   \n3510270644    Cassiopeia    [10, 15]       NaN           1   \n3503371751          Pyke    [10, 14]       NaN           1   \n3438971860        Twitch    [10, 10]       NaN           1   \n3433339580        Twitch    [10, 10]       NaN           1   \n3290317341     Master Yi     [10, 3]       NaN           1   \n3285721171         Elise     [10, 2]       NaN           1   \n\n            teamDamagePercentage  \n4429133676              0.361086  \n4329861358              0.348440  \n4294332277              0.275742  \n4250542018              0.224974  \n3994959841                   NaN  \n3965410077                   NaN  \n3721616499                   NaN  \n3666879475                   NaN  \n3527415225                   NaN  \n3510270644                   NaN  \n3503371751                   NaN  \n3438971860                   NaN  \n3433339580                   NaN  \n3290317341                   NaN  \n3285721171                   NaN  ",
      "text/html": "<div>\n<style scoped>\n    .dataframe tbody tr th:only-of-type {\n        vertical-align: middle;\n    }\n\n    .dataframe tbody tr th {\n        vertical-align: top;\n    }\n\n    .dataframe thead th {\n        text-align: right;\n    }\n</style>\n<table border=\"1\" class=\"dataframe\">\n  <thead>\n    <tr style=\"text-align: right;\">\n      <th></th>\n      <th>championName</th>\n      <th>gameVersion</th>\n      <th>kda</th>\n      <th>pentaKills</th>\n      <th>teamDamagePercentage</th>\n    </tr>\n  </thead>\n  <tbody>\n    <tr>\n      <th>4429133676</th>\n      <td>Kindred</td>\n      <td>[12, 16]</td>\n      <td>8.250000</td>\n      <td>1</td>\n      <td>0.361086</td>\n    </tr>\n    <tr>\n      <th>4329861358</th>\n      <td>Samira</td>\n      <td>[12, 10]</td>\n      <td>3.555556</td>\n      <td>1</td>\n      <td>0.348440</td>\n    </tr>\n    <tr>\n      <th>4294332277</th>\n      <td>Samira</td>\n      <td>[12, 8]</td>\n      <td>3.071429</td>\n      <td>1</td>\n      <td>0.275742</td>\n    </tr>\n    <tr>\n      <th>4250542018</th>\n      <td>TahmKench</td>\n      <td>[12, 5]</td>\n      <td>3.555556</td>\n      <td>1</td>\n      <td>0.224974</td>\n    </tr>\n    <tr>\n      <th>3994959841</th>\n      <td>Ryze</td>\n      <td>[11, 15]</td>\n      <td>NaN</td>\n      <td>1</td>\n      <td>NaN</td>\n    </tr>\n    <tr>\n      <th>3965410077</th>\n      <td>Corki</td>\n      <td>[11, 13]</td>\n      <td>NaN</td>\n      <td>1</td>\n      <td>NaN</td>\n    </tr>\n    <tr>\n      <th>3721616499</th>\n      <td>Fiddlesticks</td>\n      <td>[10, 25]</td>\n      <td>NaN</td>\n      <td>1</td>\n      <td>NaN</td>\n    </tr>\n    <tr>\n      <th>3666879475</th>\n      <td>Samira</td>\n      <td>[10, 23]</td>\n      <td>NaN</td>\n      <td>1</td>\n      <td>NaN</td>\n    </tr>\n    <tr>\n      <th>3527415225</th>\n      <td>Twitch</td>\n      <td>[10, 16]</td>\n      <td>NaN</td>\n      <td>1</td>\n      <td>NaN</td>\n    </tr>\n    <tr>\n      <th>3510270644</th>\n      <td>Cassiopeia</td>\n      <td>[10, 15]</td>\n      <td>NaN</td>\n      <td>1</td>\n      <td>NaN</td>\n    </tr>\n    <tr>\n      <th>3503371751</th>\n      <td>Pyke</td>\n      <td>[10, 14]</td>\n      <td>NaN</td>\n      <td>1</td>\n      <td>NaN</td>\n    </tr>\n    <tr>\n      <th>3438971860</th>\n      <td>Twitch</td>\n      <td>[10, 10]</td>\n      <td>NaN</td>\n      <td>1</td>\n      <td>NaN</td>\n    </tr>\n    <tr>\n      <th>3433339580</th>\n      <td>Twitch</td>\n      <td>[10, 10]</td>\n      <td>NaN</td>\n      <td>1</td>\n      <td>NaN</td>\n    </tr>\n    <tr>\n      <th>3290317341</th>\n      <td>Master Yi</td>\n      <td>[10, 3]</td>\n      <td>NaN</td>\n      <td>1</td>\n      <td>NaN</td>\n    </tr>\n    <tr>\n      <th>3285721171</th>\n      <td>Elise</td>\n      <td>[10, 2]</td>\n      <td>NaN</td>\n      <td>1</td>\n      <td>NaN</td>\n    </tr>\n  </tbody>\n</table>\n</div>"
     },
     "execution_count": 353,
     "metadata": {},
     "output_type": "execute_result"
    }
   ],
   "source": [
    "\n",
    "all_old[all_old.pentaKills>0][[\"championName\",\"gameVersion\",\"kda\",\"pentaKills\",\"teamDamagePercentage\"]]"
   ],
   "metadata": {
    "collapsed": false,
    "pycharm": {
     "name": "#%%\n"
    }
   }
  },
  {
   "cell_type": "code",
   "execution_count": 354,
   "outputs": [
    {
     "data": {
      "text/plain": "Thresh            101\nBrand              94\nAshe               85\nSinged             82\nXerath             74\n                 ... \nNunu & Willump      1\nJarvanIV            1\nSejuani             1\nYone                1\nXin Zhao            1\nName: championName, Length: 171, dtype: int64"
     },
     "execution_count": 354,
     "metadata": {},
     "output_type": "execute_result"
    }
   ],
   "source": [
    "all_old.championName.value_counts()"
   ],
   "metadata": {
    "collapsed": false,
    "pycharm": {
     "name": "#%%\n"
    }
   }
  },
  {
   "cell_type": "code",
   "execution_count": 354,
   "outputs": [],
   "source": [],
   "metadata": {
    "collapsed": false,
    "pycharm": {
     "name": "#%%\n"
    }
   }
  },
  {
   "cell_type": "code",
   "execution_count": 354,
   "outputs": [],
   "source": [],
   "metadata": {
    "collapsed": false,
    "pycharm": {
     "name": "#%%\n"
    }
   }
  }
 ],
 "metadata": {
  "kernelspec": {
   "display_name": "Python 3",
   "language": "python",
   "name": "python3"
  },
  "language_info": {
   "codemirror_mode": {
    "name": "ipython",
    "version": 2
   },
   "file_extension": ".py",
   "mimetype": "text/x-python",
   "name": "python",
   "nbconvert_exporter": "python",
   "pygments_lexer": "ipython2",
   "version": "2.7.6"
  }
 },
 "nbformat": 4,
 "nbformat_minor": 0
}