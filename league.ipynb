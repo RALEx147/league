{
 "cells": [
  {
   "cell_type": "markdown",
   "metadata": {
    "collapsed": true,
    "pycharm": {
     "name": "#%% md\n"
    }
   },
   "source": [
    "## Aram Data and Analysis"
   ]
  },
  {
   "cell_type": "code",
   "execution_count": null,
   "outputs": [],
   "source": [
    "# imports\n",
    "from league_data import *\n",
    "from league_functions import *\n",
    "from league_constants import *\n",
    "import cassiopeia as cass\n",
    "import plotly.express as px\n",
    "import seaborn as sns"
   ],
   "metadata": {
    "collapsed": false,
    "pycharm": {
     "name": "#%%\n",
     "is_executing": true
    }
   }
  },
  {
   "cell_type": "markdown",
   "source": [
    "#### TODO\n",
    "-convert dill dumping to csv\n",
    "<br> -finish fuctions\n",
    "<br> -new function ideas\n"
   ],
   "metadata": {
    "collapsed": false,
    "pycharm": {
     "name": "#%% md\n"
    }
   }
  },
  {
   "cell_type": "markdown",
   "source": [
    "#### Load Data"
   ],
   "metadata": {
    "collapsed": false,
    "pycharm": {
     "name": "#%% md\n"
    }
   }
  },
  {
   "cell_type": "code",
   "execution_count": null,
   "outputs": [],
   "source": [
    "%%time\n",
    "df = load_fetch_data(robb)"
   ],
   "metadata": {
    "collapsed": false,
    "pycharm": {
     "name": "#%%\n",
     "is_executing": true
    }
   }
  },
  {
   "cell_type": "code",
   "execution_count": null,
   "outputs": [],
   "source": [
    "champs = pd.Series(cass.get_champions(region=\"NA\"))\n",
    "champs.index = champs.apply(lambda x: x.name)\n",
    "champs = champs.apply(lambda x: x.tags[0])\n",
    "\n",
    "adc = set(champs[champs.apply(lambda x: \"Marksman\" in x)].index)\n",
    "assassin = set(champs[champs.apply(lambda x: \"Assassin\" in x)].index)\n",
    "fighter = set(champs[champs.apply(lambda x: \"Fighter\" in x)].index)\n",
    "support = set(champs[champs.apply(lambda x: \"Support\" in x)].index)\n",
    "tank = set(champs[champs.apply(lambda x: \"Tank\" in x)].index)\n",
    "mage = set(champs[champs.apply(lambda x: \"Mage\" in x)].index)\n"
   ],
   "metadata": {
    "collapsed": false,
    "pycharm": {
     "name": "#%%\n",
     "is_executing": true
    }
   }
  },
  {
   "cell_type": "markdown",
   "source": [
    "#### Clean data"
   ],
   "metadata": {
    "collapsed": false
   }
  },
  {
   "cell_type": "code",
   "execution_count": null,
   "outputs": [],
   "source": [
    "df.duration = df.duration.astype('timedelta64[s]')\n",
    "df.id = pd.to_numeric(df.id)\n",
    "df.patch = pd.to_numeric(df.patch.apply(lambda x: x.name))\n",
    "df.creation = pd.to_datetime(df.creation.apply(lambda x:str(x.to('US/Eastern').format())))\n",
    "df.surrender = df.surrender.astype('bool')\n",
    "df[\"opp\"] = df.where(df.side == 0).red.fillna(df.where(df.side == 1).blue)\n",
    "df[\"side\"] = df.where(df.side == 1).red.fillna(df.where(df.side == 0).blue)\n",
    "df[\"teamnames\"] = df.side.apply(lambda x: {i.name for i in x})\n",
    "df[\"teamcomp\"] = df.side.apply(lambda x: {i.champ for i in x})\n",
    "df[\"enemynames\"] = df.opp.apply(lambda x: {i.name for i in x})\n",
    "df[\"enemycomp\"] = df.opp.apply(lambda x: {i.champ for i in x})\n",
    "df[\"champ\"] = df.side.apply(lambda x: x[0].champ)\n",
    "df[\"win\"] = df.summoner.apply(lambda x: x.stats.win)\n",
    "df = df.sort_values(by=\"creation\", ascending=False)\n",
    "\n",
    "df.drop(\"side\", axis=1, inplace=True)\n",
    "df.drop(\"opp\", axis=1, inplace=True)\n",
    "\n",
    "df.head(1)"
   ],
   "metadata": {
    "collapsed": false,
    "pycharm": {
     "name": "#%%\n",
     "is_executing": true
    }
   }
  },
  {
   "cell_type": "code",
   "execution_count": null,
   "outputs": [],
   "source": [
    "df.info()"
   ],
   "metadata": {
    "collapsed": false,
    "pycharm": {
     "name": "#%%\n",
     "is_executing": true
    }
   }
  },
  {
   "cell_type": "markdown",
   "source": [
    "#### Filter"
   ],
   "metadata": {
    "collapsed": false,
    "pycharm": {
     "name": "#%% md\n"
    }
   }
  },
  {
   "cell_type": "code",
   "execution_count": null,
   "outputs": [],
   "source": [
    "df = df[df.patch.apply(round) == 11]\n",
    "len(df)"
   ],
   "metadata": {
    "collapsed": false,
    "pycharm": {
     "name": "#%%\n",
     "is_executing": true
    }
   }
  },
  {
   "cell_type": "code",
   "execution_count": null,
   "outputs": [],
   "source": [
    "solo = df[df.teamnames.apply(lambda x: len(x & friends) == 0)]\n",
    "premade = df[df.teamnames.apply(lambda x: len(x & friends) != 0)]"
   ],
   "metadata": {
    "collapsed": false,
    "pycharm": {
     "name": "#%%\n",
     "is_executing": true
    }
   }
  },
  {
   "cell_type": "code",
   "execution_count": null,
   "outputs": [],
   "source": [
    "wr(df)"
   ],
   "metadata": {
    "collapsed": false,
    "pycharm": {
     "name": "#%%\n",
     "is_executing": true
    }
   }
  },
  {
   "cell_type": "code",
   "execution_count": null,
   "outputs": [],
   "source": [
    "wr(solo)"
   ],
   "metadata": {
    "collapsed": false,
    "pycharm": {
     "name": "#%%\n",
     "is_executing": true
    }
   }
  },
  {
   "cell_type": "code",
   "execution_count": null,
   "outputs": [],
   "source": [
    "wr(premade)"
   ],
   "metadata": {
    "collapsed": false,
    "pycharm": {
     "name": "#%%\n",
     "is_executing": true
    }
   }
  },
  {
   "cell_type": "code",
   "execution_count": null,
   "outputs": [],
   "source": [
    "wl = pd.DataFrame()\n",
    "\n",
    "wl[\"wins\"] = df[df.win == True].summoner.apply(lambda x: x.champion).value_counts()\n",
    "wl[\"losses\"] = df[df.win == False].summoner.apply(lambda x: x.champion).value_counts()\n",
    "wl[\"losses\"].fillna(value=0, inplace=True)\n",
    "wl[\"total\"] = wl.losses + wl.wins\n",
    "wl[\"wr\"] = round(wl.wins / wl.total, 2) * 100\n",
    "\n",
    "wl[wl.total > 3].sort_values(by=[\"wr\", \"total\"], ascending=False)"
   ],
   "metadata": {
    "collapsed": false,
    "pycharm": {
     "name": "#%%\n",
     "is_executing": true
    }
   }
  },
  {
   "cell_type": "code",
   "execution_count": null,
   "outputs": [],
   "source": [
    "adc_games = df[df.teamcomp.apply(lambda x: len(x & adc) != 0)]\n",
    "no_adc_games = df[df.teamcomp.apply(lambda x: len(x & adc) == 0)]"
   ],
   "metadata": {
    "collapsed": false,
    "pycharm": {
     "name": "#%%\n",
     "is_executing": true
    }
   }
  },
  {
   "cell_type": "code",
   "execution_count": null,
   "outputs": [],
   "source": [
    "print(len(adc_games))\n",
    "wr(adc_games)"
   ],
   "metadata": {
    "collapsed": false,
    "pycharm": {
     "name": "#%%\n",
     "is_executing": true
    }
   }
  },
  {
   "cell_type": "code",
   "execution_count": null,
   "outputs": [],
   "source": [
    "print(len(no_adc_games))\n",
    "wr(no_adc_games)"
   ],
   "metadata": {
    "collapsed": false,
    "pycharm": {
     "name": "#%%\n",
     "is_executing": true
    }
   }
  },
  {
   "cell_type": "markdown",
   "source": [
    "#### Win Time distribution"
   ],
   "metadata": {
    "collapsed": false
   }
  },
  {
   "cell_type": "code",
   "execution_count": null,
   "outputs": [],
   "source": [
    "sns.histplot(df[[\"duration\",\"win\"]], x=\"duration\", hue=\"win\", element=\"step\",kde=True)"
   ],
   "metadata": {
    "collapsed": false,
    "pycharm": {
     "name": "#%%\n",
     "is_executing": true
    }
   }
  },
  {
   "cell_type": "code",
   "execution_count": null,
   "outputs": [],
   "source": [
    "df[df.win == True].duration.describe().drop(\"count\").apply(lambda x: str(int(x // 60))+\"m \"+str(int(x%60))+\"s\")"
   ],
   "metadata": {
    "collapsed": false,
    "pycharm": {
     "name": "#%%\n",
     "is_executing": true
    }
   }
  },
  {
   "cell_type": "markdown",
   "source": [
    "#### Loss Time distribution"
   ],
   "metadata": {
    "collapsed": false,
    "pycharm": {
     "name": "#%% md\n"
    }
   }
  },
  {
   "cell_type": "code",
   "execution_count": null,
   "outputs": [],
   "source": [
    "df[df.win == False].duration.describe().drop(\"count\").apply(lambda x: str(int(x // 60))+\"m \"+str(int(x%60))+\"s\")"
   ],
   "metadata": {
    "collapsed": false,
    "pycharm": {
     "name": "#%%\n",
     "is_executing": true
    }
   }
  },
  {
   "cell_type": "code",
   "execution_count": null,
   "outputs": [],
   "source": [
    "from collections import Counter\n",
    "\n",
    "player_count = Counter(df.teamnames.apply(list).sum() + df.enemynames.apply(list).sum())#.most_common()[:250]\n",
    "[i for i in player_count.most_common() if i[0] not in friends][:200]"
   ],
   "metadata": {
    "collapsed": false,
    "pycharm": {
     "name": "#%%\n",
     "is_executing": true
    }
   }
  },
  {
   "cell_type": "code",
   "execution_count": null,
   "outputs": [],
   "source": [
    "wr(df[df.teamcomp.apply(lambda x: \"Zed\" in x)])"
   ],
   "metadata": {
    "collapsed": false,
    "pycharm": {
     "name": "#%%\n",
     "is_executing": true
    }
   }
  },
  {
   "cell_type": "code",
   "execution_count": null,
   "outputs": [],
   "source": [
    "# win_rate(data)\n",
    "# champ_winrate(data)\n",
    "# champ_kda(robb, Aram_Data)\n",
    "# kda(Aram_Data)\n",
    "# kp(Aram_Data)\n",
    "# common_teammates(Aram_Data)\n",
    "# multikills(Aram_Data)\n",
    "# items(Aram_Data)\n",
    "# adc_winrate(data)\n",
    "# time_played(Aram_Data)\n",
    "# win_rate_with(thomas, Aram_Data)\n",
    "# time_distribution(robb, data)\n",
    "\n",
    "wr(df[df.champ.apply(lambda x: x in adcs)])"
   ],
   "metadata": {
    "collapsed": false,
    "pycharm": {
     "name": "#%%\n",
     "is_executing": true
    }
   }
  },
  {
   "cell_type": "code",
   "execution_count": null,
   "outputs": [],
   "source": [
    "wr(df[df.champ.apply(lambda x: x in assassin)])"
   ],
   "metadata": {
    "collapsed": false,
    "pycharm": {
     "name": "#%%\n",
     "is_executing": true
    }
   }
  },
  {
   "cell_type": "code",
   "execution_count": null,
   "outputs": [],
   "source": [
    "wr(df[df.champ.apply(lambda x: x in fighter)])\n"
   ],
   "metadata": {
    "collapsed": false,
    "pycharm": {
     "name": "#%%\n",
     "is_executing": true
    }
   }
  },
  {
   "cell_type": "code",
   "execution_count": null,
   "outputs": [],
   "source": [
    "wr(df[df.champ.apply(lambda x: x in support)])\n"
   ],
   "metadata": {
    "collapsed": false,
    "pycharm": {
     "name": "#%%\n",
     "is_executing": true
    }
   }
  },
  {
   "cell_type": "code",
   "execution_count": null,
   "outputs": [],
   "source": [
    "wr(df[df.champ.apply(lambda x: x in tank)])\n"
   ],
   "metadata": {
    "collapsed": false,
    "pycharm": {
     "name": "#%%\n",
     "is_executing": true
    }
   }
  },
  {
   "cell_type": "code",
   "execution_count": null,
   "outputs": [],
   "source": [
    "wr(df[df.champ.apply(lambda x: x in mage)])\n"
   ],
   "metadata": {
    "collapsed": false,
    "pycharm": {
     "name": "#%%\n",
     "is_executing": true
    }
   }
  },
  {
   "cell_type": "code",
   "execution_count": null,
   "outputs": [],
   "source": [],
   "metadata": {
    "collapsed": false,
    "pycharm": {
     "name": "#%%",
     "is_executing": true
    }
   }
  }
 ],
 "metadata": {
  "kernelspec": {
   "display_name": "Python 3",
   "language": "python",
   "name": "python3"
  },
  "language_info": {
   "codemirror_mode": {
    "name": "ipython",
    "version": 2
   },
   "file_extension": ".py",
   "mimetype": "text/x-python",
   "name": "python",
   "nbconvert_exporter": "python",
   "pygments_lexer": "ipython2",
   "version": "2.7.6"
  }
 },
 "nbformat": 4,
 "nbformat_minor": 0
}