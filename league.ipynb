{
 "cells": [
  {
   "cell_type": "markdown",
   "metadata": {
    "collapsed": true,
    "pycharm": {
     "name": "#%% md\n"
    }
   },
   "source": [
    "## Aram Data and Analysis"
   ]
  },
  {
   "cell_type": "code",
   "execution_count": 2,
   "outputs": [],
   "source": [
    "# imports\n",
    "from league_data import *\n",
    "from league_functions import *\n",
    "from league_constants import *"
   ],
   "metadata": {
    "collapsed": false,
    "pycharm": {
     "name": "#%%\n"
    }
   }
  },
  {
   "cell_type": "markdown",
   "source": [
    "#### TODO\n",
    "-convert to pandas(fetch and append and storing too)\n",
    "<br> -finish fuctions\n",
    "<br> -new function ideas\n",
    "<br> -filtering base on x"
   ],
   "metadata": {
    "collapsed": false,
    "pycharm": {
     "name": "#%% md\n"
    }
   }
  },
  {
   "cell_type": "markdown",
   "source": [
    "#### Load Data"
   ],
   "metadata": {
    "collapsed": false,
    "pycharm": {
     "name": "#%% md\n"
    }
   }
  },
  {
   "cell_type": "code",
   "execution_count": 3,
   "outputs": [
    {
     "name": "stdout",
     "output_type": "stream",
     "text": [
      "DATA LOADED 2924\n",
      "Getting Match History\n",
      "Total Games: 2965\n",
      "NEW Games: 41\n",
      "Getting Game Data\n",
      "INFO: Unexpected service rate limit, backing off for 4 seconds (from headers).\n",
      "DATA ADDED 41 \n",
      "\n"
     ]
    }
   ],
   "source": [
    "data = load_fetch_data(robb)\n",
    "df = convert_df(data)"
   ],
   "metadata": {
    "collapsed": false,
    "pycharm": {
     "name": "#%%\n"
    }
   }
  },
  {
   "cell_type": "code",
   "execution_count": 8,
   "outputs": [
    {
     "name": "stdout",
     "output_type": "stream",
     "text": [
      "\tsummoner_spell_d: Mark\n",
      "\tsummoner_spell_f: Flash\n",
      "\trunes: {'Cheap Shot', 'Dark Harvest', 'Manaflow Band', 'Transcendence', 'Eyeball Collection', 'Ultimate Hunter'}\n",
      "\tstats: <Game.Stats object at 0x7fc6f0b78370>\n",
      "\n"
     ]
    }
   ],
   "source": [
    "df.head()\n",
    "df.iloc[0].summoner"
   ],
   "metadata": {
    "collapsed": false,
    "pycharm": {
     "name": "#%%\n"
    }
   }
  },
  {
   "cell_type": "code",
   "execution_count": null,
   "outputs": [],
   "source": [
    "# data = filter_data(data)\n",
    "\n",
    "# print(read_set)\n",
    "# win_rate(data)\n",
    "# champ_winrate(data)\n",
    "# champ_kda(robb, Aram_Data)\n",
    "# kda(Aram_Data)\n",
    "# kp(Aram_Data)\n",
    "# common_teammates(Aram_Data)\n",
    "# multikills(Aram_Data)\n",
    "# items(Aram_Data)\n",
    "adc_winrate(data)\n",
    "# time_played(Aram_Data)\n",
    "# win_rate_with(thomas, Aram_Data)\n",
    "# time_distribution(robb, data)\n",
    "\n",
    "\n",
    "# a  = dill.load(open(\"Aram_Data_New.pickle\", \"rb\"))\n",
    "# print(a[0].summoner.stats.first_inhibitor_kill)"
   ],
   "metadata": {
    "collapsed": false,
    "pycharm": {
     "name": "#%%\n"
    }
   }
  },
  {
   "cell_type": "code",
   "execution_count": null,
   "outputs": [],
   "source": [],
   "metadata": {
    "collapsed": false,
    "pycharm": {
     "name": "#%%\n"
    }
   }
  }
 ],
 "metadata": {
  "kernelspec": {
   "display_name": "Python 3",
   "language": "python",
   "name": "python3"
  },
  "language_info": {
   "codemirror_mode": {
    "name": "ipython",
    "version": 2
   },
   "file_extension": ".py",
   "mimetype": "text/x-python",
   "name": "python",
   "nbconvert_exporter": "python",
   "pygments_lexer": "ipython2",
   "version": "2.7.6"
  }
 },
 "nbformat": 4,
 "nbformat_minor": 0
}