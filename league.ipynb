{
 "cells": [
  {
   "cell_type": "markdown",
   "metadata": {
    "collapsed": true,
    "pycharm": {
     "name": "#%% md\n"
    }
   },
   "source": [
    "## Aram Data and Analysis"
   ]
  },
  {
   "cell_type": "code",
   "execution_count": 4,
   "outputs": [],
   "source": [
    "# imports\n",
    "from league_data import *\n",
    "from league_functions import *\n",
    "from league_constants import *\n",
    "import cassiopeia as cass\n",
    "import plotly.express as px\n",
    "import seaborn as sns"
   ],
   "metadata": {
    "collapsed": false,
    "pycharm": {
     "name": "#%%\n"
    }
   }
  },
  {
   "cell_type": "markdown",
   "source": [
    "#### TODO\n",
    "-convert to pandas(fetch and append and storing too)\n",
    "<br> -finish fuctions\n",
    "<br> -new function ideas\n",
    "<br> -filtering base on x"
   ],
   "metadata": {
    "collapsed": false,
    "pycharm": {
     "name": "#%% md\n"
    }
   }
  },
  {
   "cell_type": "markdown",
   "source": [
    "#### Load Data"
   ],
   "metadata": {
    "collapsed": false,
    "pycharm": {
     "name": "#%% md\n"
    }
   }
  },
  {
   "cell_type": "code",
   "execution_count": 5,
   "outputs": [
    {
     "name": "stdout",
     "output_type": "stream",
     "text": [
      "DATA LOADED 2981\n",
      "Getting Match History\n",
      "Total Games: 3010\n",
      "NEW Games: 29\n",
      "Getting Game Data\n",
      "DATA ADDED 29 \n",
      "\n"
     ]
    }
   ],
   "source": [
    "data = load_fetch_data(robb)\n",
    "df = convert_df(data)"
   ],
   "metadata": {
    "collapsed": false,
    "pycharm": {
     "name": "#%%\n"
    }
   }
  },
  {
   "cell_type": "code",
   "execution_count": 6,
   "outputs": [],
   "source": [
    "champs = pd.Series(cass.get_champions(region=\"NA\"))\n",
    "champs.index = champs.apply(lambda x: x.name)\n",
    "champs = champs.apply(lambda x: x.tags[0])\n",
    "\n",
    "adc = set(champs[champs.apply(lambda x: \"Marksman\" in x)].index)\n",
    "assassin = set(champs[champs.apply(lambda x: \"Assassin\" in x)].index)\n",
    "fighter = set(champs[champs.apply(lambda x: \"Fighter\" in x)].index)\n",
    "support = set(champs[champs.apply(lambda x: \"Support\" in x)].index)\n",
    "tank = set(champs[champs.apply(lambda x: \"Tank\" in x)].index)\n",
    "mage = set(champs[champs.apply(lambda x: \"Mage\" in x)].index)"
   ],
   "metadata": {
    "collapsed": false,
    "pycharm": {
     "name": "#%%\n"
    }
   }
  },
  {
   "cell_type": "markdown",
   "source": [
    "#### Clean data"
   ],
   "metadata": {
    "collapsed": false
   }
  },
  {
   "cell_type": "code",
   "execution_count": 7,
   "outputs": [
    {
     "data": {
      "text/plain": "   duration           season  patch          id  \\\n0    1144.0  Season.season_9  11.12  3940477938   \n\n                                                blue  \\\n0  [(Perfect Null, Viego), (huehuehhue, Sion), (y...   \n\n                                                 red  \\\n0  [(Dirty Doughnut, Annie), (Sháme, Sylas), (Get...   \n\n                                            summoner  \\\n0  summoner_spell_d: Mark\\nsummoner_spell_f: Flas...   \n\n                                                side  \\\n0  [(Dirty Doughnut, Annie), (Sháme, Sylas), (Get...   \n\n                                           teammates  \\\n0  {dirty doughnut, sháme, hotg, get in the bag ,...   \n\n                             teamcomp   win  \n0  {Annie, Jhin, Garen, Senna, Sylas}  True  ",
      "text/html": "<div>\n<style scoped>\n    .dataframe tbody tr th:only-of-type {\n        vertical-align: middle;\n    }\n\n    .dataframe tbody tr th {\n        vertical-align: top;\n    }\n\n    .dataframe thead th {\n        text-align: right;\n    }\n</style>\n<table border=\"1\" class=\"dataframe\">\n  <thead>\n    <tr style=\"text-align: right;\">\n      <th></th>\n      <th>duration</th>\n      <th>season</th>\n      <th>patch</th>\n      <th>id</th>\n      <th>blue</th>\n      <th>red</th>\n      <th>summoner</th>\n      <th>side</th>\n      <th>teammates</th>\n      <th>teamcomp</th>\n      <th>win</th>\n    </tr>\n  </thead>\n  <tbody>\n    <tr>\n      <th>0</th>\n      <td>1144.0</td>\n      <td>Season.season_9</td>\n      <td>11.12</td>\n      <td>3940477938</td>\n      <td>[(Perfect Null, Viego), (huehuehhue, Sion), (y...</td>\n      <td>[(Dirty Doughnut, Annie), (Sháme, Sylas), (Get...</td>\n      <td>summoner_spell_d: Mark\\nsummoner_spell_f: Flas...</td>\n      <td>[(Dirty Doughnut, Annie), (Sháme, Sylas), (Get...</td>\n      <td>{dirty doughnut, sháme, hotg, get in the bag ,...</td>\n      <td>{Annie, Jhin, Garen, Senna, Sylas}</td>\n      <td>True</td>\n    </tr>\n  </tbody>\n</table>\n</div>"
     },
     "execution_count": 7,
     "metadata": {},
     "output_type": "execute_result"
    }
   ],
   "source": [
    "df.duration = df.duration.astype('timedelta64[s]')\n",
    "df.patch = pd.to_numeric(df.patch.apply(lambda x: x.name))\n",
    "df[\"side\"] = df.where(df.side == 1).red.fillna(df.where(df.side == 0).blue)\n",
    "df[\"teammates\"] = df.side.apply(lambda x: {i.name.lower() for i in x})\n",
    "df[\"teamcomp\"] = df.side.apply(lambda x: {i.champ for i in x})\n",
    "df[\"win\"] = df.summoner.apply(lambda x: x.stats.win)\n",
    "\n",
    "df.head(1)"
   ],
   "metadata": {
    "collapsed": false,
    "pycharm": {
     "name": "#%%\n"
    }
   }
  },
  {
   "cell_type": "code",
   "execution_count": 8,
   "outputs": [
    {
     "name": "stdout",
     "output_type": "stream",
     "text": [
      "<class 'pandas.core.frame.DataFrame'>\n",
      "RangeIndex: 3010 entries, 0 to 3009\n",
      "Data columns (total 11 columns):\n",
      " #   Column     Non-Null Count  Dtype  \n",
      "---  ------     --------------  -----  \n",
      " 0   duration   3010 non-null   float64\n",
      " 1   season     3010 non-null   object \n",
      " 2   patch      3010 non-null   float64\n",
      " 3   id         3010 non-null   int64  \n",
      " 4   blue       3010 non-null   object \n",
      " 5   red        3010 non-null   object \n",
      " 6   summoner   3010 non-null   object \n",
      " 7   side       3010 non-null   object \n",
      " 8   teammates  3010 non-null   object \n",
      " 9   teamcomp   3010 non-null   object \n",
      " 10  win        3010 non-null   bool   \n",
      "dtypes: bool(1), float64(2), int64(1), object(7)\n",
      "memory usage: 238.2+ KB\n"
     ]
    }
   ],
   "source": [
    "df.info()"
   ],
   "metadata": {
    "collapsed": false,
    "pycharm": {
     "name": "#%%\n"
    }
   }
  },
  {
   "cell_type": "markdown",
   "source": [
    "#### Filter"
   ],
   "metadata": {
    "collapsed": false,
    "pycharm": {
     "name": "#%% md\n"
    }
   }
  },
  {
   "cell_type": "code",
   "execution_count": 9,
   "outputs": [
    {
     "data": {
      "text/plain": "807"
     },
     "execution_count": 9,
     "metadata": {},
     "output_type": "execute_result"
    }
   ],
   "source": [
    "df = df[df.patch.apply(round) == 11]\n",
    "len(df)"
   ],
   "metadata": {
    "collapsed": false,
    "pycharm": {
     "name": "#%%\n"
    }
   }
  },
  {
   "cell_type": "code",
   "execution_count": 10,
   "outputs": [],
   "source": [
    "solo = df[df.teammates.apply(lambda x: len(x & friends) == 0)]\n",
    "premade = df[df.teammates.apply(lambda x: len(x & friends) != 0)]"
   ],
   "metadata": {
    "collapsed": false,
    "pycharm": {
     "name": "#%%\n"
    }
   }
  },
  {
   "cell_type": "code",
   "execution_count": 11,
   "outputs": [
    {
     "data": {
      "text/plain": "Win     51.5%\nLoss    48.5%\nName: win, dtype: object"
     },
     "execution_count": 11,
     "metadata": {},
     "output_type": "execute_result"
    }
   ],
   "source": [
    "wr(df)"
   ],
   "metadata": {
    "collapsed": false,
    "pycharm": {
     "name": "#%%\n"
    }
   }
  },
  {
   "cell_type": "code",
   "execution_count": 12,
   "outputs": [
    {
     "data": {
      "text/plain": "Win     51.4%\nLoss    48.6%\nName: win, dtype: object"
     },
     "execution_count": 12,
     "metadata": {},
     "output_type": "execute_result"
    }
   ],
   "source": [
    "wr(solo)"
   ],
   "metadata": {
    "collapsed": false,
    "pycharm": {
     "name": "#%%\n"
    }
   }
  },
  {
   "cell_type": "code",
   "execution_count": 13,
   "outputs": [
    {
     "data": {
      "text/plain": "Win     56.5%\nLoss    43.5%\nName: win, dtype: object"
     },
     "execution_count": 13,
     "metadata": {},
     "output_type": "execute_result"
    }
   ],
   "source": [
    "wr(premade)"
   ],
   "metadata": {
    "collapsed": false,
    "pycharm": {
     "name": "#%%\n"
    }
   }
  },
  {
   "cell_type": "code",
   "execution_count": 14,
   "outputs": [
    {
     "data": {
      "text/plain": "            wins  losses  total    wr\nThresh        13     2.0   15.0  87.0\nNasus          5     1.0    6.0  83.0\nDarius         8     2.0   10.0  80.0\nGalio          4     1.0    5.0  80.0\nCassiopeia     7     2.0    9.0  78.0\n...          ...     ...    ...   ...\nTaric          1     3.0    4.0  25.0\nLee Sin        3    10.0   13.0  23.0\nSenna          2     8.0   10.0  20.0\nSylas          1     4.0    5.0  20.0\nDr. Mundo      1     4.0    5.0  20.0\n\n[79 rows x 4 columns]",
      "text/html": "<div>\n<style scoped>\n    .dataframe tbody tr th:only-of-type {\n        vertical-align: middle;\n    }\n\n    .dataframe tbody tr th {\n        vertical-align: top;\n    }\n\n    .dataframe thead th {\n        text-align: right;\n    }\n</style>\n<table border=\"1\" class=\"dataframe\">\n  <thead>\n    <tr style=\"text-align: right;\">\n      <th></th>\n      <th>wins</th>\n      <th>losses</th>\n      <th>total</th>\n      <th>wr</th>\n    </tr>\n  </thead>\n  <tbody>\n    <tr>\n      <th>Thresh</th>\n      <td>13</td>\n      <td>2.0</td>\n      <td>15.0</td>\n      <td>87.0</td>\n    </tr>\n    <tr>\n      <th>Nasus</th>\n      <td>5</td>\n      <td>1.0</td>\n      <td>6.0</td>\n      <td>83.0</td>\n    </tr>\n    <tr>\n      <th>Darius</th>\n      <td>8</td>\n      <td>2.0</td>\n      <td>10.0</td>\n      <td>80.0</td>\n    </tr>\n    <tr>\n      <th>Galio</th>\n      <td>4</td>\n      <td>1.0</td>\n      <td>5.0</td>\n      <td>80.0</td>\n    </tr>\n    <tr>\n      <th>Cassiopeia</th>\n      <td>7</td>\n      <td>2.0</td>\n      <td>9.0</td>\n      <td>78.0</td>\n    </tr>\n    <tr>\n      <th>...</th>\n      <td>...</td>\n      <td>...</td>\n      <td>...</td>\n      <td>...</td>\n    </tr>\n    <tr>\n      <th>Taric</th>\n      <td>1</td>\n      <td>3.0</td>\n      <td>4.0</td>\n      <td>25.0</td>\n    </tr>\n    <tr>\n      <th>Lee Sin</th>\n      <td>3</td>\n      <td>10.0</td>\n      <td>13.0</td>\n      <td>23.0</td>\n    </tr>\n    <tr>\n      <th>Senna</th>\n      <td>2</td>\n      <td>8.0</td>\n      <td>10.0</td>\n      <td>20.0</td>\n    </tr>\n    <tr>\n      <th>Sylas</th>\n      <td>1</td>\n      <td>4.0</td>\n      <td>5.0</td>\n      <td>20.0</td>\n    </tr>\n    <tr>\n      <th>Dr. Mundo</th>\n      <td>1</td>\n      <td>4.0</td>\n      <td>5.0</td>\n      <td>20.0</td>\n    </tr>\n  </tbody>\n</table>\n<p>79 rows × 4 columns</p>\n</div>"
     },
     "execution_count": 14,
     "metadata": {},
     "output_type": "execute_result"
    }
   ],
   "source": [
    "wl = pd.DataFrame()\n",
    "\n",
    "wl[\"wins\"] = df[df.win == True].summoner.apply(lambda x: x.champion).value_counts()\n",
    "wl[\"losses\"] = df[df.win == False].summoner.apply(lambda x: x.champion).value_counts()\n",
    "wl[\"losses\"].fillna(value=0, inplace=True)\n",
    "wl[\"total\"] = wl.losses + wl.wins\n",
    "wl[\"wr\"] = round(wl.wins / wl.total, 2) * 100\n",
    "\n",
    "wl[wl.total > 3].sort_values(by=[\"wr\", \"total\"], ascending=False)"
   ],
   "metadata": {
    "collapsed": false,
    "pycharm": {
     "name": "#%%\n"
    }
   }
  },
  {
   "cell_type": "code",
   "execution_count": 15,
   "outputs": [],
   "source": [
    "adc_games = df[df.teamcomp.apply(lambda x: len(x & adc) != 0)]\n",
    "no_adc_games = df[df.teamcomp.apply(lambda x: len(x & adc) == 0)]"
   ],
   "metadata": {
    "collapsed": false,
    "pycharm": {
     "name": "#%%\n"
    }
   }
  },
  {
   "cell_type": "code",
   "execution_count": 16,
   "outputs": [
    {
     "name": "stdout",
     "output_type": "stream",
     "text": [
      "651\n"
     ]
    },
    {
     "data": {
      "text/plain": "Win     54.4%\nLoss    45.6%\nName: win, dtype: object"
     },
     "execution_count": 16,
     "metadata": {},
     "output_type": "execute_result"
    }
   ],
   "source": [
    "print(len(adc_games))\n",
    "wr(adc_games)"
   ],
   "metadata": {
    "collapsed": false,
    "pycharm": {
     "name": "#%%\n"
    }
   }
  },
  {
   "cell_type": "code",
   "execution_count": 17,
   "outputs": [
    {
     "name": "stdout",
     "output_type": "stream",
     "text": [
      "156\n"
     ]
    },
    {
     "data": {
      "text/plain": "Win     39.7%\nLoss    60.3%\nName: win, dtype: object"
     },
     "execution_count": 17,
     "metadata": {},
     "output_type": "execute_result"
    }
   ],
   "source": [
    "print(len(no_adc_games))\n",
    "wr(no_adc_games)"
   ],
   "metadata": {
    "collapsed": false,
    "pycharm": {
     "name": "#%%\n"
    }
   }
  },
  {
   "cell_type": "code",
   "execution_count": 18,
   "outputs": [
    {
     "data": {
      "text/plain": "<AxesSubplot:xlabel='duration', ylabel='Count'>"
     },
     "execution_count": 18,
     "metadata": {},
     "output_type": "execute_result"
    },
    {
     "data": {
      "text/plain": "<Figure size 432x288 with 1 Axes>",
      "image/png": "[encoded data removed]"
     },
     "metadata": {
      "needs_background": "light"
     },
     "output_type": "display_data"
    }
   ],
   "source": [
    "sns.histplot(df[[\"duration\",\"win\"]], x=\"duration\", hue=\"win\", element=\"step\",kde=True)\n"
   ],
   "metadata": {
    "collapsed": false,
    "pycharm": {
     "name": "#%%\n"
    }
   }
  },
  {
   "cell_type": "markdown",
   "source": [
    "#### Win Time distribution"
   ],
   "metadata": {
    "collapsed": false,
    "pycharm": {
     "name": "#%% md\n"
    }
   }
  },
  {
   "cell_type": "code",
   "execution_count": 19,
   "outputs": [
    {
     "data": {
      "text/plain": "mean    18m 26s\nstd       4m 9s\nmin      10m 4s\n25%     15m 23s\n50%     18m 16s\n75%      21m 6s\nmax     32m 18s\nName: duration, dtype: object"
     },
     "execution_count": 19,
     "metadata": {},
     "output_type": "execute_result"
    }
   ],
   "source": [
    "df[df.win == True].duration.describe().drop(\"count\").apply(lambda x: str(int(x // 60))+\"m \"+str(int(x%60))+\"s\")"
   ],
   "metadata": {
    "collapsed": false,
    "pycharm": {
     "name": "#%%\n"
    }
   }
  },
  {
   "cell_type": "markdown",
   "source": [
    "#### Loss Time distribution"
   ],
   "metadata": {
    "collapsed": false,
    "pycharm": {
     "name": "#%% md\n"
    }
   }
  },
  {
   "cell_type": "code",
   "execution_count": 20,
   "outputs": [
    {
     "data": {
      "text/plain": "mean    18m 50s\nstd      3m 53s\nmin      6m 38s\n25%     16m 30s\n50%     18m 41s\n75%      21m 9s\nmax     30m 51s\nName: duration, dtype: object"
     },
     "execution_count": 20,
     "metadata": {},
     "output_type": "execute_result"
    }
   ],
   "source": [
    "df[df.win == False].duration.describe().drop(\"count\").apply(lambda x: str(int(x // 60))+\"m \"+str(int(x%60))+\"s\")"
   ],
   "metadata": {
    "collapsed": false,
    "pycharm": {
     "name": "#%%\n"
    }
   }
  },
  {
   "cell_type": "code",
   "execution_count": 21,
   "outputs": [
    {
     "data": {
      "text/plain": "[('dirty doughnut', 807),\n ('evian ice', 385),\n ('phill or pheed', 104),\n ('milo dinosaur', 85),\n ('big benis boy', 69),\n ('mizero1', 59),\n ('diehardorgohome', 23),\n ('rdinho9', 20),\n ('dodge down', 14),\n ('amenadiel', 13),\n ('a0garen0a', 10),\n ('grace', 8),\n ('amedrash', 6),\n ('derroz', 5),\n ('yze', 5),\n ('brightest flame4', 5),\n ('angela 77', 5),\n ('cloudlightfellow', 4),\n ('father relax', 4),\n ('the ibaggins', 4),\n ('vitaminalpha', 4),\n ('top8 always', 4),\n ('rockingbanana', 4),\n ('quiexent', 4),\n ('lychguard', 4),\n ('annïe', 3),\n ('isogay', 3),\n ('tilltheday', 3),\n ('closetochuck', 3),\n ('jakedaddydad', 3),\n ('uwuwuwuwwuwuwuw', 3),\n ('johnlegends1000', 3),\n ('mafewma', 3),\n ('sem3nspreader', 3),\n ('gotta let me fly', 3),\n ('clifer', 3),\n ('omar zi savage', 3),\n ('trashaim', 3),\n ('alphazhu', 3),\n ('c bal', 3),\n ('hide above bush1', 3),\n ('fruittartare', 3),\n ('viideojames', 3),\n ('cheez wolf', 3),\n ('zoomer darius', 3),\n ('kurokos penguin', 3),\n ('toneenot', 3),\n ('douchepouche', 3),\n ('stable old dog', 3),\n ('l abaddon l', 3)]"
     },
     "execution_count": 21,
     "metadata": {},
     "output_type": "execute_result"
    }
   ],
   "source": [
    "from collections import Counter\n",
    "\n",
    "Counter(df.teammates.apply(list).sum()).most_common()[:50]"
   ],
   "metadata": {
    "collapsed": false,
    "pycharm": {
     "name": "#%%\n"
    }
   }
  },
  {
   "cell_type": "code",
   "execution_count": 22,
   "outputs": [
    {
     "data": {
      "text/plain": "Win     56.8%\nLoss    43.2%\nName: win, dtype: object"
     },
     "execution_count": 22,
     "metadata": {},
     "output_type": "execute_result"
    }
   ],
   "source": [
    "wr(df[df.teamcomp.apply(lambda x: \"Yasuo\" in  x)])"
   ],
   "metadata": {
    "collapsed": false,
    "pycharm": {
     "name": "#%%\n"
    }
   }
  },
  {
   "cell_type": "code",
   "execution_count": 23,
   "outputs": [
    {
     "name": "stdout",
     "output_type": "stream",
     "text": [
      "With adc winrate: 54.68%\n",
      "No adc winrate: 51.9%\n",
      "\n"
     ]
    }
   ],
   "source": [
    "# win_rate(data)\n",
    "# champ_winrate(data)\n",
    "# champ_kda(robb, Aram_Data)\n",
    "# kda(Aram_Data)\n",
    "# kp(Aram_Data)\n",
    "# common_teammates(Aram_Data)\n",
    "# multikills(Aram_Data)\n",
    "# items(Aram_Data)\n",
    "adc_winrate(data)\n",
    "# time_played(Aram_Data)\n",
    "# win_rate_with(thomas, Aram_Data)\n",
    "# time_distribution(robb, data)\n",
    "\n",
    "\n",
    "# a  = dill.load(open(\"Aram_Data_New.pickle\", \"rb\"))\n",
    "# print(a[0].summoner.stats.first_inhibitor_kill)"
   ],
   "metadata": {
    "collapsed": false,
    "pycharm": {
     "name": "#%%\n"
    }
   }
  },
  {
   "cell_type": "code",
   "execution_count": 23,
   "outputs": [],
   "source": [],
   "metadata": {
    "collapsed": false,
    "pycharm": {
     "name": "#%%\n"
    }
   }
  }
 ],
 "metadata": {
  "kernelspec": {
   "display_name": "Python 3",
   "language": "python",
   "name": "python3"
  },
  "language_info": {
   "codemirror_mode": {
    "name": "ipython",
    "version": 2
   },
   "file_extension": ".py",
   "mimetype": "text/x-python",
   "name": "python",
   "nbconvert_exporter": "python",
   "pygments_lexer": "ipython2",
   "version": "2.7.6"
  }
 },
 "nbformat": 4,
 "nbformat_minor": 0
}